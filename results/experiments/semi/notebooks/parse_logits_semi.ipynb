{
 "cells": [
  {
   "cell_type": "markdown",
   "metadata": {},
   "source": [
    "# Import"
   ]
  },
  {
   "cell_type": "code",
   "execution_count": 1,
   "metadata": {},
   "outputs": [],
   "source": [
    "import numpy as np\n",
    "import pandas as pd\n",
    "import os\n",
    "from tqdm import tqdm\n",
    "import cv2\n",
    "import matplotlib.pyplot as plt\n",
    "from PIL import Image\n",
    "\n",
    "import clip\n",
    "import torch"
   ]
  },
  {
   "cell_type": "markdown",
   "metadata": {},
   "source": [
    "# Define variables"
   ]
  },
  {
   "cell_type": "code",
   "execution_count": 2,
   "metadata": {},
   "outputs": [],
   "source": [
    "model_names = [\"Vilt\", \"Blip_large\", \"GiT_base\", \"GiT_large\"] # skip , \"Blip_base\"\n",
    "\n",
    "image_names = [\"Gaussian_5_2\", \"Gaussian_5_3\", \"Gaussian_5_4\", \"Gaussian_5_5\",\n",
    "               \"white_house_brown_cat\", \"white_house_brown_cow\", \"white_house_brown_dog\", \"white_house_brown_horse\",\n",
    "               \"white_house_green_cat\", \"white_house_green_unknown\",\n",
    "               \"white_house_pink_cow\", \"white_house_pink_unknown\",\n",
    "               \"white_house_purple_dog\", \"white_house_purple_horse\",\n",
    "               \"white_house_red_duck\", \"white_house_red_unknown\",\n",
    "               \"white_house_yellow_unknown\"]\n",
    "\n",
    "# image_difficulty = {\"Gaussian_5_2\":1, \"Gaussian_5_3\":1, \"Gaussian_5_4\":1, \"Gaussian_5_5\":1,\n",
    "#                     \"white_house_brown_cat\":0, \"white_house_brown_cow\":0, \"white_house_brown_dog\":0, \"white_house_brown_horse\":0,\n",
    "#                     \"white_house_green_cat\":0.5, \"white_house_green_unknown\":0.5,\n",
    "#                     \"white_house_pink_cow\":0.5, \"white_house_pink_unknown\":0.5,\n",
    "#                     \"white_house_purple_dog\":0.5, \"white_house_purple_horse\":0.5,\n",
    "#                     \"white_house_red_duck\":0.5, \"white_house_red_unknown\":0.5,\n",
    "#                     \"white_house_yellow_unknown\":0.5}\n",
    "# image_names = list(image_difficulty.keys())\n",
    "\n",
    "model_type = \"VQA\"\n",
    "\n",
    "criteria = [\"image_type\", \"used_language\", \"specificity\", \"question_length\", \"complexity\", \"image_relatedness\"]\n",
    "major_criteria = [\"image_difficulty\", \"used_language\", \"image_relatedness\"]\n",
    "fixed_cols = [\"question\", \"answer_gt\"] + criteria"
   ]
  },
  {
   "cell_type": "code",
   "execution_count": 3,
   "metadata": {},
   "outputs": [
    {
     "data": {
      "text/plain": [
       "['question',\n",
       " 'answer_gt',\n",
       " 'image_type',\n",
       " 'used_language',\n",
       " 'specificity',\n",
       " 'question_length',\n",
       " 'complexity',\n",
       " 'image_relatedness']"
      ]
     },
     "execution_count": 3,
     "metadata": {},
     "output_type": "execute_result"
    }
   ],
   "source": [
    "fixed_cols"
   ]
  },
  {
   "cell_type": "markdown",
   "metadata": {},
   "source": [
    "# Define functions"
   ]
  },
  {
   "cell_type": "markdown",
   "metadata": {},
   "source": [
    "## General"
   ]
  },
  {
   "cell_type": "code",
   "execution_count": 4,
   "metadata": {},
   "outputs": [],
   "source": [
    "def T_1(logits):\n",
    "  N = len(logits)\n",
    "  x_max, x_min = np.max(logits), np.min(logits)\n",
    "  return (x_max-x_min)/np.log(N)\n",
    "\n",
    "def T_2(logits_list, epsilon):\n",
    "  t_min_list = list()\n",
    "  for logits in logits_list:\n",
    "    t_min = list()\n",
    "    for logit in logits:\n",
    "      x_max, x_min = np.max(logit), np.min(logit)\n",
    "      t_temp = (x_max-x_min)/np.log(1+epsilon)\n",
    "      t_min.append(t_temp)\n",
    "    t_min_list.append(np.min(t_min)) \n",
    "  return np.min(t_min_list)\n",
    "\n",
    "def softmax_stable(x, T=1):\n",
    "  return (np.exp((x - np.max(x))/T) / np.exp((x - np.max(x))/T).sum())\n",
    "\n",
    "def D_to_T(D=0, D_min=0, D_max=1, T_min=1, T_max=1000):\n",
    "  return ((D-D_min)*(T_max-T_min)/(D_max-D_min))+T_min\n",
    "\n",
    "def Diff_score(question_scores=dict(), image_scores=dict(), relatedness_scores=dict(), major=list(), type_=1):\n",
    "  D_all, D_i, D_t, D_r = 0, 0, 0, 0\n",
    "  Ds = list()\n",
    "\n",
    "  D_i = criteria_score(image_scores, major)\n",
    "  Ds.append(D_i)\n",
    "  if question_scores and relatedness_scores:\n",
    "    D_t = criteria_score(question_scores, major)\n",
    "    D_r = criteria_score(relatedness_scores, major)\n",
    "    Ds.extend([D_t, D_r])\n",
    "  if (type_==2) and (np.max(Ds)==1):\n",
    "    D_all = 1\n",
    "  elif type_==1:\n",
    "    D_all = np.mean(Ds)\n",
    "  return D_all\n",
    "\n",
    "def criteria_score(criteria_dict=dict(), major=list()):\n",
    "  sum = 0\n",
    "  for item, score in criteria_dict.items():\n",
    "    if (item in major) and (score==1): return 1\n",
    "    sum += score\n",
    "  return sum/(len(criteria_dict))"
   ]
  },
  {
   "cell_type": "markdown",
   "metadata": {},
   "source": [
    "## Difficulty automatic calculation"
   ]
  },
  {
   "cell_type": "code",
   "execution_count": 5,
   "metadata": {},
   "outputs": [],
   "source": [
    "def encoded_length(image):\n",
    "    return len(cv2.imencode('.png',image, [int(cv2.IMWRITE_PNG_COMPRESSION),9])[1])\n",
    "\n",
    "def D_text(question):\n",
    "    pass\n",
    "\n",
    "def qst_length(question):\n",
    "    return len(question.split())\n",
    "\n",
    "def d_spec(question, nouns):\n",
    "    c = 2 # max number of nouns/adjectives in our case\n",
    "    for n in nouns:\n",
    "        if n in question: c-=1\n",
    "    return c\n",
    "\n",
    "import en_core_web_sm\n",
    "en_nlp = en_core_web_sm.load()\n",
    "def walk_tree(node, depth):\n",
    "    if node.n_lefts + node.n_rights > 0:\n",
    "        return max(walk_tree(child, depth + 1) for child in node.children)\n",
    "    else:\n",
    "        return depth\n",
    "\n",
    "def map_range(value, in_min, in_max, out_min, out_max):\n",
    "    if (in_min==0) and (in_max==0): return value\n",
    "    out_range = out_max - out_min\n",
    "    in_range = in_max - in_min\n",
    "    in_val = value - in_min\n",
    "    val=(float(in_val)/in_range)*out_range\n",
    "    out_val = out_min + val\n",
    "    return out_val\n",
    "\n",
    "def D_relatedness(image, question):\n",
    "    pass"
   ]
  },
  {
   "cell_type": "code",
   "execution_count": 6,
   "metadata": {},
   "outputs": [],
   "source": [
    "# Clip similarity functions\n",
    "clip_model, preprocess = clip.load(\"ViT-B/32\")\n",
    "\n",
    "def measure_similarity(item_1_features, item_2_features):\n",
    "    # item_1_features = extract_features(item_1)\n",
    "    # item_2_features = extract_features(item_2)\n",
    "    item_1_features /= item_1_features.norm(dim=-1, keepdim=True)\n",
    "    item_2_features /= item_2_features.norm(dim=-1, keepdim=True)\n",
    "    similarity = item_1_features.cpu().numpy() @ item_2_features.cpu().numpy().T\n",
    "    return 1-similarity[0][0] # less score for more similar\n",
    "\n",
    "def extract_features(item):\n",
    "    if isinstance(item, str): return extract_features_text(item)\n",
    "    return extract_features_image(item)\n",
    " \n",
    "def extract_features_image(image):\n",
    "    # image = (image*255).astype(np.uint8)    \n",
    "    image = Image.fromarray(image)\n",
    "    image = preprocess(image)\n",
    "    image = torch.tensor(np.expand_dims(image, axis=0))\n",
    "    with torch.no_grad():\n",
    "        image_features = clip_model.encode_image(image).float()\n",
    "    return image_features\n",
    "\n",
    "def extract_features_text(text):\n",
    "    text = clip.tokenize([text])\n",
    "    with torch.no_grad():\n",
    "        text_features = clip_model.encode_text(text).float()\n",
    "    return text_features"
   ]
  },
  {
   "cell_type": "markdown",
   "metadata": {},
   "source": [
    "# Create logits file"
   ]
  },
  {
   "cell_type": "code",
   "execution_count": 7,
   "metadata": {},
   "outputs": [],
   "source": [
    "# logits_dict = dict()\n",
    "\n",
    "# for model_name in tqdm(model_names):\n",
    "#   model_dict = dict()\n",
    "#   for image_name in image_names:\n",
    "#     results_path = f\"./{model_name}/\"\n",
    "#     file_name = f\"{model_type}_{model_name}_{image_name}\"\n",
    "#     results_path = results_path + file_name + \".npy\"\n",
    "#     if not os.path.isfile(results_path): f\"!!! Warning: No file !!!\\n{file_name} file is not available!\"\n",
    "#     l = np.load(results_path, allow_pickle=True)\n",
    "#     model_dict[image_name] = l.copy()\n",
    "#   logits_dict[model_name] = model_dict.copy()"
   ]
  },
  {
   "cell_type": "code",
   "execution_count": 8,
   "metadata": {},
   "outputs": [],
   "source": [
    "# np_logits_file_path = f\"./{model_type}_test_logits.npy\"\n",
    "# np.save(np_logits_file_path, logits_dict)"
   ]
  },
  {
   "cell_type": "markdown",
   "metadata": {},
   "source": [
    "# Read logits file"
   ]
  },
  {
   "cell_type": "code",
   "execution_count": 9,
   "metadata": {},
   "outputs": [
    {
     "data": {
      "text/plain": [
       "dict_keys(['Vilt', 'Blip_base', 'Blip_large', 'GiT_base', 'GiT_large'])"
      ]
     },
     "execution_count": 9,
     "metadata": {},
     "output_type": "execute_result"
    }
   ],
   "source": [
    "np_logits_file_path = f\"./{model_type}_test_logits.npy\"\n",
    "logits_dict = np.load(np_logits_file_path, allow_pickle=True).item()\n",
    "logits_dict.keys()"
   ]
  },
  {
   "cell_type": "code",
   "execution_count": 10,
   "metadata": {},
   "outputs": [
    {
     "name": "stdout",
     "output_type": "stream",
     "text": [
      "{'Vilt': 3129, 'Blip_large': 30524, 'GiT_base': 30522, 'GiT_large': 30522}\n"
     ]
    }
   ],
   "source": [
    "N_dict = dict()\n",
    "for m in model_names:\n",
    "    N_dict[m] = len(logits_dict[m][\"Gaussian_5_2\"][0][0])\n",
    "del m\n",
    "\n",
    "print(N_dict)"
   ]
  },
  {
   "cell_type": "markdown",
   "metadata": {},
   "source": [
    "# Create results df and file"
   ]
  },
  {
   "cell_type": "markdown",
   "metadata": {},
   "source": [
    "## Results df"
   ]
  },
  {
   "cell_type": "code",
   "execution_count": 11,
   "metadata": {},
   "outputs": [],
   "source": [
    "# model_type = \"VQA\"\n",
    "\n",
    "# all_results_df = pd.DataFrame()\n",
    "\n",
    "# for image_name in tqdm(image_names):\n",
    "#   image_df = pd.DataFrame()\n",
    "#   new_image = True\n",
    "  \n",
    "#   for model_name in model_names:\n",
    "#     results_path = f\".//{model_name}/\"\n",
    "#     file_name = f\"{model_type}_{model_name}_{image_name}\"\n",
    "#     results_path = results_path + file_name + \".xlsx\"\n",
    "#     if not os.path.isfile(results_path): f\"!!! Warning: No file !!!\\n{file_name} sheet is not available!\"\n",
    "#     usecols=\"B:M\" if new_image else \"J:M\"\n",
    "#     df = pd.read_excel(results_path, sheet_name='answers', usecols=usecols)\n",
    "#     for c in df.columns:\n",
    "#       # if (\"question\" in c) or (\"gt\" in c): new_col_name = c\n",
    "#       if c in set(fixed_cols): new_col_name = c\n",
    "#       else: new_col_name = f\"{model_name}_{c}\"\n",
    "#       image_df[new_col_name] = df[c]\n",
    "#     new_image = False\n",
    "#     # columns = [f\"{model_name}_{c}\" for c in df.columns]\n",
    "#     # df.columns = columns.copy()\n",
    "#     # image_df.concat([image_df, df], axis=1)\n",
    "#   image_name_col = [image_name for _ in range(len(image_df))]\n",
    "#   image_df.insert(loc=0, column='image_name', value=image_name_col)\n",
    "#   all_results_df = pd.concat([all_results_df, image_df], ignore_index = True)\n",
    "\n",
    "# all_results_df.to_excel(f\"./{model_type}_test_answers.xlsx\", sheet_name=f\"{model_type}_answers\")"
   ]
  },
  {
   "cell_type": "code",
   "execution_count": 12,
   "metadata": {},
   "outputs": [],
   "source": [
    "all_results_df = pd.read_excel(f\"./all_excels/{model_type}_test_answers.xlsx\", sheet_name=f\"{model_type}_answers\")"
   ]
  },
  {
   "cell_type": "code",
   "execution_count": 13,
   "metadata": {},
   "outputs": [
    {
     "data": {
      "text/plain": [
       "3569"
      ]
     },
     "execution_count": 13,
     "metadata": {},
     "output_type": "execute_result"
    }
   ],
   "source": [
    "len(all_results_df)"
   ]
  },
  {
   "cell_type": "code",
   "execution_count": 14,
   "metadata": {},
   "outputs": [
    {
     "name": "stdout",
     "output_type": "stream",
     "text": [
      "3569\n"
     ]
    },
    {
     "data": {
      "text/html": [
       "<div>\n",
       "<style scoped>\n",
       "    .dataframe tbody tr th:only-of-type {\n",
       "        vertical-align: middle;\n",
       "    }\n",
       "\n",
       "    .dataframe tbody tr th {\n",
       "        vertical-align: top;\n",
       "    }\n",
       "\n",
       "    .dataframe thead th {\n",
       "        text-align: right;\n",
       "    }\n",
       "</style>\n",
       "<table border=\"1\" class=\"dataframe\">\n",
       "  <thead>\n",
       "    <tr style=\"text-align: right;\">\n",
       "      <th></th>\n",
       "      <th>Unnamed: 0</th>\n",
       "      <th>image_name</th>\n",
       "      <th>image_type</th>\n",
       "      <th>used_language</th>\n",
       "      <th>specificity</th>\n",
       "      <th>question_length</th>\n",
       "      <th>complexity</th>\n",
       "      <th>image_relatedness</th>\n",
       "      <th>question</th>\n",
       "      <th>answer_gt</th>\n",
       "      <th>...</th>\n",
       "      <th>Blip_large_correct</th>\n",
       "      <th>Blip_large_no_tokens</th>\n",
       "      <th>GiT_base_full_answer</th>\n",
       "      <th>GiT_base_clean_answer</th>\n",
       "      <th>GiT_base_correct</th>\n",
       "      <th>GiT_base_no_tokens</th>\n",
       "      <th>GiT_large_full_answer</th>\n",
       "      <th>GiT_large_clean_answer</th>\n",
       "      <th>GiT_large_correct</th>\n",
       "      <th>GiT_large_no_tokens</th>\n",
       "    </tr>\n",
       "  </thead>\n",
       "  <tbody>\n",
       "    <tr>\n",
       "      <th>0</th>\n",
       "      <td>0</td>\n",
       "      <td>Gaussian_5_2</td>\n",
       "      <td>1</td>\n",
       "      <td>0</td>\n",
       "      <td>1</td>\n",
       "      <td>0.0</td>\n",
       "      <td>0.0</td>\n",
       "      <td>0.0</td>\n",
       "      <td>what is in the image?</td>\n",
       "      <td>random+noise+nothing+t know+not sure+unknown+c...</td>\n",
       "      <td>...</td>\n",
       "      <td>0</td>\n",
       "      <td>2</td>\n",
       "      <td>[CLS]  wallpaper [SEP]</td>\n",
       "      <td>wallpaper</td>\n",
       "      <td>0</td>\n",
       "      <td>3</td>\n",
       "      <td>[CLS]  nothing [SEP]</td>\n",
       "      <td>nothing</td>\n",
       "      <td>1</td>\n",
       "      <td>2</td>\n",
       "    </tr>\n",
       "    <tr>\n",
       "      <th>1</th>\n",
       "      <td>1</td>\n",
       "      <td>Gaussian_5_2</td>\n",
       "      <td>1</td>\n",
       "      <td>0</td>\n",
       "      <td>1</td>\n",
       "      <td>0.0</td>\n",
       "      <td>0.0</td>\n",
       "      <td>0.0</td>\n",
       "      <td>what is the dominant color of the image?</td>\n",
       "      <td>color+gray+grey+nothing+t know+not sure+unknow...</td>\n",
       "      <td>...</td>\n",
       "      <td>1</td>\n",
       "      <td>2</td>\n",
       "      <td>[CLS]  gray [SEP]</td>\n",
       "      <td>gray</td>\n",
       "      <td>1</td>\n",
       "      <td>2</td>\n",
       "      <td>[CLS]  gray [SEP]</td>\n",
       "      <td>gray</td>\n",
       "      <td>1</td>\n",
       "      <td>2</td>\n",
       "    </tr>\n",
       "    <tr>\n",
       "      <th>2</th>\n",
       "      <td>2</td>\n",
       "      <td>Gaussian_5_2</td>\n",
       "      <td>1</td>\n",
       "      <td>0</td>\n",
       "      <td>1</td>\n",
       "      <td>0.0</td>\n",
       "      <td>0.0</td>\n",
       "      <td>0.0</td>\n",
       "      <td>what does the image represent?</td>\n",
       "      <td>random+noise+nothing+t know+not sure+unknown+c...</td>\n",
       "      <td>...</td>\n",
       "      <td>0</td>\n",
       "      <td>2</td>\n",
       "      <td>[CLS]  wallpaper [SEP]</td>\n",
       "      <td>wallpaper</td>\n",
       "      <td>0</td>\n",
       "      <td>3</td>\n",
       "      <td>[CLS]  no [SEP]</td>\n",
       "      <td>no</td>\n",
       "      <td>0</td>\n",
       "      <td>2</td>\n",
       "    </tr>\n",
       "    <tr>\n",
       "      <th>3</th>\n",
       "      <td>3</td>\n",
       "      <td>Gaussian_5_2</td>\n",
       "      <td>1</td>\n",
       "      <td>0</td>\n",
       "      <td>1</td>\n",
       "      <td>0.0</td>\n",
       "      <td>0.0</td>\n",
       "      <td>0.0</td>\n",
       "      <td>why is the image random?</td>\n",
       "      <td>random+t know+not sure+unknown+can't tell+none...</td>\n",
       "      <td>...</td>\n",
       "      <td>0</td>\n",
       "      <td>5</td>\n",
       "      <td>[CLS]  it's not [SEP]</td>\n",
       "      <td>it's not</td>\n",
       "      <td>0</td>\n",
       "      <td>5</td>\n",
       "      <td>[CLS]  it's not [SEP]</td>\n",
       "      <td>it's not</td>\n",
       "      <td>0</td>\n",
       "      <td>5</td>\n",
       "    </tr>\n",
       "    <tr>\n",
       "      <th>4</th>\n",
       "      <td>4</td>\n",
       "      <td>Gaussian_5_2</td>\n",
       "      <td>1</td>\n",
       "      <td>0</td>\n",
       "      <td>1</td>\n",
       "      <td>0.0</td>\n",
       "      <td>0.0</td>\n",
       "      <td>0.0</td>\n",
       "      <td>why aren't there any objects in the image?</td>\n",
       "      <td>random+noise+t know+not sure+unknown+can't tel...</td>\n",
       "      <td>...</td>\n",
       "      <td>0</td>\n",
       "      <td>3</td>\n",
       "      <td>[CLS]  they are in this picture [SEP]</td>\n",
       "      <td>they are in this picture</td>\n",
       "      <td>0</td>\n",
       "      <td>6</td>\n",
       "      <td>[CLS]  they are not [SEP]</td>\n",
       "      <td>they are not</td>\n",
       "      <td>0</td>\n",
       "      <td>4</td>\n",
       "    </tr>\n",
       "  </tbody>\n",
       "</table>\n",
       "<p>5 rows × 26 columns</p>\n",
       "</div>"
      ],
      "text/plain": [
       "   Unnamed: 0    image_name  image_type  used_language  specificity  \\\n",
       "0           0  Gaussian_5_2           1              0            1   \n",
       "1           1  Gaussian_5_2           1              0            1   \n",
       "2           2  Gaussian_5_2           1              0            1   \n",
       "3           3  Gaussian_5_2           1              0            1   \n",
       "4           4  Gaussian_5_2           1              0            1   \n",
       "\n",
       "   question_length  complexity  image_relatedness  \\\n",
       "0              0.0         0.0                0.0   \n",
       "1              0.0         0.0                0.0   \n",
       "2              0.0         0.0                0.0   \n",
       "3              0.0         0.0                0.0   \n",
       "4              0.0         0.0                0.0   \n",
       "\n",
       "                                     question  \\\n",
       "0                       what is in the image?   \n",
       "1    what is the dominant color of the image?   \n",
       "2              what does the image represent?   \n",
       "3                    why is the image random?   \n",
       "4  why aren't there any objects in the image?   \n",
       "\n",
       "                                           answer_gt  ... Blip_large_correct  \\\n",
       "0  random+noise+nothing+t know+not sure+unknown+c...  ...                  0   \n",
       "1  color+gray+grey+nothing+t know+not sure+unknow...  ...                  1   \n",
       "2  random+noise+nothing+t know+not sure+unknown+c...  ...                  0   \n",
       "3  random+t know+not sure+unknown+can't tell+none...  ...                  0   \n",
       "4  random+noise+t know+not sure+unknown+can't tel...  ...                  0   \n",
       "\n",
       "  Blip_large_no_tokens                   GiT_base_full_answer  \\\n",
       "0                    2                 [CLS]  wallpaper [SEP]   \n",
       "1                    2                      [CLS]  gray [SEP]   \n",
       "2                    2                 [CLS]  wallpaper [SEP]   \n",
       "3                    5                  [CLS]  it's not [SEP]   \n",
       "4                    3  [CLS]  they are in this picture [SEP]   \n",
       "\n",
       "      GiT_base_clean_answer GiT_base_correct GiT_base_no_tokens  \\\n",
       "0                 wallpaper                0                  3   \n",
       "1                      gray                1                  2   \n",
       "2                 wallpaper                0                  3   \n",
       "3                  it's not                0                  5   \n",
       "4  they are in this picture                0                  6   \n",
       "\n",
       "       GiT_large_full_answer  GiT_large_clean_answer GiT_large_correct  \\\n",
       "0       [CLS]  nothing [SEP]                 nothing                 1   \n",
       "1          [CLS]  gray [SEP]                    gray                 1   \n",
       "2            [CLS]  no [SEP]                      no                 0   \n",
       "3      [CLS]  it's not [SEP]                it's not                 0   \n",
       "4  [CLS]  they are not [SEP]            they are not                 0   \n",
       "\n",
       "  GiT_large_no_tokens  \n",
       "0                   2  \n",
       "1                   2  \n",
       "2                   2  \n",
       "3                   5  \n",
       "4                   4  \n",
       "\n",
       "[5 rows x 26 columns]"
      ]
     },
     "execution_count": 14,
     "metadata": {},
     "output_type": "execute_result"
    }
   ],
   "source": [
    "print(len(all_results_df))\n",
    "all_results_df.head()"
   ]
  },
  {
   "cell_type": "markdown",
   "metadata": {},
   "source": [
    "## Original questions"
   ]
  },
  {
   "cell_type": "code",
   "execution_count": 15,
   "metadata": {},
   "outputs": [
    {
     "data": {
      "text/html": [
       "<div>\n",
       "<style scoped>\n",
       "    .dataframe tbody tr th:only-of-type {\n",
       "        vertical-align: middle;\n",
       "    }\n",
       "\n",
       "    .dataframe tbody tr th {\n",
       "        vertical-align: top;\n",
       "    }\n",
       "\n",
       "    .dataframe thead th {\n",
       "        text-align: right;\n",
       "    }\n",
       "</style>\n",
       "<table border=\"1\" class=\"dataframe\">\n",
       "  <thead>\n",
       "    <tr style=\"text-align: right;\">\n",
       "      <th></th>\n",
       "      <th>image_type</th>\n",
       "      <th>used_language</th>\n",
       "      <th>specificity</th>\n",
       "      <th>question_length</th>\n",
       "      <th>complexity</th>\n",
       "      <th>image_relatedness</th>\n",
       "      <th>question</th>\n",
       "      <th>answer_gt</th>\n",
       "    </tr>\n",
       "  </thead>\n",
       "  <tbody>\n",
       "    <tr>\n",
       "      <th>0</th>\n",
       "      <td>0</td>\n",
       "      <td>0</td>\n",
       "      <td>0</td>\n",
       "      <td>0.0</td>\n",
       "      <td>0.0</td>\n",
       "      <td>0.0</td>\n",
       "      <td>what is the color1 object?</td>\n",
       "      <td>object1</td>\n",
       "    </tr>\n",
       "    <tr>\n",
       "      <th>1</th>\n",
       "      <td>0</td>\n",
       "      <td>0</td>\n",
       "      <td>0</td>\n",
       "      <td>0.0</td>\n",
       "      <td>0.0</td>\n",
       "      <td>0.0</td>\n",
       "      <td>what is in the image with the object1?</td>\n",
       "      <td>object2+sky</td>\n",
       "    </tr>\n",
       "    <tr>\n",
       "      <th>2</th>\n",
       "      <td>0</td>\n",
       "      <td>0</td>\n",
       "      <td>0</td>\n",
       "      <td>0.0</td>\n",
       "      <td>0.0</td>\n",
       "      <td>0.0</td>\n",
       "      <td>what is in the image with the object2?</td>\n",
       "      <td>object1+sky</td>\n",
       "    </tr>\n",
       "    <tr>\n",
       "      <th>3</th>\n",
       "      <td>0</td>\n",
       "      <td>0</td>\n",
       "      <td>0</td>\n",
       "      <td>0.0</td>\n",
       "      <td>0.0</td>\n",
       "      <td>0.0</td>\n",
       "      <td>what is the object1's color in the image?</td>\n",
       "      <td>color1</td>\n",
       "    </tr>\n",
       "    <tr>\n",
       "      <th>4</th>\n",
       "      <td>0</td>\n",
       "      <td>0</td>\n",
       "      <td>0</td>\n",
       "      <td>0.0</td>\n",
       "      <td>0.0</td>\n",
       "      <td>0.0</td>\n",
       "      <td>what is the object2's color in the image?</td>\n",
       "      <td>color2</td>\n",
       "    </tr>\n",
       "  </tbody>\n",
       "</table>\n",
       "</div>"
      ],
      "text/plain": [
       "   image_type  used_language  specificity  question_length  complexity  \\\n",
       "0           0              0            0              0.0         0.0   \n",
       "1           0              0            0              0.0         0.0   \n",
       "2           0              0            0              0.0         0.0   \n",
       "3           0              0            0              0.0         0.0   \n",
       "4           0              0            0              0.0         0.0   \n",
       "\n",
       "   image_relatedness                                   question    answer_gt  \n",
       "0                0.0                 what is the color1 object?      object1  \n",
       "1                0.0     what is in the image with the object1?  object2+sky  \n",
       "2                0.0     what is in the image with the object2?  object1+sky  \n",
       "3                0.0  what is the object1's color in the image?       color1  \n",
       "4                0.0  what is the object2's color in the image?       color2  "
      ]
     },
     "execution_count": 15,
     "metadata": {},
     "output_type": "execute_result"
    }
   ],
   "source": [
    "original_qsts = pd.read_excel(\"./qsts_original.xlsx\", sheet_name=\"qsts_original\")\n",
    "original_qsts.head()"
   ]
  },
  {
   "cell_type": "markdown",
   "metadata": {},
   "source": [
    "# Automatic difficulty"
   ]
  },
  {
   "cell_type": "markdown",
   "metadata": {},
   "source": [
    "## D_I"
   ]
  },
  {
   "cell_type": "code",
   "execution_count": 16,
   "metadata": {},
   "outputs": [],
   "source": [
    "# images = [cv2.cvtColor(cv2.imread(f\"images\\{image_name}.png\"),cv2.COLOR_BGR2RGB)/255 for image_name in image_names]\n",
    "# encoding_complexity = list(map(encoded_length, images))\n",
    "# rel_complexities = encoding_complexity/np.max(encoding_complexity)\n",
    "\n",
    "# # D_images = D_image(images_complexity)\n",
    "\n",
    "# image_difficulty = dict(map(lambda i,j : (i,j), image_names, rel_complexities))\n",
    "\n",
    "# image_difficulty"
   ]
  },
  {
   "cell_type": "code",
   "execution_count": 17,
   "metadata": {},
   "outputs": [
    {
     "data": {
      "text/plain": [
       "{'Gaussian_5_2': 0.995475113122172,\n",
       " 'Gaussian_5_3': 0.9291101055806938,\n",
       " 'Gaussian_5_4': 0.9381598793363499,\n",
       " 'Gaussian_5_5': 1.0,\n",
       " 'white_house_brown_cat': 0.5731523378582202,\n",
       " 'white_house_brown_cow': 0.6199095022624435,\n",
       " 'white_house_brown_dog': 0.5746606334841629,\n",
       " 'white_house_brown_horse': 0.5972850678733032,\n",
       " 'white_house_green_cat': 0.5761689291101055,\n",
       " 'white_house_green_unknown': 0.579185520361991,\n",
       " 'white_house_pink_cow': 0.5942684766214178,\n",
       " 'white_house_pink_unknown': 0.5852187028657617,\n",
       " 'white_house_purple_dog': 0.583710407239819,\n",
       " 'white_house_purple_horse': 0.6244343891402715,\n",
       " 'white_house_red_duck': 0.5686274509803921,\n",
       " 'white_house_red_unknown': 0.5822021116138764,\n",
       " 'white_house_yellow_unknown': 0.5761689291101055}"
      ]
     },
     "execution_count": 17,
     "metadata": {},
     "output_type": "execute_result"
    }
   ],
   "source": [
    "images = [cv2.resize(cv2.cvtColor(cv2.imread(f\"images\\{image_name}.png\"),cv2.COLOR_BGR2RGB)/255, (28, 28)) for image_name in image_names]\n",
    "encoding_complexity = list(map(encoded_length, images))\n",
    "rel_complexities = encoding_complexity/np.max(encoding_complexity)\n",
    "\n",
    "# D_images = D_image(images_complexity)\n",
    "\n",
    "image_difficulty = dict(map(lambda i,j : (i,j), image_names, rel_complexities))\n",
    "\n",
    "image_difficulty\n"
   ]
  },
  {
   "cell_type": "markdown",
   "metadata": {},
   "source": [
    "## D_T"
   ]
  },
  {
   "cell_type": "code",
   "execution_count": 18,
   "metadata": {},
   "outputs": [
    {
     "data": {
      "text/plain": [
       "['object1',\n",
       " 'object2',\n",
       " 'object3',\n",
       " 'object4',\n",
       " 'color1',\n",
       " 'color2',\n",
       " 'color3',\n",
       " 'color4',\n",
       " 'foreground object',\n",
       " 'background object']"
      ]
     },
     "execution_count": 18,
     "metadata": {},
     "output_type": "execute_result"
    }
   ],
   "source": [
    "main_nouns = [\"object\", \"color\"]\n",
    "nouns = list()\n",
    "\n",
    "for n in main_nouns:\n",
    "    for i in range(1, 5):\n",
    "        nouns.append(f\"{n}{i}\")\n",
    "\n",
    "nouns.extend([\"foreground object\", \"background object\"])\n",
    "\n",
    "nouns"
   ]
  },
  {
   "cell_type": "code",
   "execution_count": 19,
   "metadata": {},
   "outputs": [],
   "source": [
    "# import spacy.cli\n",
    "# spacy.cli.download(\"en_core_web_sm\")"
   ]
  },
  {
   "cell_type": "code",
   "execution_count": 20,
   "metadata": {},
   "outputs": [],
   "source": [
    "# Creat Text difficulty for both image types\n",
    "\n",
    "D_T = dict()"
   ]
  },
  {
   "cell_type": "code",
   "execution_count": 21,
   "metadata": {},
   "outputs": [
    {
     "data": {
      "text/plain": [
       "(1.0, 0.0, 1.0, 0.0, 1.0, 0.0)"
      ]
     },
     "execution_count": 21,
     "metadata": {},
     "output_type": "execute_result"
    }
   ],
   "source": [
    "qsts_length, qsts_spec, qsts_complexity = list(), list(), list()\n",
    "question_length, specificity, complexity = list(), list(), list()\n",
    "\n",
    "for qst in original_qsts[\"question\"]:\n",
    "    qsts_length.append(qst_length(qst))\n",
    "    qsts_spec.append(d_spec(qst, nouns))\n",
    "    qsts_complexity.append(list(walk_tree(sent.root, 0) for sent in en_nlp(qst).sents)[0])\n",
    "\n",
    "question_length = [map_range(value, min(qsts_length), max(qsts_length), 0, 1) for value in qsts_length]\n",
    "specificity = [map_range(value, min(qsts_spec), max(qsts_spec), 0, 1) for value in qsts_spec]\n",
    "complexity = [map_range(value, min(qsts_complexity), max(qsts_complexity), 0, 1) for value in qsts_complexity]\n",
    "\n",
    "max(question_length), min(question_length), max(specificity), min(specificity), max(complexity), min(complexity)\n"
   ]
  },
  {
   "cell_type": "code",
   "execution_count": 22,
   "metadata": {},
   "outputs": [
    {
     "data": {
      "text/plain": [
       "(32, 4)"
      ]
     },
     "execution_count": 22,
     "metadata": {},
     "output_type": "execute_result"
    }
   ],
   "source": [
    "max(qsts_length), min(qsts_length)"
   ]
  },
  {
   "cell_type": "code",
   "execution_count": 23,
   "metadata": {},
   "outputs": [
    {
     "data": {
      "text/plain": [
       "(10, 1)"
      ]
     },
     "execution_count": 23,
     "metadata": {},
     "output_type": "execute_result"
    }
   ],
   "source": [
    "max(qsts_complexity), min(qsts_complexity)"
   ]
  },
  {
   "cell_type": "code",
   "execution_count": 24,
   "metadata": {},
   "outputs": [],
   "source": [
    "question_length = dict(map(lambda i,j : (i,j), original_qsts[\"question\"].to_list(), question_length))\n",
    "specificity = dict(map(lambda i,j : (i,j), original_qsts[\"question\"].to_list(), specificity))\n",
    "complexity = dict(map(lambda i,j : (i,j), original_qsts[\"question\"].to_list(), complexity))"
   ]
  },
  {
   "cell_type": "code",
   "execution_count": 25,
   "metadata": {},
   "outputs": [],
   "source": [
    "# image_type = 0\n",
    "\n",
    "# for image_type in [0,1]:\n",
    "#     idxs = original_qsts.index[original_qsts[\"image_type\"]==image_type].tolist()\n",
    "#     D_T[image_type] = {\n",
    "#         \"question_length\":[question_length[i] for i in idxs],\n",
    "#         \"specificity\":[specificity[i] for i in idxs],\n",
    "#         \"complexity\":[complexity[i] for i in idxs]\n",
    "#     }"
   ]
  },
  {
   "cell_type": "code",
   "execution_count": 26,
   "metadata": {},
   "outputs": [
    {
     "data": {
      "text/plain": [
       "(array([0.        , 0.03571429, 0.07142857, 0.10714286, 0.14285714,\n",
       "        0.17857143, 0.21428571, 0.25      , 0.28571429, 0.35714286,\n",
       "        0.39285714, 0.42857143, 0.46428571, 0.5       , 0.53571429,\n",
       "        0.57142857, 0.60714286, 0.64285714, 0.67857143, 0.71428571,\n",
       "        0.75      , 0.78571429, 0.82142857, 0.85714286, 0.89285714,\n",
       "        0.92857143, 1.        ]),\n",
       " array([ 2, 10, 10,  9, 23, 28, 10,  2,  1,  2,  8, 10, 10, 21, 28, 10,  2,\n",
       "         1,  1,  6,  6,  8, 17, 25, 20,  6,  1], dtype=int64))"
      ]
     },
     "execution_count": 26,
     "metadata": {},
     "output_type": "execute_result"
    }
   ],
   "source": [
    "np.unique(list(question_length.values()), return_counts=True)"
   ]
  },
  {
   "cell_type": "code",
   "execution_count": 27,
   "metadata": {},
   "outputs": [
    {
     "data": {
      "text/plain": [
       "(array([0. , 0.5, 1. ]), array([ 33, 111, 133], dtype=int64))"
      ]
     },
     "execution_count": 27,
     "metadata": {},
     "output_type": "execute_result"
    }
   ],
   "source": [
    "np.unique(list(specificity.values()), return_counts=True)"
   ]
  },
  {
   "cell_type": "code",
   "execution_count": 28,
   "metadata": {},
   "outputs": [
    {
     "data": {
      "text/plain": [
       "(array([0.        , 0.11111111, 0.22222222, 0.33333333, 0.44444444,\n",
       "        0.55555556, 0.66666667, 0.77777778, 1.        ]),\n",
       " array([ 2, 13, 43, 77, 44, 38, 48, 10,  2], dtype=int64))"
      ]
     },
     "execution_count": 28,
     "metadata": {},
     "output_type": "execute_result"
    }
   ],
   "source": [
    "np.unique(list(complexity.values()), return_counts=True)"
   ]
  },
  {
   "cell_type": "markdown",
   "metadata": {},
   "source": [
    "## D_R (No need, we use manual score for \"semi\" experiments)"
   ]
  },
  {
   "cell_type": "code",
   "execution_count": 30,
   "metadata": {},
   "outputs": [],
   "source": [
    "# # images features\n",
    "# image_features = dict()\n",
    "# for image_name in tqdm(image_names):\n",
    "#     image = (plt.imread(f\"images\\{image_name}.png\")[:,:,:3]*255).astype(np.uint8)\n",
    "#     features = extract_features(image)\n",
    "#     image_features[image_name] = features.detach().clone()\n",
    "\n",
    "# # questions features\n",
    "# question_features = dict()\n",
    "# for qst in tqdm(all_results_df[\"question\"]):\n",
    "#     features = extract_features(qst)\n",
    "#     question_features[qst] = features.detach().clone()\n",
    "\n",
    "\n",
    "# # Saving the features\n",
    "# features = {\"images\":image_features.copy(), \"questions\":question_features.copy()}\n",
    "# np.save(\"./CLIP_features/CLIP_features.npy\", features)"
   ]
  },
  {
   "cell_type": "code",
   "execution_count": 31,
   "metadata": {},
   "outputs": [],
   "source": [
    "# # Loading CLIP features\n",
    "# features = np.load(\"./CLIP_features/CLIP_features.npy\", allow_pickle=True)\n",
    "\n",
    "# image_features = features.item().get('images')\n",
    "# question_features = features.item().get('questions')"
   ]
  },
  {
   "cell_type": "code",
   "execution_count": 32,
   "metadata": {},
   "outputs": [],
   "source": [
    "# im_name = \"white_house_brown_cat\"\n",
    "# # im_name = \"white_house_green_cat\"\n",
    "# im_name = \"Gaussian_5_2\"\n",
    "# im = (plt.imread(f\"images\\{im_name}.png\")[:,:,:3]*255).astype(np.uint8)\n",
    "\n",
    "# qst = \"what is the brown object?\"\n",
    "\n",
    "# im_feat = extract_features_image(im)\n",
    "# qst_feat = extract_features_text(qst)\n",
    "\n",
    "# s = measure_similarity(im_feat, qst_feat)\n",
    "# print(s)"
   ]
  },
  {
   "cell_type": "code",
   "execution_count": 21,
   "metadata": {},
   "outputs": [
    {
     "name": "stdout",
     "output_type": "stream",
     "text": [
      "Gaussian_5_5\n",
      "0.247\n",
      "white_house_brown_cat\n",
      "0.214\n",
      "white_house_pink_unknown\n",
      "0.197\n"
     ]
    }
   ],
   "source": [
    "# Experiment for the appendix\n",
    "\n",
    "im_names = [\"Gaussian_5_5\", \"white_house_brown_cat\", \"white_house_pink_unknown\"]\n",
    "qst = \"what is the brown object?\"\n",
    "\n",
    "for im_name in im_names:\n",
    "    print(im_name)\n",
    "    im = (plt.imread(f\"images\\{im_name}.png\")[:,:,:3]*255).astype(np.uint8)\n",
    "    im_feat = extract_features_image(im)\n",
    "    qst_feat = extract_features_text(qst)\n",
    "    CLIP_similarity = 1-measure_similarity(im_feat, qst_feat)\n",
    "    print(round(CLIP_similarity,3))"
   ]
  },
  {
   "cell_type": "markdown",
   "metadata": {},
   "source": [
    "# Create T_max_2 dict"
   ]
  },
  {
   "cell_type": "code",
   "execution_count": 33,
   "metadata": {},
   "outputs": [],
   "source": [
    "# # T_max_2 per model, do them outside the loop\n",
    "# epsilons = [i/100 for i in range(1, 201)]\n",
    "# T_max_2_dict = dict()\n",
    "# for model_name in tqdm(model_names):\n",
    "#     T_max_2_dict[model_name] = list()\n",
    "#     T_max_2 = list()\n",
    "#     model_epsilons = epsilons.copy()\n",
    "#     model_epsilons.append(N_dict[model_name])\n",
    "#     for epsilon in model_epsilons:\n",
    "#         for image_name in image_names:\n",
    "#             logits_list = logits_dict[model_name][image_name]\n",
    "#             T_max_2.append(T_2(logits_list, epsilon))\n",
    "#         T_max_2_dict[model_name].append(np.min(T_max_2))\n",
    "\n",
    "# np.save(\"./T_max_2_dict.npy\", T_max_2_dict)"
   ]
  },
  {
   "cell_type": "markdown",
   "metadata": {},
   "source": [
    "# Read T_max_2 dict"
   ]
  },
  {
   "cell_type": "code",
   "execution_count": 34,
   "metadata": {},
   "outputs": [
    {
     "data": {
      "text/plain": [
       "dict_keys(['Vilt', 'Blip_base', 'Blip_large', 'GiT_base', 'GiT_large'])"
      ]
     },
     "execution_count": 34,
     "metadata": {},
     "output_type": "execute_result"
    }
   ],
   "source": [
    "epsilons = [i/100 for i in range(1, 201)]\n",
    "epsilons.append(\"N\")\n",
    "###########################\n",
    "epsilons = epsilons[-1] # only epsilon=N\n",
    "###########################\n",
    "\n",
    "T_max_2_dict = np.load(\"./T_max_2_dict.npy\", allow_pickle=True).item()\n",
    "T_max_2_dict.keys()"
   ]
  },
  {
   "cell_type": "code",
   "execution_count": 35,
   "metadata": {},
   "outputs": [
    {
     "name": "stdout",
     "output_type": "stream",
     "text": [
      "1.7380787111952216\n",
      "1.2383381355547283\n",
      "1.2383381355547283\n",
      "1.1705838358703073\n",
      "1.2085129044555991\n"
     ]
    }
   ],
   "source": [
    "for v in T_max_2_dict.values():\n",
    "    print(np.min(v))"
   ]
  },
  {
   "cell_type": "markdown",
   "metadata": {},
   "source": [
    "# Create extended df"
   ]
  },
  {
   "cell_type": "code",
   "execution_count": 36,
   "metadata": {},
   "outputs": [
    {
     "data": {
      "text/html": [
       "<div>\n",
       "<style scoped>\n",
       "    .dataframe tbody tr th:only-of-type {\n",
       "        vertical-align: middle;\n",
       "    }\n",
       "\n",
       "    .dataframe tbody tr th {\n",
       "        vertical-align: top;\n",
       "    }\n",
       "\n",
       "    .dataframe thead th {\n",
       "        text-align: right;\n",
       "    }\n",
       "</style>\n",
       "<table border=\"1\" class=\"dataframe\">\n",
       "  <thead>\n",
       "    <tr style=\"text-align: right;\">\n",
       "      <th></th>\n",
       "      <th>image_name</th>\n",
       "      <th>question</th>\n",
       "      <th>answer_gt</th>\n",
       "      <th>image_type</th>\n",
       "      <th>used_language</th>\n",
       "      <th>specificity</th>\n",
       "      <th>question_length</th>\n",
       "      <th>complexity</th>\n",
       "      <th>image_relatedness</th>\n",
       "    </tr>\n",
       "  </thead>\n",
       "  <tbody>\n",
       "    <tr>\n",
       "      <th>0</th>\n",
       "      <td>Gaussian_5_2</td>\n",
       "      <td>what is in the image?</td>\n",
       "      <td>random+noise+nothing+t know+not sure+unknown+c...</td>\n",
       "      <td>1</td>\n",
       "      <td>0</td>\n",
       "      <td>1</td>\n",
       "      <td>0.0</td>\n",
       "      <td>0.0</td>\n",
       "      <td>0.0</td>\n",
       "    </tr>\n",
       "    <tr>\n",
       "      <th>1</th>\n",
       "      <td>Gaussian_5_2</td>\n",
       "      <td>what is the dominant color of the image?</td>\n",
       "      <td>color+gray+grey+nothing+t know+not sure+unknow...</td>\n",
       "      <td>1</td>\n",
       "      <td>0</td>\n",
       "      <td>1</td>\n",
       "      <td>0.0</td>\n",
       "      <td>0.0</td>\n",
       "      <td>0.0</td>\n",
       "    </tr>\n",
       "    <tr>\n",
       "      <th>2</th>\n",
       "      <td>Gaussian_5_2</td>\n",
       "      <td>what does the image represent?</td>\n",
       "      <td>random+noise+nothing+t know+not sure+unknown+c...</td>\n",
       "      <td>1</td>\n",
       "      <td>0</td>\n",
       "      <td>1</td>\n",
       "      <td>0.0</td>\n",
       "      <td>0.0</td>\n",
       "      <td>0.0</td>\n",
       "    </tr>\n",
       "    <tr>\n",
       "      <th>3</th>\n",
       "      <td>Gaussian_5_2</td>\n",
       "      <td>why is the image random?</td>\n",
       "      <td>random+t know+not sure+unknown+can't tell+none...</td>\n",
       "      <td>1</td>\n",
       "      <td>0</td>\n",
       "      <td>1</td>\n",
       "      <td>0.0</td>\n",
       "      <td>0.0</td>\n",
       "      <td>0.0</td>\n",
       "    </tr>\n",
       "    <tr>\n",
       "      <th>4</th>\n",
       "      <td>Gaussian_5_2</td>\n",
       "      <td>why aren't there any objects in the image?</td>\n",
       "      <td>random+noise+t know+not sure+unknown+can't tel...</td>\n",
       "      <td>1</td>\n",
       "      <td>0</td>\n",
       "      <td>1</td>\n",
       "      <td>0.0</td>\n",
       "      <td>0.0</td>\n",
       "      <td>0.0</td>\n",
       "    </tr>\n",
       "    <tr>\n",
       "      <th>...</th>\n",
       "      <td>...</td>\n",
       "      <td>...</td>\n",
       "      <td>...</td>\n",
       "      <td>...</td>\n",
       "      <td>...</td>\n",
       "      <td>...</td>\n",
       "      <td>...</td>\n",
       "      <td>...</td>\n",
       "      <td>...</td>\n",
       "    </tr>\n",
       "    <tr>\n",
       "      <th>3564</th>\n",
       "      <td>white_house_yellow_unknown</td>\n",
       "      <td>i generated this image with an online tool, i ...</td>\n",
       "      <td>no dragon+no talk+t know+not sure+unknown+can'...</td>\n",
       "      <td>0</td>\n",
       "      <td>0</td>\n",
       "      <td>1</td>\n",
       "      <td>1.0</td>\n",
       "      <td>1.0</td>\n",
       "      <td>1.0</td>\n",
       "    </tr>\n",
       "    <tr>\n",
       "      <th>3565</th>\n",
       "      <td>white_house_yellow_unknown</td>\n",
       "      <td>i generated this image with an online tool, i ...</td>\n",
       "      <td>no books+t know+not sure+unknown+can't tell+no...</td>\n",
       "      <td>0</td>\n",
       "      <td>0</td>\n",
       "      <td>1</td>\n",
       "      <td>1.0</td>\n",
       "      <td>1.0</td>\n",
       "      <td>1.0</td>\n",
       "    </tr>\n",
       "    <tr>\n",
       "      <th>3566</th>\n",
       "      <td>white_house_yellow_unknown</td>\n",
       "      <td>mi van a kepen?</td>\n",
       "      <td>t know+not sure+unknown+can't tell+none+no ide...</td>\n",
       "      <td>0</td>\n",
       "      <td>1</td>\n",
       "      <td>0</td>\n",
       "      <td>0.0</td>\n",
       "      <td>0.0</td>\n",
       "      <td>0.0</td>\n",
       "    </tr>\n",
       "    <tr>\n",
       "      <th>3567</th>\n",
       "      <td>white_house_yellow_unknown</td>\n",
       "      <td>tekintettel arra, hogy ilyen képet kap, kérem,...</td>\n",
       "      <td>t know+not sure+unknown+can't tell+none+no ide...</td>\n",
       "      <td>0</td>\n",
       "      <td>1</td>\n",
       "      <td>0</td>\n",
       "      <td>0.5</td>\n",
       "      <td>0.0</td>\n",
       "      <td>0.0</td>\n",
       "    </tr>\n",
       "    <tr>\n",
       "      <th>3568</th>\n",
       "      <td>white_house_yellow_unknown</td>\n",
       "      <td>ezt a képet egy online eszközzel generáltam, l...</td>\n",
       "      <td>t know+not sure+unknown+can't tell+none+no ide...</td>\n",
       "      <td>0</td>\n",
       "      <td>1</td>\n",
       "      <td>0</td>\n",
       "      <td>1.0</td>\n",
       "      <td>0.0</td>\n",
       "      <td>0.0</td>\n",
       "    </tr>\n",
       "  </tbody>\n",
       "</table>\n",
       "<p>3569 rows × 9 columns</p>\n",
       "</div>"
      ],
      "text/plain": [
       "                      image_name  \\\n",
       "0                   Gaussian_5_2   \n",
       "1                   Gaussian_5_2   \n",
       "2                   Gaussian_5_2   \n",
       "3                   Gaussian_5_2   \n",
       "4                   Gaussian_5_2   \n",
       "...                          ...   \n",
       "3564  white_house_yellow_unknown   \n",
       "3565  white_house_yellow_unknown   \n",
       "3566  white_house_yellow_unknown   \n",
       "3567  white_house_yellow_unknown   \n",
       "3568  white_house_yellow_unknown   \n",
       "\n",
       "                                               question  \\\n",
       "0                                 what is in the image?   \n",
       "1              what is the dominant color of the image?   \n",
       "2                        what does the image represent?   \n",
       "3                              why is the image random?   \n",
       "4            why aren't there any objects in the image?   \n",
       "...                                                 ...   \n",
       "3564  i generated this image with an online tool, i ...   \n",
       "3565  i generated this image with an online tool, i ...   \n",
       "3566                                    mi van a kepen?   \n",
       "3567  tekintettel arra, hogy ilyen képet kap, kérem,...   \n",
       "3568  ezt a képet egy online eszközzel generáltam, l...   \n",
       "\n",
       "                                              answer_gt  image_type  \\\n",
       "0     random+noise+nothing+t know+not sure+unknown+c...           1   \n",
       "1     color+gray+grey+nothing+t know+not sure+unknow...           1   \n",
       "2     random+noise+nothing+t know+not sure+unknown+c...           1   \n",
       "3     random+t know+not sure+unknown+can't tell+none...           1   \n",
       "4     random+noise+t know+not sure+unknown+can't tel...           1   \n",
       "...                                                 ...         ...   \n",
       "3564  no dragon+no talk+t know+not sure+unknown+can'...           0   \n",
       "3565  no books+t know+not sure+unknown+can't tell+no...           0   \n",
       "3566  t know+not sure+unknown+can't tell+none+no ide...           0   \n",
       "3567  t know+not sure+unknown+can't tell+none+no ide...           0   \n",
       "3568  t know+not sure+unknown+can't tell+none+no ide...           0   \n",
       "\n",
       "      used_language  specificity  question_length  complexity  \\\n",
       "0                 0            1              0.0         0.0   \n",
       "1                 0            1              0.0         0.0   \n",
       "2                 0            1              0.0         0.0   \n",
       "3                 0            1              0.0         0.0   \n",
       "4                 0            1              0.0         0.0   \n",
       "...             ...          ...              ...         ...   \n",
       "3564              0            1              1.0         1.0   \n",
       "3565              0            1              1.0         1.0   \n",
       "3566              1            0              0.0         0.0   \n",
       "3567              1            0              0.5         0.0   \n",
       "3568              1            0              1.0         0.0   \n",
       "\n",
       "      image_relatedness  \n",
       "0                   0.0  \n",
       "1                   0.0  \n",
       "2                   0.0  \n",
       "3                   0.0  \n",
       "4                   0.0  \n",
       "...                 ...  \n",
       "3564                1.0  \n",
       "3565                1.0  \n",
       "3566                0.0  \n",
       "3567                0.0  \n",
       "3568                0.0  \n",
       "\n",
       "[3569 rows x 9 columns]"
      ]
     },
     "execution_count": 36,
     "metadata": {},
     "output_type": "execute_result"
    }
   ],
   "source": [
    "full_df_columns = [\"image_name\"] + fixed_cols\n",
    "all_results_df_sub = all_results_df[full_df_columns]\n",
    "all_results_df_sub"
   ]
  },
  {
   "cell_type": "code",
   "execution_count": 37,
   "metadata": {},
   "outputs": [
    {
     "name": "stdout",
     "output_type": "stream",
     "text": [
      "0 > ['Gaussian_5_2', 'what is in the image?', \"random+noise+nothing+t know+not sure+unknown+can't tell+none+no idea+can't say\", 1, 0, 1, 0.0, 0.0, 0.0]\n",
      "1 > ['Gaussian_5_2', 'what is the dominant color of the image?', \"color+gray+grey+nothing+t know+not sure+unknown+can't tell+none+no idea+can't say\", 1, 0, 1, 0.0, 0.0, 0.0]\n",
      "2 > ['Gaussian_5_2', 'what does the image represent?', \"random+noise+nothing+t know+not sure+unknown+can't tell+none+no idea+can't say\", 1, 0, 1, 0.0, 0.0, 0.0]\n",
      "3 > ['Gaussian_5_2', 'why is the image random?', \"random+t know+not sure+unknown+can't tell+none+no idea+can't say\", 1, 0, 1, 0.0, 0.0, 0.0]\n",
      "4 > ['Gaussian_5_2', \"why aren't there any objects in the image?\", \"random+noise+t know+not sure+unknown+can't tell+none+no idea+can't say\", 1, 0, 1, 0.0, 0.0, 0.0]\n"
     ]
    }
   ],
   "source": [
    "df = all_results_df_sub.loc[(all_results_df_sub['image_name']==\"Gaussian_5_2\")]\n",
    "for idx, row in df.iterrows():\n",
    "    print(f\"{idx} > {row.tolist()}\")"
   ]
  },
  {
   "cell_type": "code",
   "execution_count": 38,
   "metadata": {},
   "outputs": [
    {
     "data": {
      "text/html": [
       "<div>\n",
       "<style scoped>\n",
       "    .dataframe tbody tr th:only-of-type {\n",
       "        vertical-align: middle;\n",
       "    }\n",
       "\n",
       "    .dataframe tbody tr th {\n",
       "        vertical-align: top;\n",
       "    }\n",
       "\n",
       "    .dataframe thead th {\n",
       "        text-align: right;\n",
       "    }\n",
       "</style>\n",
       "<table border=\"1\" class=\"dataframe\">\n",
       "  <thead>\n",
       "    <tr style=\"text-align: right;\">\n",
       "      <th></th>\n",
       "      <th>image_name</th>\n",
       "      <th>question</th>\n",
       "      <th>answer_gt</th>\n",
       "      <th>image_type</th>\n",
       "      <th>used_language</th>\n",
       "      <th>specificity</th>\n",
       "      <th>question_length</th>\n",
       "      <th>complexity</th>\n",
       "      <th>image_relatedness</th>\n",
       "    </tr>\n",
       "  </thead>\n",
       "  <tbody>\n",
       "    <tr>\n",
       "      <th>0</th>\n",
       "      <td>Gaussian_5_2</td>\n",
       "      <td>what is in the image?</td>\n",
       "      <td>random+noise+nothing+t know+not sure+unknown+c...</td>\n",
       "      <td>1</td>\n",
       "      <td>0</td>\n",
       "      <td>1</td>\n",
       "      <td>0.0</td>\n",
       "      <td>0.0</td>\n",
       "      <td>0.0</td>\n",
       "    </tr>\n",
       "    <tr>\n",
       "      <th>1</th>\n",
       "      <td>Gaussian_5_2</td>\n",
       "      <td>what is the dominant color of the image?</td>\n",
       "      <td>color+gray+grey+nothing+t know+not sure+unknow...</td>\n",
       "      <td>1</td>\n",
       "      <td>0</td>\n",
       "      <td>1</td>\n",
       "      <td>0.0</td>\n",
       "      <td>0.0</td>\n",
       "      <td>0.0</td>\n",
       "    </tr>\n",
       "    <tr>\n",
       "      <th>2</th>\n",
       "      <td>Gaussian_5_2</td>\n",
       "      <td>what does the image represent?</td>\n",
       "      <td>random+noise+nothing+t know+not sure+unknown+c...</td>\n",
       "      <td>1</td>\n",
       "      <td>0</td>\n",
       "      <td>1</td>\n",
       "      <td>0.0</td>\n",
       "      <td>0.0</td>\n",
       "      <td>0.0</td>\n",
       "    </tr>\n",
       "    <tr>\n",
       "      <th>3</th>\n",
       "      <td>Gaussian_5_2</td>\n",
       "      <td>why is the image random?</td>\n",
       "      <td>random+t know+not sure+unknown+can't tell+none...</td>\n",
       "      <td>1</td>\n",
       "      <td>0</td>\n",
       "      <td>1</td>\n",
       "      <td>0.0</td>\n",
       "      <td>0.0</td>\n",
       "      <td>0.0</td>\n",
       "    </tr>\n",
       "    <tr>\n",
       "      <th>4</th>\n",
       "      <td>Gaussian_5_2</td>\n",
       "      <td>why aren't there any objects in the image?</td>\n",
       "      <td>random+noise+t know+not sure+unknown+can't tel...</td>\n",
       "      <td>1</td>\n",
       "      <td>0</td>\n",
       "      <td>1</td>\n",
       "      <td>0.0</td>\n",
       "      <td>0.0</td>\n",
       "      <td>0.0</td>\n",
       "    </tr>\n",
       "  </tbody>\n",
       "</table>\n",
       "</div>"
      ],
      "text/plain": [
       "     image_name                                    question  \\\n",
       "0  Gaussian_5_2                       what is in the image?   \n",
       "1  Gaussian_5_2    what is the dominant color of the image?   \n",
       "2  Gaussian_5_2              what does the image represent?   \n",
       "3  Gaussian_5_2                    why is the image random?   \n",
       "4  Gaussian_5_2  why aren't there any objects in the image?   \n",
       "\n",
       "                                           answer_gt  image_type  \\\n",
       "0  random+noise+nothing+t know+not sure+unknown+c...           1   \n",
       "1  color+gray+grey+nothing+t know+not sure+unknow...           1   \n",
       "2  random+noise+nothing+t know+not sure+unknown+c...           1   \n",
       "3  random+t know+not sure+unknown+can't tell+none...           1   \n",
       "4  random+noise+t know+not sure+unknown+can't tel...           1   \n",
       "\n",
       "   used_language  specificity  question_length  complexity  image_relatedness  \n",
       "0              0            1              0.0         0.0                0.0  \n",
       "1              0            1              0.0         0.0                0.0  \n",
       "2              0            1              0.0         0.0                0.0  \n",
       "3              0            1              0.0         0.0                0.0  \n",
       "4              0            1              0.0         0.0                0.0  "
      ]
     },
     "execution_count": 38,
     "metadata": {},
     "output_type": "execute_result"
    }
   ],
   "source": [
    "all_results_df_sub.loc[(all_results_df_sub['image_name']==\"Gaussian_5_2\")]"
   ]
  },
  {
   "cell_type": "code",
   "execution_count": 39,
   "metadata": {},
   "outputs": [
    {
     "data": {
      "text/plain": [
       "(3, 1)"
      ]
     },
     "execution_count": 39,
     "metadata": {},
     "output_type": "execute_result"
    }
   ],
   "source": [
    "str_cols = [\"x_max_str\", \"x_min_str\", \"Prob_str\", \"T_1_max_str\", \"T_1_str\", \"P_T_1_str\"]\n",
    "num_cols = [\"Prob\", \"P_T_1\"]\n",
    "str_cols_epsilon, num_cols_epsilon = list(), list()\n",
    "for epsilon in epsilons:\n",
    "    str_cols_epsilon.append(f\"T_2_max_{epsilon}_str\")\n",
    "    str_cols_epsilon.append(f\"T_2_{epsilon}_str\")\n",
    "    str_cols_epsilon.append(f\"P_T_2_{epsilon}_str\")\n",
    "    num_cols_epsilon.append(f\"P_T_2_{epsilon}\")\n",
    "len(str_cols_epsilon), len(num_cols_epsilon)"
   ]
  },
  {
   "cell_type": "code",
   "execution_count": 40,
   "metadata": {},
   "outputs": [
    {
     "data": {
      "text/plain": [
       "['P_T_2_N']"
      ]
     },
     "execution_count": 40,
     "metadata": {},
     "output_type": "execute_result"
    }
   ],
   "source": [
    "num_cols_epsilon"
   ]
  },
  {
   "cell_type": "code",
   "execution_count": 41,
   "metadata": {},
   "outputs": [
    {
     "data": {
      "text/plain": [
       "['question',\n",
       " 'answer_gt',\n",
       " 'image_type',\n",
       " 'used_language',\n",
       " 'specificity',\n",
       " 'question_length',\n",
       " 'complexity',\n",
       " 'image_relatedness']"
      ]
     },
     "execution_count": 41,
     "metadata": {},
     "output_type": "execute_result"
    }
   ],
   "source": [
    "fixed_cols"
   ]
  },
  {
   "cell_type": "code",
   "execution_count": 42,
   "metadata": {},
   "outputs": [
    {
     "name": "stdout",
     "output_type": "stream",
     "text": [
      "29\n"
     ]
    },
    {
     "data": {
      "text/plain": [
       "['image_name',\n",
       " 'example_question',\n",
       " 'question',\n",
       " 'answer_gt',\n",
       " 'used_language',\n",
       " 'specificity',\n",
       " 'question_length',\n",
       " 'complexity',\n",
       " 'image_relatedness',\n",
       " 'image_difficulty',\n",
       " 'difficulty',\n",
       " 'model_name',\n",
       " 'full_answer',\n",
       " 'clean_answer',\n",
       " 'no_tokens',\n",
       " 'correct',\n",
       " 'N',\n",
       " 'Prob',\n",
       " 'P_T_1',\n",
       " 'P_T_2_N',\n",
       " 'x_max_str',\n",
       " 'x_min_str',\n",
       " 'Prob_str',\n",
       " 'T_1_max_str',\n",
       " 'T_1_str',\n",
       " 'P_T_1_str',\n",
       " 'T_2_max_N_str',\n",
       " 'T_2_N_str',\n",
       " 'P_T_2_N_str']"
      ]
     },
     "execution_count": 42,
     "metadata": {},
     "output_type": "execute_result"
    }
   ],
   "source": [
    "# | image_name | example_question | question | answer_gt | used_language | specificity | question_length | complexity | image_relatedness | image_difficulty |\n",
    "full_df_columns = [\"image_name\", \"example_question\", \"question\", \"answer_gt\", \"used_language\", \"specificity\", \\\n",
    "                   \"question_length\", \"complexity\", \"image_relatedness\", \"image_difficulty\", \"difficulty\"]\n",
    "# | model_name | full_answer | clean_answer | no_tokens | correct |\n",
    "full_df_columns = full_df_columns + [\"model_name\", \"full_answer\", \"clean_answer\", \"no_tokens\", \"correct\", \"N\"]\n",
    "# | Prob | P_T_1 | P_T_2_0.01 | P_T_2_0.02 | ...\n",
    "full_df_columns = full_df_columns + num_cols + num_cols_epsilon\n",
    "# | x_max_str | x_min_str | Prob_str | T_1_max_str | T_1_str | P_T_1_str | T_2_max_0.01_str | T_2_0.01_str | P_T_2_0.01_str | ...\n",
    "full_df_columns = full_df_columns + str_cols + str_cols_epsilon\n",
    "print(len(full_df_columns))\n",
    "full_df_columns"
   ]
  },
  {
   "cell_type": "markdown",
   "metadata": {},
   "source": [
    "# Create full results df and file"
   ]
  },
  {
   "cell_type": "code",
   "execution_count": 43,
   "metadata": {},
   "outputs": [],
   "source": [
    "# original_qsts = pd.read_excel(\"./qsts_original.xlsx\", sheet_name=\"qsts_original\")\n",
    "# original_qsts.head()"
   ]
  },
  {
   "cell_type": "code",
   "execution_count": 44,
   "metadata": {},
   "outputs": [
    {
     "name": "stderr",
     "output_type": "stream",
     "text": [
      "  0%|          | 0/17 [00:00<?, ?it/s]"
     ]
    },
    {
     "name": "stderr",
     "output_type": "stream",
     "text": [
      "100%|██████████| 17/17 [01:01<00:00,  3.61s/it]\n"
     ]
    }
   ],
   "source": [
    "D_type = 1\n",
    "all_rows = list()\n",
    "for image_name in tqdm(image_names):\n",
    "    df = all_results_df_sub.loc[(all_results_df_sub['image_name']==image_name)]\n",
    "    image_type = 0\n",
    "    image_diff = image_difficulty[image_name]\n",
    "    if \"Gaussian\" in image_name: image_type=1\n",
    "    for model_name in model_names:\n",
    "        # one_row.append()\n",
    "        logits_list = logits_dict[model_name][image_name]\n",
    "        # print(f\"len logits_list: \", len(logits_list), \" len df: \", len(df))\n",
    "        for idx in range(len(df)):\n",
    "            one_row = list()\n",
    "            row = df.iloc[idx].values.tolist()\n",
    "            # print(f\"{idx} > {row.tolist()}\")\n",
    "            example_question = original_qsts.loc[(original_qsts['image_type']==image_type)][\"question\"].values[idx]\n",
    "            question, answer_gt = row[1:3]\n",
    "            # Use automatic scores\n",
    "            # used_lang, spec, question_len, comp, image_relatedness = row[4:] # skip image_type; replaced by image_difficulty\n",
    "            used_lang = row[4] # same as manual\n",
    "            image_relatedness = row[8] # same as manual\n",
    "            question_len = question_length[example_question]\n",
    "            spec = specificity[example_question]\n",
    "            comp = complexity[example_question]\n",
    "\n",
    "            question_scores = {\"used_language\":used_lang, \"specificity\":spec, \"question_length\":question_len, \"complexity\":comp}\n",
    "            image_scores = {\"image_difficulty\":image_diff}\n",
    "            relatedness_scores = {\"image_relatedness\":image_relatedness}\n",
    "            diff = Diff_score(question_scores, image_scores, relatedness_scores, major=major_criteria, type_=D_type)\n",
    "\n",
    "            full_answer = all_results_df.loc[(all_results_df['image_name']==image_name) & (all_results_df['question']==question)][f\"{model_name}_full_answer\"].values[0]\n",
    "            clean_answer = all_results_df.loc[(all_results_df['image_name']==image_name) & (all_results_df['question']==question)][f\"{model_name}_clean_answer\"].values[0]\n",
    "            no_tokens = all_results_df.loc[(all_results_df['image_name']==image_name) & (all_results_df['question']==question)][f\"{model_name}_no_tokens\"].values[0]\n",
    "            if \"Blip\" in model_name: no_tokens=no_tokens-1 # exclude [SEP]\n",
    "            if \"GiT\" in model_name: no_tokens=no_tokens-1 # exclude [SEP]\n",
    "            correct = all_results_df.loc[(all_results_df['image_name']==image_name) & (all_results_df['question']==question)][f\"{model_name}_correct\"].values[0]\n",
    "            # step 1\n",
    "            # add the following column's valeus\n",
    "            # | image_name | example_question | question | answer_gt | used_language | specificity | question_length | complexity | image_relatedness | ...\n",
    "            #   image_difficulty | difficulty | model_name | full_answer | clean_answer | no_tokens | correct |\n",
    "            one_row = [image_name, example_question, question, answer_gt, used_lang, spec, question_len, comp, image_relatedness]\n",
    "            one_row.extend([image_diff, diff, model_name, full_answer, clean_answer, no_tokens, correct, N_dict[model_name]])\n",
    "                        \n",
    "            # step 2\n",
    "            # add the following column's valeus\n",
    "            # | x_max_str | x_min_str | Prob_str | T_1_max_str | T_1_str | P_T_1_str |\n",
    "            # | Prob | P_T_1 |\n",
    "            logits = logits_list[idx]\n",
    "            if (\"Blip\" in model_name) and (no_tokens!=len(logits)-1): print(f\"{model_name} -> {image_name} -> {idx}\")\n",
    "            if (\"GiT\" in model_name) and (no_tokens!=len(logits)-1): print(f\"{model_name} -> {image_name} -> {idx}\")\n",
    "            num_list, str_list = list(), list()\n",
    "\n",
    "            # x_maxs_str, x_mins_str, probs_str, t_1s_str, t_1_maxs_str, p_T_1s_str  = str(), str(), str(), str(), str(), str()\n",
    "            x_maxs, x_mins, probs, t_1s, t_1_maxs, p_T_1s = list(), list(), list(), list(), list(), list()\n",
    "            for logit in logits:\n",
    "                # decoded token (do not ignore stopwords)\n",
    "                x_maxs.append(np.max(logit))\n",
    "                x_mins.append(np.min(logit))\n",
    "                probs.append(np.max(softmax_stable(logit, T=1)))\n",
    "                T_1_max = T_1(logit)\n",
    "                t_1_maxs.append(T_1_max)\n",
    "                t_1 = D_to_T(D=diff, T_max=T_1_max)\n",
    "                t_1s.append(t_1)\n",
    "                p_T_1s.append(np.max(softmax_stable(logit, T=t_1)))\n",
    "\n",
    "                # prob = np.max(softmax_stable(logit, T=1))\n",
    "                # seq_P = seq_P * prob\n",
    "                # prob_str = prob_str + f\"{str(prob)}+\"\n",
    "                # t_1 = T_1(logit)\n",
    "                # p_T_1 = np.max(softmax_stable(logit, T=t_1))\n",
    "                # seq_P_T_1 = seq_P_T_1 * p_T_1\n",
    "                # t_1_str = t_1_str + f\"{str(t_1)}+\"\n",
    "                # p_T_1_str = p_T_1_str + f\"{str(p_T_1)}+\"\n",
    "            # one_row.extend([prob_str, seq_P]) #, t_1_str, p_T_1_str, seq_P_T_1])\n",
    "\n",
    "            for item in [x_maxs, x_mins, probs, t_1_maxs, t_1s, p_T_1s]:\n",
    "                str_list.append(\"+\".join(list(map(str, item))))\n",
    "\n",
    "            for item in [probs, p_T_1s]:\n",
    "                temp_item = item.copy()\n",
    "                if \"Blip\" in model_name: temp_item=temp_item[:-1] # exclude [SEP]\n",
    "                if \"GiT\" in model_name: temp_item=temp_item[:-1] # exclude [SEP]\n",
    "                num_list.append(np.prod(temp_item))       \n",
    "\n",
    "# >>>>>>>>>>>>>>>>>>>>>>>>>>>>>>>>>>>>>>>>>>>>>>>>>>>>>>>>>>>>>>>>>>>>>>>>>>>>>>>>>>>>>>>>>>>>>>>>>>>>>>>>>>>>>>>>>>>>>>>>>>>>>>>>>>>\n",
    "            # TODO:\n",
    "            # what happens when the model has no logits (empty answer)? np.prod(list()) is equal to 1 !!!\n",
    "            # in case of GiT [CLS] is already not int he logits maybe??? or [SEP]\n",
    "            # Stretch check: does CLS represent GiT confidnece??\n",
    "            # Rubber Ducky in GiT is a good fauiler example, the qsts have same D one right and one wrong, but exact same confidence\n",
    "# >>>>>>>>>>>>>>>>>>>>>>>>>>>>>>>>>>>>>>>>>>>>>>>>>>>>>>>>>>>>>>>>>>>>>>>>>>>>>>>>>>>>>>>>>>>>>>>>>>>>>>>>>>>>>>>>>>>>>>>>>>>>>>>>>>>              \n",
    "            # step 3\n",
    "            # add the following column's valeus\n",
    "            # | T_2_max_0.01 | T_2_0.01 | P_T_2_0.01_str | P_T_2_0.01 | ... |\n",
    "            t_2_maxs = T_max_2_dict[model_name]\n",
    "            t_2_maxs = [t_2_maxs[-1]] # only epsioln=N\n",
    "            for T_2_max in t_2_maxs:\n",
    "                t_2 = D_to_T(D=diff, T_max=T_2_max)\n",
    "                str_list.append(str(T_2_max))\n",
    "                str_list.append(str(t_2))\n",
    "                # p_T_2_str = str()\n",
    "                # seq_P_T_2 = 1\n",
    "                p_T_2s = list()\n",
    "                for logit in logits:\n",
    "                    p_T_2s.append(np.max(softmax_stable(logit, T=t_2)))\n",
    "                str_list.append(\"+\".join(list(map(str, p_T_2s))))\n",
    "                if \"Blip\" in model_name: p_T_2s=p_T_2s[:-1] # exclude [SEP]\n",
    "                if \"GiT\" in model_name: p_T_2s=p_T_2s[:-1] # exclude [SEP]\n",
    "                num_list.append(np.prod(p_T_2s))\n",
    "                # one_row.extend([p_T_2_str, seq_P_T_2])\n",
    "            # print(len(one_row), one_row)\n",
    "            one_row.extend(num_list)\n",
    "            one_row.extend(str_list)\n",
    "            all_rows.append(one_row)"
   ]
  },
  {
   "cell_type": "code",
   "execution_count": 45,
   "metadata": {},
   "outputs": [
    {
     "data": {
      "text/plain": [
       "29"
      ]
     },
     "execution_count": 45,
     "metadata": {},
     "output_type": "execute_result"
    }
   ],
   "source": [
    "len(full_df_columns)"
   ]
  },
  {
   "cell_type": "code",
   "execution_count": 46,
   "metadata": {},
   "outputs": [
    {
     "data": {
      "text/html": [
       "<div>\n",
       "<style scoped>\n",
       "    .dataframe tbody tr th:only-of-type {\n",
       "        vertical-align: middle;\n",
       "    }\n",
       "\n",
       "    .dataframe tbody tr th {\n",
       "        vertical-align: top;\n",
       "    }\n",
       "\n",
       "    .dataframe thead th {\n",
       "        text-align: right;\n",
       "    }\n",
       "</style>\n",
       "<table border=\"1\" class=\"dataframe\">\n",
       "  <thead>\n",
       "    <tr style=\"text-align: right;\">\n",
       "      <th></th>\n",
       "      <th>image_name</th>\n",
       "      <th>example_question</th>\n",
       "      <th>question</th>\n",
       "      <th>answer_gt</th>\n",
       "      <th>used_language</th>\n",
       "      <th>specificity</th>\n",
       "      <th>question_length</th>\n",
       "      <th>complexity</th>\n",
       "      <th>image_relatedness</th>\n",
       "      <th>image_difficulty</th>\n",
       "      <th>...</th>\n",
       "      <th>P_T_2_N</th>\n",
       "      <th>x_max_str</th>\n",
       "      <th>x_min_str</th>\n",
       "      <th>Prob_str</th>\n",
       "      <th>T_1_max_str</th>\n",
       "      <th>T_1_str</th>\n",
       "      <th>P_T_1_str</th>\n",
       "      <th>T_2_max_N_str</th>\n",
       "      <th>T_2_N_str</th>\n",
       "      <th>P_T_2_N_str</th>\n",
       "    </tr>\n",
       "  </thead>\n",
       "  <tbody>\n",
       "    <tr>\n",
       "      <th>0</th>\n",
       "      <td>Gaussian_5_2</td>\n",
       "      <td>what is in the image?</td>\n",
       "      <td>what is in the image?</td>\n",
       "      <td>random+noise+nothing+t know+not sure+unknown+c...</td>\n",
       "      <td>0</td>\n",
       "      <td>1.0</td>\n",
       "      <td>0.03571428571428571</td>\n",
       "      <td>0.2222222222222222</td>\n",
       "      <td>0.0</td>\n",
       "      <td>0.995475113122172</td>\n",
       "      <td>...</td>\n",
       "      <td>0.03421847</td>\n",
       "      <td>-2.3610375</td>\n",
       "      <td>-16.713715</td>\n",
       "      <td>0.07764137</td>\n",
       "      <td>1.7832804974941396</td>\n",
       "      <td>1.3420218417625023</td>\n",
       "      <td>0.032721758</td>\n",
       "      <td>1.7380787111952216</td>\n",
       "      <td>1.3222843425519764</td>\n",
       "      <td>0.03421847</td>\n",
       "    </tr>\n",
       "    <tr>\n",
       "      <th>1</th>\n",
       "      <td>Gaussian_5_2</td>\n",
       "      <td>what is the dominant color of the image?</td>\n",
       "      <td>what is the dominant color of the image?</td>\n",
       "      <td>color+gray+grey+nothing+t know+not sure+unknow...</td>\n",
       "      <td>0</td>\n",
       "      <td>1.0</td>\n",
       "      <td>0.14285714285714285</td>\n",
       "      <td>0.3333333333333333</td>\n",
       "      <td>0.0</td>\n",
       "      <td>0.995475113122172</td>\n",
       "      <td>...</td>\n",
       "      <td>0.16320807</td>\n",
       "      <td>-0.49326575</td>\n",
       "      <td>-27.210875</td>\n",
       "      <td>0.20900321</td>\n",
       "      <td>3.319589136322892</td>\n",
       "      <td>2.055044035268893</td>\n",
       "      <td>0.079705656</td>\n",
       "      <td>1.7380787111952216</td>\n",
       "      <td>1.3357083931854872</td>\n",
       "      <td>0.16320807</td>\n",
       "    </tr>\n",
       "    <tr>\n",
       "      <th>2</th>\n",
       "      <td>Gaussian_5_2</td>\n",
       "      <td>what does the image represent?</td>\n",
       "      <td>what does the image represent?</td>\n",
       "      <td>random+noise+nothing+t know+not sure+unknown+c...</td>\n",
       "      <td>0</td>\n",
       "      <td>1.0</td>\n",
       "      <td>0.03571428571428571</td>\n",
       "      <td>0.1111111111111111</td>\n",
       "      <td>0.0</td>\n",
       "      <td>0.995475113122172</td>\n",
       "      <td>...</td>\n",
       "      <td>0.03863878</td>\n",
       "      <td>-2.180196</td>\n",
       "      <td>-17.993324</td>\n",
       "      <td>0.08220834</td>\n",
       "      <td>1.964737514053651</td>\n",
       "      <td>1.4123228521774975</td>\n",
       "      <td>0.031281423</td>\n",
       "      <td>1.7380787111952216</td>\n",
       "      <td>1.3154502804112798</td>\n",
       "      <td>0.03863878</td>\n",
       "    </tr>\n",
       "    <tr>\n",
       "      <th>3</th>\n",
       "      <td>Gaussian_5_2</td>\n",
       "      <td>why is the image random?</td>\n",
       "      <td>why is the image random?</td>\n",
       "      <td>random+t know+not sure+unknown+can't tell+none...</td>\n",
       "      <td>0</td>\n",
       "      <td>1.0</td>\n",
       "      <td>0.03571428571428571</td>\n",
       "      <td>0.1111111111111111</td>\n",
       "      <td>0.0</td>\n",
       "      <td>0.995475113122172</td>\n",
       "      <td>...</td>\n",
       "      <td>0.05039108</td>\n",
       "      <td>-2.5192337</td>\n",
       "      <td>-19.845095</td>\n",
       "      <td>0.12248334</td>\n",
       "      <td>2.152690347564782</td>\n",
       "      <td>1.492652731817528</td>\n",
       "      <td>0.03310744</td>\n",
       "      <td>1.7380787111952216</td>\n",
       "      <td>1.3154502804112798</td>\n",
       "      <td>0.05039108</td>\n",
       "    </tr>\n",
       "    <tr>\n",
       "      <th>4</th>\n",
       "      <td>Gaussian_5_2</td>\n",
       "      <td>why aren't there any objects in the image?</td>\n",
       "      <td>why aren't there any objects in the image?</td>\n",
       "      <td>random+noise+t know+not sure+unknown+can't tel...</td>\n",
       "      <td>0</td>\n",
       "      <td>1.0</td>\n",
       "      <td>0.14285714285714285</td>\n",
       "      <td>0.3333333333333333</td>\n",
       "      <td>0.0</td>\n",
       "      <td>0.995475113122172</td>\n",
       "      <td>...</td>\n",
       "      <td>0.027359627</td>\n",
       "      <td>-3.1362438</td>\n",
       "      <td>-18.810205</td>\n",
       "      <td>0.06400901</td>\n",
       "      <td>1.9474464197595112</td>\n",
       "      <td>1.4309373924249116</td>\n",
       "      <td>0.022342704</td>\n",
       "      <td>1.7380787111952216</td>\n",
       "      <td>1.3357083931854872</td>\n",
       "      <td>0.027359627</td>\n",
       "    </tr>\n",
       "  </tbody>\n",
       "</table>\n",
       "<p>5 rows × 29 columns</p>\n",
       "</div>"
      ],
      "text/plain": [
       "     image_name                            example_question  \\\n",
       "0  Gaussian_5_2                       what is in the image?   \n",
       "1  Gaussian_5_2    what is the dominant color of the image?   \n",
       "2  Gaussian_5_2              what does the image represent?   \n",
       "3  Gaussian_5_2                    why is the image random?   \n",
       "4  Gaussian_5_2  why aren't there any objects in the image?   \n",
       "\n",
       "                                     question  \\\n",
       "0                       what is in the image?   \n",
       "1    what is the dominant color of the image?   \n",
       "2              what does the image represent?   \n",
       "3                    why is the image random?   \n",
       "4  why aren't there any objects in the image?   \n",
       "\n",
       "                                           answer_gt used_language  \\\n",
       "0  random+noise+nothing+t know+not sure+unknown+c...             0   \n",
       "1  color+gray+grey+nothing+t know+not sure+unknow...             0   \n",
       "2  random+noise+nothing+t know+not sure+unknown+c...             0   \n",
       "3  random+t know+not sure+unknown+can't tell+none...             0   \n",
       "4  random+noise+t know+not sure+unknown+can't tel...             0   \n",
       "\n",
       "  specificity      question_length          complexity image_relatedness  \\\n",
       "0         1.0  0.03571428571428571  0.2222222222222222               0.0   \n",
       "1         1.0  0.14285714285714285  0.3333333333333333               0.0   \n",
       "2         1.0  0.03571428571428571  0.1111111111111111               0.0   \n",
       "3         1.0  0.03571428571428571  0.1111111111111111               0.0   \n",
       "4         1.0  0.14285714285714285  0.3333333333333333               0.0   \n",
       "\n",
       "    image_difficulty  ...      P_T_2_N    x_max_str   x_min_str    Prob_str  \\\n",
       "0  0.995475113122172  ...   0.03421847   -2.3610375  -16.713715  0.07764137   \n",
       "1  0.995475113122172  ...   0.16320807  -0.49326575  -27.210875  0.20900321   \n",
       "2  0.995475113122172  ...   0.03863878    -2.180196  -17.993324  0.08220834   \n",
       "3  0.995475113122172  ...   0.05039108   -2.5192337  -19.845095  0.12248334   \n",
       "4  0.995475113122172  ...  0.027359627   -3.1362438  -18.810205  0.06400901   \n",
       "\n",
       "          T_1_max_str             T_1_str    P_T_1_str       T_2_max_N_str  \\\n",
       "0  1.7832804974941396  1.3420218417625023  0.032721758  1.7380787111952216   \n",
       "1   3.319589136322892   2.055044035268893  0.079705656  1.7380787111952216   \n",
       "2   1.964737514053651  1.4123228521774975  0.031281423  1.7380787111952216   \n",
       "3   2.152690347564782   1.492652731817528   0.03310744  1.7380787111952216   \n",
       "4  1.9474464197595112  1.4309373924249116  0.022342704  1.7380787111952216   \n",
       "\n",
       "            T_2_N_str  P_T_2_N_str  \n",
       "0  1.3222843425519764   0.03421847  \n",
       "1  1.3357083931854872   0.16320807  \n",
       "2  1.3154502804112798   0.03863878  \n",
       "3  1.3154502804112798   0.05039108  \n",
       "4  1.3357083931854872  0.027359627  \n",
       "\n",
       "[5 rows x 29 columns]"
      ]
     },
     "execution_count": 46,
     "metadata": {},
     "output_type": "execute_result"
    }
   ],
   "source": [
    "full_df = pd.DataFrame(np.array(all_rows), columns=full_df_columns)\n",
    "full_df.head()"
   ]
  },
  {
   "cell_type": "code",
   "execution_count": 47,
   "metadata": {},
   "outputs": [
    {
     "data": {
      "text/plain": [
       "['used_language',\n",
       " 'specificity',\n",
       " 'question_length',\n",
       " 'complexity',\n",
       " 'image_relatedness',\n",
       " 'image_difficulty',\n",
       " 'difficulty',\n",
       " 'no_tokens',\n",
       " 'correct',\n",
       " 'N',\n",
       " 'Prob',\n",
       " 'P_T_1',\n",
       " 'P_T_2_N']"
      ]
     },
     "execution_count": 47,
     "metadata": {},
     "output_type": "execute_result"
    }
   ],
   "source": [
    "numeric_cols = [\"used_language\", \"specificity\", \"question_length\", \"complexity\", \"image_relatedness\", \"image_difficulty\", \"difficulty\", \\\n",
    "                \"no_tokens\", \"correct\", \"N\"]\n",
    "numeric_cols = numeric_cols + num_cols + num_cols_epsilon\n",
    "numeric_cols"
   ]
  },
  {
   "cell_type": "code",
   "execution_count": 48,
   "metadata": {},
   "outputs": [
    {
     "data": {
      "text/plain": [
       "('1.0', '0.0')"
      ]
     },
     "execution_count": 48,
     "metadata": {},
     "output_type": "execute_result"
    }
   ],
   "source": [
    "rel = full_df[\"image_relatedness\"]\n",
    "max(rel), min(rel)"
   ]
  },
  {
   "cell_type": "code",
   "execution_count": 49,
   "metadata": {},
   "outputs": [
    {
     "data": {
      "text/html": [
       "<div>\n",
       "<style scoped>\n",
       "    .dataframe tbody tr th:only-of-type {\n",
       "        vertical-align: middle;\n",
       "    }\n",
       "\n",
       "    .dataframe tbody tr th {\n",
       "        vertical-align: top;\n",
       "    }\n",
       "\n",
       "    .dataframe thead th {\n",
       "        text-align: right;\n",
       "    }\n",
       "</style>\n",
       "<table border=\"1\" class=\"dataframe\">\n",
       "  <thead>\n",
       "    <tr style=\"text-align: right;\">\n",
       "      <th></th>\n",
       "      <th>used_language</th>\n",
       "      <th>specificity</th>\n",
       "      <th>question_length</th>\n",
       "      <th>complexity</th>\n",
       "      <th>image_relatedness</th>\n",
       "      <th>image_difficulty</th>\n",
       "      <th>difficulty</th>\n",
       "      <th>no_tokens</th>\n",
       "      <th>correct</th>\n",
       "      <th>N</th>\n",
       "      <th>Prob</th>\n",
       "      <th>P_T_1</th>\n",
       "      <th>P_T_2_N</th>\n",
       "    </tr>\n",
       "  </thead>\n",
       "  <tbody>\n",
       "    <tr>\n",
       "      <th>0</th>\n",
       "      <td>0</td>\n",
       "      <td>1.0</td>\n",
       "      <td>0.03571428571428571</td>\n",
       "      <td>0.2222222222222222</td>\n",
       "      <td>0.0</td>\n",
       "      <td>0.995475113122172</td>\n",
       "      <td>0.43665308003543296</td>\n",
       "      <td>1</td>\n",
       "      <td>0</td>\n",
       "      <td>3129</td>\n",
       "      <td>0.07764137</td>\n",
       "      <td>0.032721758</td>\n",
       "      <td>0.03421847</td>\n",
       "    </tr>\n",
       "    <tr>\n",
       "      <th>1</th>\n",
       "      <td>0</td>\n",
       "      <td>1.0</td>\n",
       "      <td>0.14285714285714285</td>\n",
       "      <td>0.3333333333333333</td>\n",
       "      <td>0.0</td>\n",
       "      <td>0.995475113122172</td>\n",
       "      <td>0.45484091072326366</td>\n",
       "      <td>1</td>\n",
       "      <td>0</td>\n",
       "      <td>3129</td>\n",
       "      <td>0.20900321</td>\n",
       "      <td>0.079705656</td>\n",
       "      <td>0.16320807</td>\n",
       "    </tr>\n",
       "    <tr>\n",
       "      <th>2</th>\n",
       "      <td>0</td>\n",
       "      <td>1.0</td>\n",
       "      <td>0.03571428571428571</td>\n",
       "      <td>0.1111111111111111</td>\n",
       "      <td>0.0</td>\n",
       "      <td>0.995475113122172</td>\n",
       "      <td>0.42739382077617377</td>\n",
       "      <td>1</td>\n",
       "      <td>0</td>\n",
       "      <td>3129</td>\n",
       "      <td>0.08220834</td>\n",
       "      <td>0.031281423</td>\n",
       "      <td>0.03863878</td>\n",
       "    </tr>\n",
       "    <tr>\n",
       "      <th>3</th>\n",
       "      <td>0</td>\n",
       "      <td>1.0</td>\n",
       "      <td>0.03571428571428571</td>\n",
       "      <td>0.1111111111111111</td>\n",
       "      <td>0.0</td>\n",
       "      <td>0.995475113122172</td>\n",
       "      <td>0.42739382077617377</td>\n",
       "      <td>1</td>\n",
       "      <td>0</td>\n",
       "      <td>3129</td>\n",
       "      <td>0.12248334</td>\n",
       "      <td>0.03310744</td>\n",
       "      <td>0.05039108</td>\n",
       "    </tr>\n",
       "    <tr>\n",
       "      <th>4</th>\n",
       "      <td>0</td>\n",
       "      <td>1.0</td>\n",
       "      <td>0.14285714285714285</td>\n",
       "      <td>0.3333333333333333</td>\n",
       "      <td>0.0</td>\n",
       "      <td>0.995475113122172</td>\n",
       "      <td>0.45484091072326366</td>\n",
       "      <td>1</td>\n",
       "      <td>0</td>\n",
       "      <td>3129</td>\n",
       "      <td>0.06400901</td>\n",
       "      <td>0.022342704</td>\n",
       "      <td>0.027359627</td>\n",
       "    </tr>\n",
       "    <tr>\n",
       "      <th>...</th>\n",
       "      <td>...</td>\n",
       "      <td>...</td>\n",
       "      <td>...</td>\n",
       "      <td>...</td>\n",
       "      <td>...</td>\n",
       "      <td>...</td>\n",
       "      <td>...</td>\n",
       "      <td>...</td>\n",
       "      <td>...</td>\n",
       "      <td>...</td>\n",
       "      <td>...</td>\n",
       "      <td>...</td>\n",
       "      <td>...</td>\n",
       "    </tr>\n",
       "    <tr>\n",
       "      <th>14271</th>\n",
       "      <td>0</td>\n",
       "      <td>0.5</td>\n",
       "      <td>0.8928571428571429</td>\n",
       "      <td>0.7777777777777778</td>\n",
       "      <td>1.0</td>\n",
       "      <td>0.5761689291101055</td>\n",
       "      <td>0.7062758864229451</td>\n",
       "      <td>1</td>\n",
       "      <td>0</td>\n",
       "      <td>30522</td>\n",
       "      <td>0.39408246</td>\n",
       "      <td>0.11134465</td>\n",
       "      <td>0.2185995</td>\n",
       "    </tr>\n",
       "    <tr>\n",
       "      <th>14272</th>\n",
       "      <td>0</td>\n",
       "      <td>1.0</td>\n",
       "      <td>0.8571428571428571</td>\n",
       "      <td>0.7777777777777778</td>\n",
       "      <td>1.0</td>\n",
       "      <td>0.5761689291101055</td>\n",
       "      <td>0.7449663626134214</td>\n",
       "      <td>1</td>\n",
       "      <td>0</td>\n",
       "      <td>30522</td>\n",
       "      <td>0.33916935</td>\n",
       "      <td>0.08689355</td>\n",
       "      <td>0.18697995</td>\n",
       "    </tr>\n",
       "    <tr>\n",
       "      <th>14273</th>\n",
       "      <td>1</td>\n",
       "      <td>1.0</td>\n",
       "      <td>0.0</td>\n",
       "      <td>0.1111111111111111</td>\n",
       "      <td>0.0</td>\n",
       "      <td>0.5761689291101055</td>\n",
       "      <td>0.5253896430367019</td>\n",
       "      <td>1</td>\n",
       "      <td>0</td>\n",
       "      <td>30522</td>\n",
       "      <td>0.8140675</td>\n",
       "      <td>0.42738912</td>\n",
       "      <td>0.61511827</td>\n",
       "    </tr>\n",
       "    <tr>\n",
       "      <th>14274</th>\n",
       "      <td>1</td>\n",
       "      <td>1.0</td>\n",
       "      <td>0.35714285714285715</td>\n",
       "      <td>0.3333333333333333</td>\n",
       "      <td>0.0</td>\n",
       "      <td>0.5761689291101055</td>\n",
       "      <td>0.5253896430367019</td>\n",
       "      <td>1</td>\n",
       "      <td>0</td>\n",
       "      <td>30522</td>\n",
       "      <td>0.5139403</td>\n",
       "      <td>0.211758</td>\n",
       "      <td>0.32532677</td>\n",
       "    </tr>\n",
       "    <tr>\n",
       "      <th>14275</th>\n",
       "      <td>1</td>\n",
       "      <td>1.0</td>\n",
       "      <td>0.4642857142857143</td>\n",
       "      <td>0.2222222222222222</td>\n",
       "      <td>0.0</td>\n",
       "      <td>0.5761689291101055</td>\n",
       "      <td>0.5253896430367019</td>\n",
       "      <td>0</td>\n",
       "      <td>0</td>\n",
       "      <td>30522</td>\n",
       "      <td>1.0</td>\n",
       "      <td>1.0</td>\n",
       "      <td>1.0</td>\n",
       "    </tr>\n",
       "  </tbody>\n",
       "</table>\n",
       "<p>14276 rows × 13 columns</p>\n",
       "</div>"
      ],
      "text/plain": [
       "      used_language specificity      question_length          complexity  \\\n",
       "0                 0         1.0  0.03571428571428571  0.2222222222222222   \n",
       "1                 0         1.0  0.14285714285714285  0.3333333333333333   \n",
       "2                 0         1.0  0.03571428571428571  0.1111111111111111   \n",
       "3                 0         1.0  0.03571428571428571  0.1111111111111111   \n",
       "4                 0         1.0  0.14285714285714285  0.3333333333333333   \n",
       "...             ...         ...                  ...                 ...   \n",
       "14271             0         0.5   0.8928571428571429  0.7777777777777778   \n",
       "14272             0         1.0   0.8571428571428571  0.7777777777777778   \n",
       "14273             1         1.0                  0.0  0.1111111111111111   \n",
       "14274             1         1.0  0.35714285714285715  0.3333333333333333   \n",
       "14275             1         1.0   0.4642857142857143  0.2222222222222222   \n",
       "\n",
       "      image_relatedness    image_difficulty           difficulty no_tokens  \\\n",
       "0                   0.0   0.995475113122172  0.43665308003543296         1   \n",
       "1                   0.0   0.995475113122172  0.45484091072326366         1   \n",
       "2                   0.0   0.995475113122172  0.42739382077617377         1   \n",
       "3                   0.0   0.995475113122172  0.42739382077617377         1   \n",
       "4                   0.0   0.995475113122172  0.45484091072326366         1   \n",
       "...                 ...                 ...                  ...       ...   \n",
       "14271               1.0  0.5761689291101055   0.7062758864229451         1   \n",
       "14272               1.0  0.5761689291101055   0.7449663626134214         1   \n",
       "14273               0.0  0.5761689291101055   0.5253896430367019         1   \n",
       "14274               0.0  0.5761689291101055   0.5253896430367019         1   \n",
       "14275               0.0  0.5761689291101055   0.5253896430367019         0   \n",
       "\n",
       "      correct      N        Prob        P_T_1      P_T_2_N  \n",
       "0           0   3129  0.07764137  0.032721758   0.03421847  \n",
       "1           0   3129  0.20900321  0.079705656   0.16320807  \n",
       "2           0   3129  0.08220834  0.031281423   0.03863878  \n",
       "3           0   3129  0.12248334   0.03310744   0.05039108  \n",
       "4           0   3129  0.06400901  0.022342704  0.027359627  \n",
       "...       ...    ...         ...          ...          ...  \n",
       "14271       0  30522  0.39408246   0.11134465    0.2185995  \n",
       "14272       0  30522  0.33916935   0.08689355   0.18697995  \n",
       "14273       0  30522   0.8140675   0.42738912   0.61511827  \n",
       "14274       0  30522   0.5139403     0.211758   0.32532677  \n",
       "14275       0  30522         1.0          1.0          1.0  \n",
       "\n",
       "[14276 rows x 13 columns]"
      ]
     },
     "execution_count": 49,
     "metadata": {},
     "output_type": "execute_result"
    }
   ],
   "source": [
    "full_df[numeric_cols]"
   ]
  },
  {
   "cell_type": "code",
   "execution_count": 50,
   "metadata": {},
   "outputs": [],
   "source": [
    "full_df[numeric_cols] = full_df[numeric_cols].apply(pd.to_numeric)"
   ]
  },
  {
   "cell_type": "code",
   "execution_count": 54,
   "metadata": {},
   "outputs": [],
   "source": [
    "# full_df.to_excel(f\"./{model_type}_full_results_D_type_{D_type}_semi.xlsx\", sheet_name=f\"{model_type}_D_type_{D_type}_results\", index_label='ID')"
   ]
  },
  {
   "cell_type": "markdown",
   "metadata": {},
   "source": [
    "# For latex visualization (score distribution)"
   ]
  },
  {
   "cell_type": "code",
   "execution_count": 55,
   "metadata": {},
   "outputs": [],
   "source": [
    "        #   ($\\mathrm{D_{R}}$, 1229)\n",
    "        #   ($\\mathrm{D_{I}}$, 1068) \n",
    "        #   ($\\mathrm{d_{Tu}}$, 3452)\n",
    "        #   ($\\mathrm{d_{Ts}}$, 1794) \n",
    "        #   ($\\mathrm{d_{Tl}}$, 1177) \n",
    "        #   ($\\mathrm{d_{Tc}}$, 1229)"
   ]
  },
  {
   "cell_type": "code",
   "execution_count": 56,
   "metadata": {},
   "outputs": [
    {
     "data": {
      "text/html": [
       "<div>\n",
       "<style scoped>\n",
       "    .dataframe tbody tr th:only-of-type {\n",
       "        vertical-align: middle;\n",
       "    }\n",
       "\n",
       "    .dataframe tbody tr th {\n",
       "        vertical-align: top;\n",
       "    }\n",
       "\n",
       "    .dataframe thead th {\n",
       "        text-align: right;\n",
       "    }\n",
       "</style>\n",
       "<table border=\"1\" class=\"dataframe\">\n",
       "  <thead>\n",
       "    <tr style=\"text-align: right;\">\n",
       "      <th></th>\n",
       "      <th>ID</th>\n",
       "      <th>image_name</th>\n",
       "      <th>example_question</th>\n",
       "      <th>question</th>\n",
       "      <th>answer_gt</th>\n",
       "      <th>used_language</th>\n",
       "      <th>specificity</th>\n",
       "      <th>question_length</th>\n",
       "      <th>complexity</th>\n",
       "      <th>image_relatedness</th>\n",
       "      <th>...</th>\n",
       "      <th>P_T_2_N</th>\n",
       "      <th>x_max_str</th>\n",
       "      <th>x_min_str</th>\n",
       "      <th>Prob_str</th>\n",
       "      <th>T_1_max_str</th>\n",
       "      <th>T_1_str</th>\n",
       "      <th>P_T_1_str</th>\n",
       "      <th>T_2_max_N_str</th>\n",
       "      <th>T_2_N_str</th>\n",
       "      <th>P_T_2_N_str</th>\n",
       "    </tr>\n",
       "  </thead>\n",
       "  <tbody>\n",
       "    <tr>\n",
       "      <th>0</th>\n",
       "      <td>0</td>\n",
       "      <td>Gaussian_5_2</td>\n",
       "      <td>what is in the image?</td>\n",
       "      <td>what is in the image?</td>\n",
       "      <td>random+noise+nothing+t know+not sure+unknown+c...</td>\n",
       "      <td>0</td>\n",
       "      <td>1.0</td>\n",
       "      <td>0.035714</td>\n",
       "      <td>0.222222</td>\n",
       "      <td>0.0</td>\n",
       "      <td>...</td>\n",
       "      <td>0.034218</td>\n",
       "      <td>-2.3610375</td>\n",
       "      <td>-16.713715</td>\n",
       "      <td>0.07764137</td>\n",
       "      <td>1.7832804974941396</td>\n",
       "      <td>1.3420218417625023</td>\n",
       "      <td>0.032721758</td>\n",
       "      <td>1.738079</td>\n",
       "      <td>1.322284</td>\n",
       "      <td>0.03421847</td>\n",
       "    </tr>\n",
       "    <tr>\n",
       "      <th>1</th>\n",
       "      <td>1</td>\n",
       "      <td>Gaussian_5_2</td>\n",
       "      <td>what is the dominant color of the image?</td>\n",
       "      <td>what is the dominant color of the image?</td>\n",
       "      <td>color+gray+grey+nothing+t know+not sure+unknow...</td>\n",
       "      <td>0</td>\n",
       "      <td>1.0</td>\n",
       "      <td>0.142857</td>\n",
       "      <td>0.333333</td>\n",
       "      <td>0.0</td>\n",
       "      <td>...</td>\n",
       "      <td>0.163208</td>\n",
       "      <td>-0.49326575</td>\n",
       "      <td>-27.210875</td>\n",
       "      <td>0.20900321</td>\n",
       "      <td>3.319589136322892</td>\n",
       "      <td>2.055044035268893</td>\n",
       "      <td>0.079705656</td>\n",
       "      <td>1.738079</td>\n",
       "      <td>1.335708</td>\n",
       "      <td>0.16320807</td>\n",
       "    </tr>\n",
       "    <tr>\n",
       "      <th>2</th>\n",
       "      <td>2</td>\n",
       "      <td>Gaussian_5_2</td>\n",
       "      <td>what does the image represent?</td>\n",
       "      <td>what does the image represent?</td>\n",
       "      <td>random+noise+nothing+t know+not sure+unknown+c...</td>\n",
       "      <td>0</td>\n",
       "      <td>1.0</td>\n",
       "      <td>0.035714</td>\n",
       "      <td>0.111111</td>\n",
       "      <td>0.0</td>\n",
       "      <td>...</td>\n",
       "      <td>0.038639</td>\n",
       "      <td>-2.180196</td>\n",
       "      <td>-17.993324</td>\n",
       "      <td>0.08220834</td>\n",
       "      <td>1.964737514053651</td>\n",
       "      <td>1.4123228521774975</td>\n",
       "      <td>0.031281423</td>\n",
       "      <td>1.738079</td>\n",
       "      <td>1.315450</td>\n",
       "      <td>0.03863878</td>\n",
       "    </tr>\n",
       "    <tr>\n",
       "      <th>3</th>\n",
       "      <td>3</td>\n",
       "      <td>Gaussian_5_2</td>\n",
       "      <td>why is the image random?</td>\n",
       "      <td>why is the image random?</td>\n",
       "      <td>random+t know+not sure+unknown+can't tell+none...</td>\n",
       "      <td>0</td>\n",
       "      <td>1.0</td>\n",
       "      <td>0.035714</td>\n",
       "      <td>0.111111</td>\n",
       "      <td>0.0</td>\n",
       "      <td>...</td>\n",
       "      <td>0.050391</td>\n",
       "      <td>-2.5192337</td>\n",
       "      <td>-19.845095</td>\n",
       "      <td>0.12248334</td>\n",
       "      <td>2.152690347564782</td>\n",
       "      <td>1.492652731817528</td>\n",
       "      <td>0.03310744</td>\n",
       "      <td>1.738079</td>\n",
       "      <td>1.315450</td>\n",
       "      <td>0.05039108</td>\n",
       "    </tr>\n",
       "    <tr>\n",
       "      <th>4</th>\n",
       "      <td>4</td>\n",
       "      <td>Gaussian_5_2</td>\n",
       "      <td>why aren't there any objects in the image?</td>\n",
       "      <td>why aren't there any objects in the image?</td>\n",
       "      <td>random+noise+t know+not sure+unknown+can't tel...</td>\n",
       "      <td>0</td>\n",
       "      <td>1.0</td>\n",
       "      <td>0.142857</td>\n",
       "      <td>0.333333</td>\n",
       "      <td>0.0</td>\n",
       "      <td>...</td>\n",
       "      <td>0.027360</td>\n",
       "      <td>-3.1362438</td>\n",
       "      <td>-18.810205</td>\n",
       "      <td>0.06400901</td>\n",
       "      <td>1.9474464197595112</td>\n",
       "      <td>1.4309373924249116</td>\n",
       "      <td>0.022342704</td>\n",
       "      <td>1.738079</td>\n",
       "      <td>1.335708</td>\n",
       "      <td>0.027359627</td>\n",
       "    </tr>\n",
       "  </tbody>\n",
       "</table>\n",
       "<p>5 rows × 30 columns</p>\n",
       "</div>"
      ],
      "text/plain": [
       "   ID    image_name                            example_question  \\\n",
       "0   0  Gaussian_5_2                       what is in the image?   \n",
       "1   1  Gaussian_5_2    what is the dominant color of the image?   \n",
       "2   2  Gaussian_5_2              what does the image represent?   \n",
       "3   3  Gaussian_5_2                    why is the image random?   \n",
       "4   4  Gaussian_5_2  why aren't there any objects in the image?   \n",
       "\n",
       "                                     question  \\\n",
       "0                       what is in the image?   \n",
       "1    what is the dominant color of the image?   \n",
       "2              what does the image represent?   \n",
       "3                    why is the image random?   \n",
       "4  why aren't there any objects in the image?   \n",
       "\n",
       "                                           answer_gt  used_language  \\\n",
       "0  random+noise+nothing+t know+not sure+unknown+c...              0   \n",
       "1  color+gray+grey+nothing+t know+not sure+unknow...              0   \n",
       "2  random+noise+nothing+t know+not sure+unknown+c...              0   \n",
       "3  random+t know+not sure+unknown+can't tell+none...              0   \n",
       "4  random+noise+t know+not sure+unknown+can't tel...              0   \n",
       "\n",
       "   specificity  question_length  complexity  image_relatedness  ...   P_T_2_N  \\\n",
       "0          1.0         0.035714    0.222222                0.0  ...  0.034218   \n",
       "1          1.0         0.142857    0.333333                0.0  ...  0.163208   \n",
       "2          1.0         0.035714    0.111111                0.0  ...  0.038639   \n",
       "3          1.0         0.035714    0.111111                0.0  ...  0.050391   \n",
       "4          1.0         0.142857    0.333333                0.0  ...  0.027360   \n",
       "\n",
       "     x_max_str   x_min_str    Prob_str         T_1_max_str  \\\n",
       "0   -2.3610375  -16.713715  0.07764137  1.7832804974941396   \n",
       "1  -0.49326575  -27.210875  0.20900321   3.319589136322892   \n",
       "2    -2.180196  -17.993324  0.08220834   1.964737514053651   \n",
       "3   -2.5192337  -19.845095  0.12248334   2.152690347564782   \n",
       "4   -3.1362438  -18.810205  0.06400901  1.9474464197595112   \n",
       "\n",
       "              T_1_str    P_T_1_str  T_2_max_N_str  T_2_N_str  P_T_2_N_str  \n",
       "0  1.3420218417625023  0.032721758       1.738079   1.322284   0.03421847  \n",
       "1   2.055044035268893  0.079705656       1.738079   1.335708   0.16320807  \n",
       "2  1.4123228521774975  0.031281423       1.738079   1.315450   0.03863878  \n",
       "3   1.492652731817528   0.03310744       1.738079   1.315450   0.05039108  \n",
       "4  1.4309373924249116  0.022342704       1.738079   1.335708  0.027359627  \n",
       "\n",
       "[5 rows x 30 columns]"
      ]
     },
     "execution_count": 56,
     "metadata": {},
     "output_type": "execute_result"
    }
   ],
   "source": [
    "D_type = 1\n",
    "full_df = pd.read_excel(f\"./{model_type}_full_results_D_type_{D_type}_semi.xlsx\", sheet_name=f\"{model_type}_D_type_{D_type}_results\")\n",
    "full_df.head()"
   ]
  },
  {
   "cell_type": "code",
   "execution_count": 57,
   "metadata": {},
   "outputs": [
    {
     "data": {
      "text/plain": [
       "(0.0, 1.0)"
      ]
     },
     "execution_count": 57,
     "metadata": {},
     "output_type": "execute_result"
    }
   ],
   "source": [
    "min(full_df[\"image_relatedness\"].to_list()), max(full_df[\"image_relatedness\"].to_list())"
   ]
  },
  {
   "cell_type": "code",
   "execution_count": 58,
   "metadata": {},
   "outputs": [
    {
     "data": {
      "text/plain": [
       "[(0.0, 0.2), (0.2, 0.4), (0.4, 0.6), (0.6, 0.8), (0.8, 1.0)]"
      ]
     },
     "execution_count": 58,
     "metadata": {},
     "output_type": "execute_result"
    }
   ],
   "source": [
    "score_ranges = [(i/100, (i+20)/100) for i in range(0,100,20)]\n",
    "score_ranges"
   ]
  },
  {
   "cell_type": "code",
   "execution_count": 59,
   "metadata": {},
   "outputs": [
    {
     "data": {
      "text/plain": [
       "3569"
      ]
     },
     "execution_count": 59,
     "metadata": {},
     "output_type": "execute_result"
    }
   ],
   "source": [
    "sub_df = full_df[full_df[\"model_name\"]==\"Vilt\"]\n",
    "len(sub_df)"
   ]
  },
  {
   "cell_type": "code",
   "execution_count": 64,
   "metadata": {},
   "outputs": [
    {
     "data": {
      "text/plain": [
       "(array([0. , 0.5, 1. ]), array([1229, 1170, 1170], dtype=int64))"
      ]
     },
     "execution_count": 64,
     "metadata": {},
     "output_type": "execute_result"
    }
   ],
   "source": [
    "np.unique(sub_df[\"image_relatedness\"].to_list(), return_counts=True)"
   ]
  },
  {
   "cell_type": "code",
   "execution_count": 60,
   "metadata": {},
   "outputs": [],
   "source": [
    "D_R = sub_df[\"image_relatedness\"].to_list()\n",
    "D_I = sub_df[\"image_difficulty\"].to_list()\n",
    "d_Tu = sub_df[\"used_language\"].to_list()\n",
    "d_Ts = sub_df[\"specificity\"].to_list()\n",
    "d_Tl = sub_df[\"question_length\"].to_list()\n",
    "d_Tc = sub_df[\"complexity\"].to_list()\n",
    "\n",
    "D_lists = {\n",
    "    \"{D_{R}}\": D_R,\n",
    "    \"{D_{I}}\": D_I,\n",
    "    \"{d_{Tu}}\": d_Tu,\n",
    "    \"{d_{Ts}}\": d_Ts,\n",
    "    \"{d_{Tl}}\": d_Tl,\n",
    "    \"{d_{Tc}}\": d_Tc\n",
    "}"
   ]
  },
  {
   "cell_type": "code",
   "execution_count": 61,
   "metadata": {},
   "outputs": [
    {
     "data": {
      "text/plain": [
       "1229"
      ]
     },
     "execution_count": 61,
     "metadata": {},
     "output_type": "execute_result"
    }
   ],
   "source": [
    "sum((i>=0 and i<0.2) for i in D_R)"
   ]
  },
  {
   "cell_type": "code",
   "execution_count": 62,
   "metadata": {},
   "outputs": [
    {
     "name": "stdout",
     "output_type": "stream",
     "text": [
      "($\\mathrm{D_{R}}$, 1229)\n",
      "($\\mathrm{D_{I}}$, 0)\n",
      "($\\mathrm{d_{Tu}}$, 3530)\n",
      "($\\mathrm{d_{Ts}}$, 429)\n",
      "($\\mathrm{d_{Tl}}$, 1034)\n",
      "($\\mathrm{d_{Tc}}$, 177)\n",
      ">>>>>>>>>>>>>>>>>>>>>>>>>>>>\n",
      "($\\mathrm{D_{R}}$, 0)\n",
      "($\\mathrm{D_{I}}$, 0)\n",
      "($\\mathrm{d_{Tu}}$, 0)\n",
      "($\\mathrm{d_{Ts}}$, 0)\n",
      "($\\mathrm{d_{Tl}}$, 299)\n",
      "($\\mathrm{d_{Tc}}$, 1546)\n",
      ">>>>>>>>>>>>>>>>>>>>>>>>>>>>\n",
      "($\\mathrm{D_{R}}$, 1170)\n",
      "($\\mathrm{D_{I}}$, 3003)\n",
      "($\\mathrm{d_{Tu}}$, 0)\n",
      "($\\mathrm{d_{Ts}}$, 1443)\n",
      "($\\mathrm{d_{Tl}}$, 1027)\n",
      "($\\mathrm{d_{Tc}}$, 1066)\n",
      ">>>>>>>>>>>>>>>>>>>>>>>>>>>>\n",
      "($\\mathrm{D_{R}}$, 0)\n",
      "($\\mathrm{D_{I}}$, 546)\n",
      "($\\mathrm{d_{Tu}}$, 0)\n",
      "($\\mathrm{d_{Ts}}$, 0)\n",
      "($\\mathrm{d_{Tl}}$, 312)\n",
      "($\\mathrm{d_{Tc}}$, 754)\n",
      ">>>>>>>>>>>>>>>>>>>>>>>>>>>>\n"
     ]
    }
   ],
   "source": [
    "# r_idx = 0\n",
    "\n",
    "\n",
    "for r_idx in range(len(score_ranges)-1):\n",
    "    a, b = score_ranges[r_idx]\n",
    "    for name, D in D_lists.items():\n",
    "        s = sum((i>=a and i<b) for i in D)\n",
    "        line = f\"($\\mathrm{name}$, {s})\"\n",
    "        print(line)\n",
    "    print(\">>>>>>>>>>>>>>>>>>>>>>>>>>>>\")"
   ]
  },
  {
   "cell_type": "code",
   "execution_count": 65,
   "metadata": {},
   "outputs": [
    {
     "name": "stdout",
     "output_type": "stream",
     "text": [
      "($\\mathrm{D_{R}}$, 1170)\n",
      "($\\mathrm{D_{I}}$, 20)\n",
      "($\\mathrm{d_{Tu}}$, 39)\n",
      "($\\mathrm{d_{Ts}}$, 1697)\n",
      "($\\mathrm{d_{Tl}}$, 897)\n",
      "($\\mathrm{d_{Tc}}$, 26)\n",
      ">>>>>>>>>>>>>>>>>>>>>>>>>>>>\n"
     ]
    }
   ],
   "source": [
    "r_idx = 4\n",
    "a, b = score_ranges[r_idx]\n",
    "for name, D in D_lists.items():\n",
    "    s = sum((i>=a) for i in D)\n",
    "    line = f\"($\\mathrm{name}$, {s})\"\n",
    "    print(line)\n",
    "print(\">>>>>>>>>>>>>>>>>>>>>>>>>>>>\")"
   ]
  },
  {
   "cell_type": "code",
   "execution_count": 66,
   "metadata": {},
   "outputs": [
    {
     "data": {
      "text/plain": [
       "(array([0.22294195, 0.22445025, 0.22495302, ..., 0.76105485, 0.76252274,\n",
       "        0.76403104]),\n",
       " array([2, 2, 2, ..., 2, 2, 2], dtype=int64))"
      ]
     },
     "execution_count": 66,
     "metadata": {},
     "output_type": "execute_result"
    }
   ],
   "source": [
    "Diff = sub_df[\"difficulty\"].to_list()\n",
    "\n",
    "vs, cs = np.unique(Diff, return_counts=True)\n",
    "\n",
    "vs, cs"
   ]
  },
  {
   "cell_type": "code",
   "execution_count": 67,
   "metadata": {},
   "outputs": [
    {
     "data": {
      "text/plain": [
       "(0.2229419545596016, 0.7640310397663339)"
      ]
     },
     "execution_count": 67,
     "metadata": {},
     "output_type": "execute_result"
    }
   ],
   "source": [
    "min(vs), max(vs)"
   ]
  },
  {
   "cell_type": "code",
   "execution_count": 68,
   "metadata": {},
   "outputs": [
    {
     "data": {
      "text/plain": [
       "(22,\n",
       " [(0.0, 0.04),\n",
       "  (0.04, 0.08),\n",
       "  (0.08, 0.12),\n",
       "  (0.12, 0.16),\n",
       "  (0.16, 0.2),\n",
       "  (0.2, 0.24),\n",
       "  (0.24, 0.28),\n",
       "  (0.28, 0.32),\n",
       "  (0.32, 0.36),\n",
       "  (0.36, 0.4),\n",
       "  (0.4, 0.44),\n",
       "  (0.44, 0.48),\n",
       "  (0.48, 0.52),\n",
       "  (0.52, 0.56),\n",
       "  (0.56, 0.6),\n",
       "  (0.6, 0.64),\n",
       "  (0.64, 0.68),\n",
       "  (0.68, 0.72),\n",
       "  (0.72, 0.76),\n",
       "  (0.76, 0.8),\n",
       "  (0.8, 0.84),\n",
       "  (0.84, 0.88)])"
      ]
     },
     "execution_count": 68,
     "metadata": {},
     "output_type": "execute_result"
    }
   ],
   "source": [
    "cont_D_ranges = [(i/100, (i+4)/100) for i in range(0,86,4)]\n",
    "len(cont_D_ranges), cont_D_ranges"
   ]
  },
  {
   "cell_type": "code",
   "execution_count": 69,
   "metadata": {},
   "outputs": [
    {
     "name": "stdout",
     "output_type": "stream",
     "text": [
      "0.0,0.04,0.08,0.12,0.16,0.2,0.24,0.28,0.32,0.36,0.4,0.44,0.48,0.52,0.56,0.6,0.64,0.68,0.72,0.76,0.8,0.84,"
     ]
    }
   ],
   "source": [
    "for (a, b) in cont_D_ranges:\n",
    "    interval = f\"{a}--{b}\"\n",
    "    interval = f\"{a}\"\n",
    "    print(interval, end=\",\")"
   ]
  },
  {
   "cell_type": "code",
   "execution_count": 70,
   "metadata": {},
   "outputs": [
    {
     "name": "stdout",
     "output_type": "stream",
     "text": [
      "Dscore\t&\tDcount\t\\\\\n",
      "0.0\t&\t0\t\\\\\n",
      "0.04\t&\t0\t\\\\\n",
      "0.08\t&\t0\t\\\\\n",
      "0.12\t&\t0\t\\\\\n",
      "0.16\t&\t0\t\\\\\n",
      "0.2\t&\t33\t\\\\\n",
      "0.24\t&\t175\t\\\\\n",
      "0.28\t&\t292\t\\\\\n",
      "0.32\t&\t284\t\\\\\n",
      "0.36\t&\t314\t\\\\\n",
      "0.4\t&\t287\t\\\\\n",
      "0.44\t&\t323\t\\\\\n",
      "0.48\t&\t258\t\\\\\n",
      "0.52\t&\t317\t\\\\\n",
      "0.56\t&\t220\t\\\\\n",
      "0.6\t&\t285\t\\\\\n",
      "0.64\t&\t324\t\\\\\n",
      "0.68\t&\t293\t\\\\\n",
      "0.72\t&\t158\t\\\\\n",
      "0.76\t&\t6\t\\\\\n",
      "0.8\t&\t0\t\\\\\n",
      "0.84\t&\t0\t\\\\\n"
     ]
    }
   ],
   "source": [
    "line = \"Dscore\\t&\\tDcount\\t\\\\\\\\\"\n",
    "print(line)\n",
    "for (a, b) in cont_D_ranges:\n",
    "    interval = f\"{a}--{b}\"\n",
    "    interval = f\"{a}\"\n",
    "    s = sum((i>=a and i<b) for i in Diff)\n",
    "    line = f\"{interval}\\t&\\t{s}\\t\\\\\\\\\"\n",
    "    print(line)"
   ]
  },
  {
   "cell_type": "code",
   "execution_count": 71,
   "metadata": {},
   "outputs": [],
   "source": [
    "x_coords, coords = str(), str()\n",
    "\n",
    "for v, c in zip(vs, cs):\n",
    "    x = round(v, 2)\n",
    "    x_coords += f\"{x},\"\n",
    "    coords += f\"({x},{c}) \""
   ]
  },
  {
   "cell_type": "code",
   "execution_count": 72,
   "metadata": {},
   "outputs": [],
   "source": [
    "# raw = np.column_stack((vs, cs))\n",
    "# np.savetxt(f\"./rawdata.dat\", raw)"
   ]
  },
  {
   "cell_type": "code",
   "execution_count": null,
   "metadata": {},
   "outputs": [],
   "source": []
  }
 ],
 "metadata": {
  "kernelspec": {
   "display_name": "transformers",
   "language": "python",
   "name": "python3"
  },
  "language_info": {
   "codemirror_mode": {
    "name": "ipython",
    "version": 3
   },
   "file_extension": ".py",
   "mimetype": "text/x-python",
   "name": "python",
   "nbconvert_exporter": "python",
   "pygments_lexer": "ipython3",
   "version": "3.9.1"
  }
 },
 "nbformat": 4,
 "nbformat_minor": 2
}
