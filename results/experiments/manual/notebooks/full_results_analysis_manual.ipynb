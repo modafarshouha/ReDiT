{
 "cells": [
  {
   "cell_type": "markdown",
   "metadata": {},
   "source": [
    "# Import"
   ]
  },
  {
   "cell_type": "code",
   "execution_count": 1,
   "metadata": {},
   "outputs": [],
   "source": [
    "import numpy as np\n",
    "import pandas as pd\n",
    "import matplotlib\n",
    "import matplotlib.pyplot as plt"
   ]
  },
  {
   "cell_type": "markdown",
   "metadata": {},
   "source": [
    "# Define variables"
   ]
  },
  {
   "cell_type": "code",
   "execution_count": 2,
   "metadata": {},
   "outputs": [
    {
     "data": {
      "text/plain": [
       "{'image_relatedness': float,\n",
       " 'image_difficulty': float,\n",
       " 'used_language': float,\n",
       " 'specificity': float,\n",
       " 'question_length': float,\n",
       " 'complexity': float,\n",
       " 'difficulty': float,\n",
       " 'no_tokens': float,\n",
       " 'correct': float,\n",
       " 'N': float,\n",
       " 'Prob': float,\n",
       " 'P_T_1': float,\n",
       " 'P_T_2_N': float}"
      ]
     },
     "execution_count": 2,
     "metadata": {},
     "output_type": "execute_result"
    }
   ],
   "source": [
    "model_names = [\"Vilt\", \"Blip_large\", \"GiT_base\", \"GiT_large\"] # skip , \"Blip_base\"\n",
    "\n",
    "# image_names = [\"Gaussian_5_2\", \"Gaussian_5_3\", \"Gaussian_5_4\", \"Gaussian_5_5\",\n",
    "#                \"white_house_brown_cat\", \"white_house_brown_cow\", \"white_house_brown_dog\", \"white_house_brown_horse\",\n",
    "#                \"white_house_green_cat\", \"white_house_green_unknown\",\n",
    "#                \"white_house_pink_cow\", \"white_house_pink_unknown\",\n",
    "#                \"white_house_purple_dog\", \"white_house_purple_horse\",\n",
    "#                \"white_house_red_duck\", \"white_house_red_unknown\",\n",
    "#                \"white_house_yellow_unknown\"]\n",
    "\n",
    "image_difficulty = {\"Gaussian_5_2\":1, \"Gaussian_5_3\":1, \"Gaussian_5_4\":1, \"Gaussian_5_5\":1,\n",
    "                    \"white_house_brown_cat\":0, \"white_house_brown_cow\":0, \"white_house_brown_dog\":0, \"white_house_brown_horse\":0,\n",
    "                    \"white_house_green_cat\":0.5, \"white_house_green_unknown\":0.5,\n",
    "                    \"white_house_pink_cow\":0.5, \"white_house_pink_unknown\":0.5,\n",
    "                    \"white_house_purple_dog\":0.5, \"white_house_purple_horse\":0.5,\n",
    "                    \"white_house_red_duck\":0.5, \"white_house_red_unknown\":0.5,\n",
    "                    \"white_house_yellow_unknown\":0.5}\n",
    "image_names = list(image_difficulty.keys())\n",
    "\n",
    "model_type = \"VQA\"\n",
    "\n",
    "criteria = [\"image_relatedness\", \"image_difficulty\",\"used_language\", \"specificity\", \"question_length\", \"complexity\"]\n",
    "numeric_cols = criteria + [\"difficulty\", \"no_tokens\", \"correct\", \"N\", \"Prob\", \"P_T_1\", \"P_T_2_N\"]\n",
    "major_criteria = [\"used_language\", \"image_relatedness\", \"image_difficulty\"]\n",
    "Probs = [\"Prob\", \"P_T_1\", \"P_T_2_N\"]\n",
    "letters = ['a', 'b', 'c', 'd', 'e', 'f']\n",
    "\n",
    "D_type = \"1\"\n",
    "\n",
    "numeric_cols_dtype = dict()\n",
    "for c in numeric_cols: numeric_cols_dtype[c]=float\n",
    "numeric_cols_dtype"
   ]
  },
  {
   "cell_type": "markdown",
   "metadata": {},
   "source": [
    "# Read full results"
   ]
  },
  {
   "cell_type": "code",
   "execution_count": 3,
   "metadata": {},
   "outputs": [],
   "source": [
    "full_results_df = pd.read_excel(f\"./{model_type}_full_results_D_type_{D_type}_manual.xlsx\", sheet_name=f\"{model_type}_D_type_{D_type}_results\",\n",
    "                             dtype=numeric_cols_dtype)"
   ]
  },
  {
   "cell_type": "code",
   "execution_count": 4,
   "metadata": {},
   "outputs": [
    {
     "data": {
      "text/html": [
       "<div>\n",
       "<style scoped>\n",
       "    .dataframe tbody tr th:only-of-type {\n",
       "        vertical-align: middle;\n",
       "    }\n",
       "\n",
       "    .dataframe tbody tr th {\n",
       "        vertical-align: top;\n",
       "    }\n",
       "\n",
       "    .dataframe thead th {\n",
       "        text-align: right;\n",
       "    }\n",
       "</style>\n",
       "<table border=\"1\" class=\"dataframe\">\n",
       "  <thead>\n",
       "    <tr style=\"text-align: right;\">\n",
       "      <th></th>\n",
       "      <th>ID</th>\n",
       "      <th>image_name</th>\n",
       "      <th>example_question</th>\n",
       "      <th>question</th>\n",
       "      <th>answer_gt</th>\n",
       "      <th>used_language</th>\n",
       "      <th>specificity</th>\n",
       "      <th>question_length</th>\n",
       "      <th>complexity</th>\n",
       "      <th>image_relatedness</th>\n",
       "      <th>...</th>\n",
       "      <th>P_T_2_N</th>\n",
       "      <th>x_max_str</th>\n",
       "      <th>x_min_str</th>\n",
       "      <th>Prob_str</th>\n",
       "      <th>T_1_max_str</th>\n",
       "      <th>T_1_str</th>\n",
       "      <th>P_T_1_str</th>\n",
       "      <th>T_2_max_N_str</th>\n",
       "      <th>T_2_N_str</th>\n",
       "      <th>P_T_2_N_str</th>\n",
       "    </tr>\n",
       "  </thead>\n",
       "  <tbody>\n",
       "    <tr>\n",
       "      <th>0</th>\n",
       "      <td>0</td>\n",
       "      <td>Gaussian_5_2</td>\n",
       "      <td>what is in the image?</td>\n",
       "      <td>what is in the image?</td>\n",
       "      <td>random+noise+nothing+t know+not sure+unknown+c...</td>\n",
       "      <td>0.0</td>\n",
       "      <td>1.0</td>\n",
       "      <td>0.0</td>\n",
       "      <td>0.0</td>\n",
       "      <td>0.0</td>\n",
       "      <td>...</td>\n",
       "      <td>0.035396</td>\n",
       "      <td>-2.3610375</td>\n",
       "      <td>-16.713715</td>\n",
       "      <td>0.07764137</td>\n",
       "      <td>1.7832804974941396</td>\n",
       "      <td>1.3263668739558916</td>\n",
       "      <td>0.033901606</td>\n",
       "      <td>1.738079</td>\n",
       "      <td>1.307533</td>\n",
       "      <td>0.035396315</td>\n",
       "    </tr>\n",
       "    <tr>\n",
       "      <th>1</th>\n",
       "      <td>1</td>\n",
       "      <td>Gaussian_5_2</td>\n",
       "      <td>what is the dominant color of the image?</td>\n",
       "      <td>what is the dominant color of the image?</td>\n",
       "      <td>color+gray+grey+nothing+t know+not sure+unknow...</td>\n",
       "      <td>0.0</td>\n",
       "      <td>1.0</td>\n",
       "      <td>0.0</td>\n",
       "      <td>0.0</td>\n",
       "      <td>0.0</td>\n",
       "      <td>...</td>\n",
       "      <td>0.166710</td>\n",
       "      <td>-0.49326575</td>\n",
       "      <td>-27.210875</td>\n",
       "      <td>0.20900321</td>\n",
       "      <td>3.319589136322892</td>\n",
       "      <td>1.9664954734678717</td>\n",
       "      <td>0.08871711</td>\n",
       "      <td>1.738079</td>\n",
       "      <td>1.307533</td>\n",
       "      <td>0.16670989</td>\n",
       "    </tr>\n",
       "    <tr>\n",
       "      <th>2</th>\n",
       "      <td>2</td>\n",
       "      <td>Gaussian_5_2</td>\n",
       "      <td>what does the image represent?</td>\n",
       "      <td>what does the image represent?</td>\n",
       "      <td>random+noise+nothing+t know+not sure+unknown+c...</td>\n",
       "      <td>0.0</td>\n",
       "      <td>1.0</td>\n",
       "      <td>0.0</td>\n",
       "      <td>0.0</td>\n",
       "      <td>0.0</td>\n",
       "      <td>...</td>\n",
       "      <td>0.039332</td>\n",
       "      <td>-2.180196</td>\n",
       "      <td>-17.993324</td>\n",
       "      <td>0.08220834</td>\n",
       "      <td>1.964737514053651</td>\n",
       "      <td>1.4019739641890212</td>\n",
       "      <td>0.031976696</td>\n",
       "      <td>1.738079</td>\n",
       "      <td>1.307533</td>\n",
       "      <td>0.03933237</td>\n",
       "    </tr>\n",
       "    <tr>\n",
       "      <th>3</th>\n",
       "      <td>3</td>\n",
       "      <td>Gaussian_5_2</td>\n",
       "      <td>why is the image random?</td>\n",
       "      <td>why is the image random?</td>\n",
       "      <td>random+t know+not sure+unknown+can't tell+none...</td>\n",
       "      <td>0.0</td>\n",
       "      <td>1.0</td>\n",
       "      <td>0.0</td>\n",
       "      <td>0.0</td>\n",
       "      <td>0.0</td>\n",
       "      <td>...</td>\n",
       "      <td>0.051415</td>\n",
       "      <td>-2.5192337</td>\n",
       "      <td>-19.845095</td>\n",
       "      <td>0.12248334</td>\n",
       "      <td>2.152690347564782</td>\n",
       "      <td>1.4802876448186593</td>\n",
       "      <td>0.034029774</td>\n",
       "      <td>1.738079</td>\n",
       "      <td>1.307533</td>\n",
       "      <td>0.05141516</td>\n",
       "    </tr>\n",
       "    <tr>\n",
       "      <th>4</th>\n",
       "      <td>4</td>\n",
       "      <td>Gaussian_5_2</td>\n",
       "      <td>why aren't there any objects in the image?</td>\n",
       "      <td>why aren't there any objects in the image?</td>\n",
       "      <td>random+noise+t know+not sure+unknown+can't tel...</td>\n",
       "      <td>0.0</td>\n",
       "      <td>1.0</td>\n",
       "      <td>0.0</td>\n",
       "      <td>0.0</td>\n",
       "      <td>0.0</td>\n",
       "      <td>...</td>\n",
       "      <td>0.029139</td>\n",
       "      <td>-3.1362438</td>\n",
       "      <td>-18.810205</td>\n",
       "      <td>0.06400901</td>\n",
       "      <td>1.9474464197595112</td>\n",
       "      <td>1.394769341566463</td>\n",
       "      <td>0.024084808</td>\n",
       "      <td>1.738079</td>\n",
       "      <td>1.307533</td>\n",
       "      <td>0.02913933</td>\n",
       "    </tr>\n",
       "  </tbody>\n",
       "</table>\n",
       "<p>5 rows × 30 columns</p>\n",
       "</div>"
      ],
      "text/plain": [
       "   ID    image_name                            example_question  \\\n",
       "0   0  Gaussian_5_2                       what is in the image?   \n",
       "1   1  Gaussian_5_2    what is the dominant color of the image?   \n",
       "2   2  Gaussian_5_2              what does the image represent?   \n",
       "3   3  Gaussian_5_2                    why is the image random?   \n",
       "4   4  Gaussian_5_2  why aren't there any objects in the image?   \n",
       "\n",
       "                                     question  \\\n",
       "0                       what is in the image?   \n",
       "1    what is the dominant color of the image?   \n",
       "2              what does the image represent?   \n",
       "3                    why is the image random?   \n",
       "4  why aren't there any objects in the image?   \n",
       "\n",
       "                                           answer_gt  used_language  \\\n",
       "0  random+noise+nothing+t know+not sure+unknown+c...            0.0   \n",
       "1  color+gray+grey+nothing+t know+not sure+unknow...            0.0   \n",
       "2  random+noise+nothing+t know+not sure+unknown+c...            0.0   \n",
       "3  random+t know+not sure+unknown+can't tell+none...            0.0   \n",
       "4  random+noise+t know+not sure+unknown+can't tel...            0.0   \n",
       "\n",
       "   specificity  question_length  complexity  image_relatedness  ...   P_T_2_N  \\\n",
       "0          1.0              0.0         0.0                0.0  ...  0.035396   \n",
       "1          1.0              0.0         0.0                0.0  ...  0.166710   \n",
       "2          1.0              0.0         0.0                0.0  ...  0.039332   \n",
       "3          1.0              0.0         0.0                0.0  ...  0.051415   \n",
       "4          1.0              0.0         0.0                0.0  ...  0.029139   \n",
       "\n",
       "     x_max_str   x_min_str    Prob_str         T_1_max_str  \\\n",
       "0   -2.3610375  -16.713715  0.07764137  1.7832804974941396   \n",
       "1  -0.49326575  -27.210875  0.20900321   3.319589136322892   \n",
       "2    -2.180196  -17.993324  0.08220834   1.964737514053651   \n",
       "3   -2.5192337  -19.845095  0.12248334   2.152690347564782   \n",
       "4   -3.1362438  -18.810205  0.06400901  1.9474464197595112   \n",
       "\n",
       "              T_1_str    P_T_1_str  T_2_max_N_str  T_2_N_str  P_T_2_N_str  \n",
       "0  1.3263668739558916  0.033901606       1.738079   1.307533  0.035396315  \n",
       "1  1.9664954734678717   0.08871711       1.738079   1.307533   0.16670989  \n",
       "2  1.4019739641890212  0.031976696       1.738079   1.307533   0.03933237  \n",
       "3  1.4802876448186593  0.034029774       1.738079   1.307533   0.05141516  \n",
       "4   1.394769341566463  0.024084808       1.738079   1.307533   0.02913933  \n",
       "\n",
       "[5 rows x 30 columns]"
      ]
     },
     "execution_count": 4,
     "metadata": {},
     "output_type": "execute_result"
    }
   ],
   "source": [
    "full_results_df.head()"
   ]
  },
  {
   "cell_type": "code",
   "execution_count": 5,
   "metadata": {},
   "outputs": [],
   "source": [
    "data = full_results_df.copy()"
   ]
  },
  {
   "cell_type": "code",
   "execution_count": 6,
   "metadata": {},
   "outputs": [
    {
     "data": {
      "text/plain": [
       "ID                                                                   0\n",
       "image_name                                                Gaussian_5_2\n",
       "example_question                                 what is in the image?\n",
       "question                                         what is in the image?\n",
       "answer_gt            random+noise+nothing+t know+not sure+unknown+c...\n",
       "used_language                                                      0.0\n",
       "specificity                                                        1.0\n",
       "question_length                                                    0.0\n",
       "complexity                                                         0.0\n",
       "image_relatedness                                                  0.0\n",
       "image_difficulty                                                   1.0\n",
       "difficulty                                                    0.416667\n",
       "model_name                                                        Vilt\n",
       "full_answer                                                       kite\n",
       "clean_answer                                                      kite\n",
       "no_tokens                                                          1.0\n",
       "correct                                                            0.0\n",
       "N                                                               3129.0\n",
       "Prob                                                          0.077641\n",
       "P_T_1                                                         0.033902\n",
       "P_T_2_N                                                       0.035396\n",
       "x_max_str                                                   -2.3610375\n",
       "x_min_str                                                   -16.713715\n",
       "Prob_str                                                    0.07764137\n",
       "T_1_max_str                                         1.7832804974941396\n",
       "T_1_str                                             1.3263668739558916\n",
       "P_T_1_str                                                  0.033901606\n",
       "T_2_max_N_str                                                 1.738079\n",
       "T_2_N_str                                                     1.307533\n",
       "P_T_2_N_str                                                0.035396315\n",
       "Name: 0, dtype: object"
      ]
     },
     "execution_count": 6,
     "metadata": {},
     "output_type": "execute_result"
    }
   ],
   "source": [
    "data.iloc[0]"
   ]
  },
  {
   "cell_type": "markdown",
   "metadata": {},
   "source": [
    "# Add valid and normal column"
   ]
  },
  {
   "cell_type": "code",
   "execution_count": 7,
   "metadata": {},
   "outputs": [],
   "source": [
    "not_yes_no = list()\n",
    "\n",
    "for q in data[\"question\"].values:\n",
    "    if (\"does he talk to him\" in q) or (\"did they read them\" in q):\n",
    "        not_yes_no.append(False)\n",
    "    else:\n",
    "        not_yes_no.append(True)\n",
    "not_yes_no = np.array(not_yes_no)"
   ]
  },
  {
   "cell_type": "code",
   "execution_count": 8,
   "metadata": {},
   "outputs": [
    {
     "data": {
      "text/plain": [
       "14276"
      ]
     },
     "execution_count": 8,
     "metadata": {},
     "output_type": "execute_result"
    }
   ],
   "source": [
    "not_nan = np.array(~(data['clean_answer']).isna())\n",
    "not_qst_mark = np.array(~(data['clean_answer'].str.contains('?', na=True, regex=False)))\n",
    "\n",
    "valid = np.where(not_nan & not_qst_mark & not_yes_no, 1, 0)\n",
    "\n",
    "data[\"valid\"] = valid\n",
    "\n",
    "len(data)"
   ]
  },
  {
   "cell_type": "code",
   "execution_count": 9,
   "metadata": {},
   "outputs": [
    {
     "data": {
      "text/plain": [
       "14276"
      ]
     },
     "execution_count": 9,
     "metadata": {},
     "output_type": "execute_result"
    }
   ],
   "source": [
    "english = np.array((full_results_df['used_language']==0))\n",
    "# related = np.array((full_results_df['image_relatedness']==0))\n",
    "not_difficult = np.array((full_results_df['image_difficulty']<0.9)) # >>> != 1\n",
    "\n",
    "normal = np.where(valid & english & not_difficult, 1, 0)\n",
    "\n",
    "data[\"normal\"] = normal\n",
    "\n",
    "len(data)"
   ]
  },
  {
   "cell_type": "code",
   "execution_count": 10,
   "metadata": {},
   "outputs": [
    {
     "data": {
      "text/plain": [
       "11813"
      ]
     },
     "execution_count": 10,
     "metadata": {},
     "output_type": "execute_result"
    }
   ],
   "source": [
    "np.sum(normal)"
   ]
  },
  {
   "cell_type": "markdown",
   "metadata": {},
   "source": [
    "# Get Probs columns"
   ]
  },
  {
   "cell_type": "code",
   "execution_count": 11,
   "metadata": {},
   "outputs": [],
   "source": [
    "P_results = dict()\n",
    "\n",
    "for model_name in model_names+[\"all\"]:\n",
    "    model_dict= dict()\n",
    "    selected_data = data.loc[data[\"normal\"]==1]\n",
    "    if \"all\"!=model_name: selected_data=selected_data.loc[selected_data[\"model_name\"]==model_name]\n",
    "    for P in Probs:\n",
    "        correct = selected_data.loc[selected_data[\"correct\"]==1]\n",
    "        not_correct = selected_data.loc[selected_data[\"correct\"]==0]\n",
    "        model_dict[P] = [np.array(not_correct[P]), np.array(correct[P])]\n",
    "    P_results[model_name] = model_dict.copy()\n"
   ]
  },
  {
   "cell_type": "code",
   "execution_count": 12,
   "metadata": {},
   "outputs": [
    {
     "data": {
      "image/png": "[encoded data removed]",
      "text/plain": [
       "<Figure size 1200x400 with 3 Axes>"
      ]
     },
     "metadata": {},
     "output_type": "display_data"
    }
   ],
   "source": [
    "model_name = \"GiT_base\"\n",
    "\n",
    "selected_data = data.loc[data[\"normal\"]==1]\n",
    "if \"all\"!=model_name: selected_data=selected_data.loc[selected_data[\"model_name\"]==model_name]\n",
    "\n",
    "fig, axs = plt.subplots(1, 3, sharey=True, figsize=(12, 4))\n",
    "\n",
    "for i in range(3):\n",
    "    P_data = selected_data[[\"model_name\", \"correct\", Probs[i]]]\n",
    "    P_data.boxplot(by=\"correct\", showmeans=True, ax=axs[i])\n",
    "\n",
    "plt.show()"
   ]
  },
  {
   "cell_type": "code",
   "execution_count": 13,
   "metadata": {},
   "outputs": [],
   "source": [
    "def boxplot_data(x):\n",
    "    q75, q25  = np.percentile(x, [75, 25])\n",
    "    iqr = q75 - q25\n",
    "    mean = np.mean(x)\n",
    "    median = np.median(x)\n",
    "    return q75, q25, iqr, mean, median"
   ]
  },
  {
   "cell_type": "code",
   "execution_count": 14,
   "metadata": {},
   "outputs": [
    {
     "data": {
      "text/plain": [
       "['Prob', 'P_T_1', 'P_T_2_N']"
      ]
     },
     "execution_count": 14,
     "metadata": {},
     "output_type": "execute_result"
    }
   ],
   "source": [
    "Probs"
   ]
  },
  {
   "cell_type": "code",
   "execution_count": 15,
   "metadata": {},
   "outputs": [],
   "source": [
    "all_rows = list()\n",
    "for c in [0, 1]:\n",
    "    for model_name in model_names+[\"all\"]:\n",
    "        row = [model_name, c]\n",
    "        for P in Probs:\n",
    "            selected_data = data.loc[data[\"normal\"]==1]\n",
    "            if \"all\"!=model_name: selected_data=selected_data.loc[selected_data[\"model_name\"]==model_name]\n",
    "            P_data = np.array(selected_data.loc[selected_data[\"correct\"]==c][P])\n",
    "            P_data = boxplot_data(P_data)\n",
    "            for d in P_data:\n",
    "                row.append(d)\n",
    "        all_rows.append(row)\n"
   ]
  },
  {
   "cell_type": "code",
   "execution_count": 16,
   "metadata": {},
   "outputs": [
    {
     "data": {
      "text/plain": [
       "0.17687691500000002"
      ]
     },
     "execution_count": 16,
     "metadata": {},
     "output_type": "execute_result"
    }
   ],
   "source": [
    "all_rows[3][6]"
   ]
  },
  {
   "cell_type": "code",
   "execution_count": 17,
   "metadata": {},
   "outputs": [
    {
     "data": {
      "text/plain": [
       "['model_name',\n",
       " 'correct',\n",
       " 'Prob_q75',\n",
       " 'Prob_q25',\n",
       " 'Prob_iqr',\n",
       " 'Prob_mean',\n",
       " 'Prob_median',\n",
       " 'P_T_1_q75',\n",
       " 'P_T_1_q25',\n",
       " 'P_T_1_iqr',\n",
       " 'P_T_1_mean',\n",
       " 'P_T_1_median',\n",
       " 'P_T_2_N_q75',\n",
       " 'P_T_2_N_q25',\n",
       " 'P_T_2_N_iqr',\n",
       " 'P_T_2_N_mean',\n",
       " 'P_T_2_N_median']"
      ]
     },
     "execution_count": 17,
     "metadata": {},
     "output_type": "execute_result"
    }
   ],
   "source": [
    "cols = [\"model_name\", \"correct\"]\n",
    "for P in Probs:\n",
    "    for q in [\"q75\", \"q25\", \"iqr\", \"mean\", \"median\"]:\n",
    "        cols.append(f\"{P}_{q}\")\n",
    "cols"
   ]
  },
  {
   "cell_type": "code",
   "execution_count": 18,
   "metadata": {},
   "outputs": [],
   "source": [
    "q_df = pd.DataFrame(all_rows, columns=cols)"
   ]
  },
  {
   "cell_type": "code",
   "execution_count": 19,
   "metadata": {},
   "outputs": [],
   "source": [
    "num_cols = cols[1:]\n",
    "q_df[num_cols] = q_df[num_cols].apply(pd.to_numeric)"
   ]
  },
  {
   "cell_type": "code",
   "execution_count": 20,
   "metadata": {},
   "outputs": [],
   "source": [
    "# with pd.ExcelWriter(f\"./{model_type}_q_data_analysis_manual.xlsx\", engine=\"openpyxl\", mode=\"w\") as writer:\n",
    "#     q_df.to_excel(writer, sheet_name=f\"{model_type}_q_data_analysis\", index_label='ID')"
   ]
  },
  {
   "cell_type": "markdown",
   "metadata": {},
   "source": [
    "# Criteria distrbution"
   ]
  },
  {
   "cell_type": "code",
   "execution_count": 21,
   "metadata": {},
   "outputs": [
    {
     "data": {
      "text/html": [
       "<div>\n",
       "<style scoped>\n",
       "    .dataframe tbody tr th:only-of-type {\n",
       "        vertical-align: middle;\n",
       "    }\n",
       "\n",
       "    .dataframe tbody tr th {\n",
       "        vertical-align: top;\n",
       "    }\n",
       "\n",
       "    .dataframe thead th {\n",
       "        text-align: right;\n",
       "    }\n",
       "</style>\n",
       "<table border=\"1\" class=\"dataframe\">\n",
       "  <thead>\n",
       "    <tr style=\"text-align: right;\">\n",
       "      <th></th>\n",
       "      <th>ID</th>\n",
       "      <th>image_name</th>\n",
       "      <th>example_question</th>\n",
       "      <th>question</th>\n",
       "      <th>answer_gt</th>\n",
       "      <th>used_language</th>\n",
       "      <th>specificity</th>\n",
       "      <th>question_length</th>\n",
       "      <th>complexity</th>\n",
       "      <th>image_relatedness</th>\n",
       "      <th>...</th>\n",
       "      <th>x_min_str</th>\n",
       "      <th>Prob_str</th>\n",
       "      <th>T_1_max_str</th>\n",
       "      <th>T_1_str</th>\n",
       "      <th>P_T_1_str</th>\n",
       "      <th>T_2_max_N_str</th>\n",
       "      <th>T_2_N_str</th>\n",
       "      <th>P_T_2_N_str</th>\n",
       "      <th>valid</th>\n",
       "      <th>normal</th>\n",
       "    </tr>\n",
       "  </thead>\n",
       "  <tbody>\n",
       "    <tr>\n",
       "      <th>0</th>\n",
       "      <td>0</td>\n",
       "      <td>Gaussian_5_2</td>\n",
       "      <td>what is in the image?</td>\n",
       "      <td>what is in the image?</td>\n",
       "      <td>random+noise+nothing+t know+not sure+unknown+c...</td>\n",
       "      <td>0.0</td>\n",
       "      <td>1.0</td>\n",
       "      <td>0.0</td>\n",
       "      <td>0.0</td>\n",
       "      <td>0.0</td>\n",
       "      <td>...</td>\n",
       "      <td>-16.713715</td>\n",
       "      <td>0.07764137</td>\n",
       "      <td>1.7832804974941396</td>\n",
       "      <td>1.3263668739558916</td>\n",
       "      <td>0.033901606</td>\n",
       "      <td>1.738079</td>\n",
       "      <td>1.307533</td>\n",
       "      <td>0.035396315</td>\n",
       "      <td>1</td>\n",
       "      <td>0</td>\n",
       "    </tr>\n",
       "    <tr>\n",
       "      <th>1</th>\n",
       "      <td>1</td>\n",
       "      <td>Gaussian_5_2</td>\n",
       "      <td>what is the dominant color of the image?</td>\n",
       "      <td>what is the dominant color of the image?</td>\n",
       "      <td>color+gray+grey+nothing+t know+not sure+unknow...</td>\n",
       "      <td>0.0</td>\n",
       "      <td>1.0</td>\n",
       "      <td>0.0</td>\n",
       "      <td>0.0</td>\n",
       "      <td>0.0</td>\n",
       "      <td>...</td>\n",
       "      <td>-27.210875</td>\n",
       "      <td>0.20900321</td>\n",
       "      <td>3.319589136322892</td>\n",
       "      <td>1.9664954734678717</td>\n",
       "      <td>0.08871711</td>\n",
       "      <td>1.738079</td>\n",
       "      <td>1.307533</td>\n",
       "      <td>0.16670989</td>\n",
       "      <td>1</td>\n",
       "      <td>0</td>\n",
       "    </tr>\n",
       "    <tr>\n",
       "      <th>2</th>\n",
       "      <td>2</td>\n",
       "      <td>Gaussian_5_2</td>\n",
       "      <td>what does the image represent?</td>\n",
       "      <td>what does the image represent?</td>\n",
       "      <td>random+noise+nothing+t know+not sure+unknown+c...</td>\n",
       "      <td>0.0</td>\n",
       "      <td>1.0</td>\n",
       "      <td>0.0</td>\n",
       "      <td>0.0</td>\n",
       "      <td>0.0</td>\n",
       "      <td>...</td>\n",
       "      <td>-17.993324</td>\n",
       "      <td>0.08220834</td>\n",
       "      <td>1.964737514053651</td>\n",
       "      <td>1.4019739641890212</td>\n",
       "      <td>0.031976696</td>\n",
       "      <td>1.738079</td>\n",
       "      <td>1.307533</td>\n",
       "      <td>0.03933237</td>\n",
       "      <td>1</td>\n",
       "      <td>0</td>\n",
       "    </tr>\n",
       "    <tr>\n",
       "      <th>3</th>\n",
       "      <td>3</td>\n",
       "      <td>Gaussian_5_2</td>\n",
       "      <td>why is the image random?</td>\n",
       "      <td>why is the image random?</td>\n",
       "      <td>random+t know+not sure+unknown+can't tell+none...</td>\n",
       "      <td>0.0</td>\n",
       "      <td>1.0</td>\n",
       "      <td>0.0</td>\n",
       "      <td>0.0</td>\n",
       "      <td>0.0</td>\n",
       "      <td>...</td>\n",
       "      <td>-19.845095</td>\n",
       "      <td>0.12248334</td>\n",
       "      <td>2.152690347564782</td>\n",
       "      <td>1.4802876448186593</td>\n",
       "      <td>0.034029774</td>\n",
       "      <td>1.738079</td>\n",
       "      <td>1.307533</td>\n",
       "      <td>0.05141516</td>\n",
       "      <td>1</td>\n",
       "      <td>0</td>\n",
       "    </tr>\n",
       "    <tr>\n",
       "      <th>4</th>\n",
       "      <td>4</td>\n",
       "      <td>Gaussian_5_2</td>\n",
       "      <td>why aren't there any objects in the image?</td>\n",
       "      <td>why aren't there any objects in the image?</td>\n",
       "      <td>random+noise+t know+not sure+unknown+can't tel...</td>\n",
       "      <td>0.0</td>\n",
       "      <td>1.0</td>\n",
       "      <td>0.0</td>\n",
       "      <td>0.0</td>\n",
       "      <td>0.0</td>\n",
       "      <td>...</td>\n",
       "      <td>-18.810205</td>\n",
       "      <td>0.06400901</td>\n",
       "      <td>1.9474464197595112</td>\n",
       "      <td>1.394769341566463</td>\n",
       "      <td>0.024084808</td>\n",
       "      <td>1.738079</td>\n",
       "      <td>1.307533</td>\n",
       "      <td>0.02913933</td>\n",
       "      <td>1</td>\n",
       "      <td>0</td>\n",
       "    </tr>\n",
       "  </tbody>\n",
       "</table>\n",
       "<p>5 rows × 32 columns</p>\n",
       "</div>"
      ],
      "text/plain": [
       "   ID    image_name                            example_question  \\\n",
       "0   0  Gaussian_5_2                       what is in the image?   \n",
       "1   1  Gaussian_5_2    what is the dominant color of the image?   \n",
       "2   2  Gaussian_5_2              what does the image represent?   \n",
       "3   3  Gaussian_5_2                    why is the image random?   \n",
       "4   4  Gaussian_5_2  why aren't there any objects in the image?   \n",
       "\n",
       "                                     question  \\\n",
       "0                       what is in the image?   \n",
       "1    what is the dominant color of the image?   \n",
       "2              what does the image represent?   \n",
       "3                    why is the image random?   \n",
       "4  why aren't there any objects in the image?   \n",
       "\n",
       "                                           answer_gt  used_language  \\\n",
       "0  random+noise+nothing+t know+not sure+unknown+c...            0.0   \n",
       "1  color+gray+grey+nothing+t know+not sure+unknow...            0.0   \n",
       "2  random+noise+nothing+t know+not sure+unknown+c...            0.0   \n",
       "3  random+t know+not sure+unknown+can't tell+none...            0.0   \n",
       "4  random+noise+t know+not sure+unknown+can't tel...            0.0   \n",
       "\n",
       "   specificity  question_length  complexity  image_relatedness  ...  \\\n",
       "0          1.0              0.0         0.0                0.0  ...   \n",
       "1          1.0              0.0         0.0                0.0  ...   \n",
       "2          1.0              0.0         0.0                0.0  ...   \n",
       "3          1.0              0.0         0.0                0.0  ...   \n",
       "4          1.0              0.0         0.0                0.0  ...   \n",
       "\n",
       "    x_min_str    Prob_str         T_1_max_str             T_1_str  \\\n",
       "0  -16.713715  0.07764137  1.7832804974941396  1.3263668739558916   \n",
       "1  -27.210875  0.20900321   3.319589136322892  1.9664954734678717   \n",
       "2  -17.993324  0.08220834   1.964737514053651  1.4019739641890212   \n",
       "3  -19.845095  0.12248334   2.152690347564782  1.4802876448186593   \n",
       "4  -18.810205  0.06400901  1.9474464197595112   1.394769341566463   \n",
       "\n",
       "     P_T_1_str  T_2_max_N_str  T_2_N_str  P_T_2_N_str  valid  normal  \n",
       "0  0.033901606       1.738079   1.307533  0.035396315      1       0  \n",
       "1   0.08871711       1.738079   1.307533   0.16670989      1       0  \n",
       "2  0.031976696       1.738079   1.307533   0.03933237      1       0  \n",
       "3  0.034029774       1.738079   1.307533   0.05141516      1       0  \n",
       "4  0.024084808       1.738079   1.307533   0.02913933      1       0  \n",
       "\n",
       "[5 rows x 32 columns]"
      ]
     },
     "execution_count": 21,
     "metadata": {},
     "output_type": "execute_result"
    }
   ],
   "source": [
    "data.head()"
   ]
  },
  {
   "cell_type": "code",
   "execution_count": 22,
   "metadata": {},
   "outputs": [
    {
     "data": {
      "text/html": [
       "<div>\n",
       "<style scoped>\n",
       "    .dataframe tbody tr th:only-of-type {\n",
       "        vertical-align: middle;\n",
       "    }\n",
       "\n",
       "    .dataframe tbody tr th {\n",
       "        vertical-align: top;\n",
       "    }\n",
       "\n",
       "    .dataframe thead th {\n",
       "        text-align: right;\n",
       "    }\n",
       "</style>\n",
       "<table border=\"1\" class=\"dataframe\">\n",
       "  <thead>\n",
       "    <tr style=\"text-align: right;\">\n",
       "      <th></th>\n",
       "      <th>ID</th>\n",
       "      <th>image_name</th>\n",
       "      <th>example_question</th>\n",
       "      <th>question</th>\n",
       "      <th>answer_gt</th>\n",
       "      <th>used_language</th>\n",
       "      <th>specificity</th>\n",
       "      <th>question_length</th>\n",
       "      <th>complexity</th>\n",
       "      <th>image_relatedness</th>\n",
       "      <th>...</th>\n",
       "      <th>x_min_str</th>\n",
       "      <th>Prob_str</th>\n",
       "      <th>T_1_max_str</th>\n",
       "      <th>T_1_str</th>\n",
       "      <th>P_T_1_str</th>\n",
       "      <th>T_2_max_N_str</th>\n",
       "      <th>T_2_N_str</th>\n",
       "      <th>P_T_2_N_str</th>\n",
       "      <th>valid</th>\n",
       "      <th>normal</th>\n",
       "    </tr>\n",
       "  </thead>\n",
       "  <tbody>\n",
       "    <tr>\n",
       "      <th>0</th>\n",
       "      <td>0</td>\n",
       "      <td>Gaussian_5_2</td>\n",
       "      <td>what is in the image?</td>\n",
       "      <td>what is in the image?</td>\n",
       "      <td>random+noise+nothing+t know+not sure+unknown+c...</td>\n",
       "      <td>0.0</td>\n",
       "      <td>1.0</td>\n",
       "      <td>0.0</td>\n",
       "      <td>0.0</td>\n",
       "      <td>0.0</td>\n",
       "      <td>...</td>\n",
       "      <td>-16.713715</td>\n",
       "      <td>0.07764137</td>\n",
       "      <td>1.7832804974941396</td>\n",
       "      <td>1.3263668739558916</td>\n",
       "      <td>0.033901606</td>\n",
       "      <td>1.738079</td>\n",
       "      <td>1.307533</td>\n",
       "      <td>0.035396315</td>\n",
       "      <td>1</td>\n",
       "      <td>0</td>\n",
       "    </tr>\n",
       "    <tr>\n",
       "      <th>1</th>\n",
       "      <td>1</td>\n",
       "      <td>Gaussian_5_2</td>\n",
       "      <td>what is the dominant color of the image?</td>\n",
       "      <td>what is the dominant color of the image?</td>\n",
       "      <td>color+gray+grey+nothing+t know+not sure+unknow...</td>\n",
       "      <td>0.0</td>\n",
       "      <td>1.0</td>\n",
       "      <td>0.0</td>\n",
       "      <td>0.0</td>\n",
       "      <td>0.0</td>\n",
       "      <td>...</td>\n",
       "      <td>-27.210875</td>\n",
       "      <td>0.20900321</td>\n",
       "      <td>3.319589136322892</td>\n",
       "      <td>1.9664954734678717</td>\n",
       "      <td>0.08871711</td>\n",
       "      <td>1.738079</td>\n",
       "      <td>1.307533</td>\n",
       "      <td>0.16670989</td>\n",
       "      <td>1</td>\n",
       "      <td>0</td>\n",
       "    </tr>\n",
       "    <tr>\n",
       "      <th>2</th>\n",
       "      <td>2</td>\n",
       "      <td>Gaussian_5_2</td>\n",
       "      <td>what does the image represent?</td>\n",
       "      <td>what does the image represent?</td>\n",
       "      <td>random+noise+nothing+t know+not sure+unknown+c...</td>\n",
       "      <td>0.0</td>\n",
       "      <td>1.0</td>\n",
       "      <td>0.0</td>\n",
       "      <td>0.0</td>\n",
       "      <td>0.0</td>\n",
       "      <td>...</td>\n",
       "      <td>-17.993324</td>\n",
       "      <td>0.08220834</td>\n",
       "      <td>1.964737514053651</td>\n",
       "      <td>1.4019739641890212</td>\n",
       "      <td>0.031976696</td>\n",
       "      <td>1.738079</td>\n",
       "      <td>1.307533</td>\n",
       "      <td>0.03933237</td>\n",
       "      <td>1</td>\n",
       "      <td>0</td>\n",
       "    </tr>\n",
       "    <tr>\n",
       "      <th>3</th>\n",
       "      <td>3</td>\n",
       "      <td>Gaussian_5_2</td>\n",
       "      <td>why is the image random?</td>\n",
       "      <td>why is the image random?</td>\n",
       "      <td>random+t know+not sure+unknown+can't tell+none...</td>\n",
       "      <td>0.0</td>\n",
       "      <td>1.0</td>\n",
       "      <td>0.0</td>\n",
       "      <td>0.0</td>\n",
       "      <td>0.0</td>\n",
       "      <td>...</td>\n",
       "      <td>-19.845095</td>\n",
       "      <td>0.12248334</td>\n",
       "      <td>2.152690347564782</td>\n",
       "      <td>1.4802876448186593</td>\n",
       "      <td>0.034029774</td>\n",
       "      <td>1.738079</td>\n",
       "      <td>1.307533</td>\n",
       "      <td>0.05141516</td>\n",
       "      <td>1</td>\n",
       "      <td>0</td>\n",
       "    </tr>\n",
       "    <tr>\n",
       "      <th>4</th>\n",
       "      <td>4</td>\n",
       "      <td>Gaussian_5_2</td>\n",
       "      <td>why aren't there any objects in the image?</td>\n",
       "      <td>why aren't there any objects in the image?</td>\n",
       "      <td>random+noise+t know+not sure+unknown+can't tel...</td>\n",
       "      <td>0.0</td>\n",
       "      <td>1.0</td>\n",
       "      <td>0.0</td>\n",
       "      <td>0.0</td>\n",
       "      <td>0.0</td>\n",
       "      <td>...</td>\n",
       "      <td>-18.810205</td>\n",
       "      <td>0.06400901</td>\n",
       "      <td>1.9474464197595112</td>\n",
       "      <td>1.394769341566463</td>\n",
       "      <td>0.024084808</td>\n",
       "      <td>1.738079</td>\n",
       "      <td>1.307533</td>\n",
       "      <td>0.02913933</td>\n",
       "      <td>1</td>\n",
       "      <td>0</td>\n",
       "    </tr>\n",
       "  </tbody>\n",
       "</table>\n",
       "<p>5 rows × 32 columns</p>\n",
       "</div>"
      ],
      "text/plain": [
       "   ID    image_name                            example_question  \\\n",
       "0   0  Gaussian_5_2                       what is in the image?   \n",
       "1   1  Gaussian_5_2    what is the dominant color of the image?   \n",
       "2   2  Gaussian_5_2              what does the image represent?   \n",
       "3   3  Gaussian_5_2                    why is the image random?   \n",
       "4   4  Gaussian_5_2  why aren't there any objects in the image?   \n",
       "\n",
       "                                     question  \\\n",
       "0                       what is in the image?   \n",
       "1    what is the dominant color of the image?   \n",
       "2              what does the image represent?   \n",
       "3                    why is the image random?   \n",
       "4  why aren't there any objects in the image?   \n",
       "\n",
       "                                           answer_gt  used_language  \\\n",
       "0  random+noise+nothing+t know+not sure+unknown+c...            0.0   \n",
       "1  color+gray+grey+nothing+t know+not sure+unknow...            0.0   \n",
       "2  random+noise+nothing+t know+not sure+unknown+c...            0.0   \n",
       "3  random+t know+not sure+unknown+can't tell+none...            0.0   \n",
       "4  random+noise+t know+not sure+unknown+can't tel...            0.0   \n",
       "\n",
       "   specificity  question_length  complexity  image_relatedness  ...  \\\n",
       "0          1.0              0.0         0.0                0.0  ...   \n",
       "1          1.0              0.0         0.0                0.0  ...   \n",
       "2          1.0              0.0         0.0                0.0  ...   \n",
       "3          1.0              0.0         0.0                0.0  ...   \n",
       "4          1.0              0.0         0.0                0.0  ...   \n",
       "\n",
       "    x_min_str    Prob_str         T_1_max_str             T_1_str  \\\n",
       "0  -16.713715  0.07764137  1.7832804974941396  1.3263668739558916   \n",
       "1  -27.210875  0.20900321   3.319589136322892  1.9664954734678717   \n",
       "2  -17.993324  0.08220834   1.964737514053651  1.4019739641890212   \n",
       "3  -19.845095  0.12248334   2.152690347564782  1.4802876448186593   \n",
       "4  -18.810205  0.06400901  1.9474464197595112   1.394769341566463   \n",
       "\n",
       "     P_T_1_str  T_2_max_N_str  T_2_N_str  P_T_2_N_str  valid  normal  \n",
       "0  0.033901606       1.738079   1.307533  0.035396315      1       0  \n",
       "1   0.08871711       1.738079   1.307533   0.16670989      1       0  \n",
       "2  0.031976696       1.738079   1.307533   0.03933237      1       0  \n",
       "3  0.034029774       1.738079   1.307533   0.05141516      1       0  \n",
       "4  0.024084808       1.738079   1.307533   0.02913933      1       0  \n",
       "\n",
       "[5 rows x 32 columns]"
      ]
     },
     "execution_count": 22,
     "metadata": {},
     "output_type": "execute_result"
    }
   ],
   "source": [
    "selected_data = data.loc[(data[\"model_name\"]==\"Vilt\") & (data[\"valid\"]==1)]\n",
    "selected_data.head()"
   ]
  },
  {
   "cell_type": "code",
   "execution_count": 23,
   "metadata": {},
   "outputs": [
    {
     "data": {
      "image/png": "[encoded data removed]",
      "text/plain": [
       "<Figure size 1500x1000 with 6 Axes>"
      ]
     },
     "metadata": {},
     "output_type": "display_data"
    }
   ],
   "source": [
    "font = {'family' : 'times new roman',\n",
    "        'size'   : 18,\n",
    "        'weight' : 'normal'}\n",
    "\n",
    "matplotlib.rc('font', **font)\n",
    "\n",
    "rows, cols = 2, 3\n",
    "\n",
    "fig, axs = plt.subplots(rows, cols, sharey=True, figsize=(15, 10))\n",
    "\n",
    "i=0\n",
    "\n",
    "for row in range(rows):\n",
    "    for col in range(cols):\n",
    "        cr = criteria[i]\n",
    "        v, c = np.unique(np.array(selected_data[cr]), return_counts=True)\n",
    "        # color='red' if cr in major_criteria else 'green'\n",
    "        ax = axs[row, col]\n",
    "        ax.bar(v, c, align='center', width=0.35) #, color=color)\n",
    "        ax.set_ylim([0, 4000])\n",
    "        x_t = [0, 0.5, 1] if len(c)==3 else [0, 1]\n",
    "        ax.set_xticks(x_t)\n",
    "        ax.set_yticks(range(0, 4001, 1000))\n",
    "        ax.tick_params(axis='x', labelsize=12)\n",
    "        ax.tick_params(axis='y', labelsize=12)\n",
    "        cr = cr.replace(\"_\", \" \")\n",
    "        ax.set_xlabel(f\"({letters[i]}) {cr}\", fontdict={'size'   : 14,'weight' : 'bold'})\n",
    "        i += 1\n",
    "\n",
    "fig.text(0.07, 0.5, 'counts', va='center', rotation='vertical', fontdict={'weight' : 'bold'})\n",
    "fig.text(0.5, 0.02, 'scores', ha='center', fontdict={'weight' : 'bold'})\n",
    "\n",
    "plt.savefig(f\"figs/all_criteria_barchart.png\", bbox_inches='tight')\n",
    "plt.show()"
   ]
  },
  {
   "cell_type": "code",
   "execution_count": 24,
   "metadata": {},
   "outputs": [
    {
     "data": {
      "image/png": "[encoded data removed]",
      "text/plain": [
       "<Figure size 1500x300 with 4 Axes>"
      ]
     },
     "metadata": {},
     "output_type": "display_data"
    }
   ],
   "source": [
    "font = {'family' : 'times new roman',\n",
    "        'size'   : 16,\n",
    "        'weight' : 'normal'}\n",
    "\n",
    "matplotlib.rc('font', **font)\n",
    "\n",
    "rows, cols = 1, 4\n",
    "\n",
    "fig, axs = plt.subplots(rows, cols, sharey=True, figsize=(15, 3))\n",
    "\n",
    "i=0\n",
    "x_ticks = [0, 0.5, 1]\n",
    "\n",
    "for _ in range(cols):\n",
    "    cr = criteria[i]\n",
    "    v, c = np.unique(np.array(selected_data[cr]), return_counts=True)\n",
    "    # color='red' if cr in major_criteria else 'green'\n",
    "    ax = axs[i]\n",
    "    ax.bar(v, c, align='center', width=0.3)\n",
    "    ax.set_ylim([0, 4000])\n",
    "    x_t = [0, 0.5, 1] if len(c)==3 else [0, 1]\n",
    "    ax.set_xticks(x_t)\n",
    "    ax.set_yticks(range(0, 4001, 1000))\n",
    "    ax.tick_params(axis='x', labelsize=10)\n",
    "    ax.tick_params(axis='y', labelsize=10)\n",
    "    cr = cr.replace(\"_\", \" \")\n",
    "    ax.set_xlabel(f\"({letters[i]}) {cr}\", fontdict={'size'   : 12,'weight' : 'bold'})\n",
    "    i += 1\n",
    "\n",
    "fig.text(0.085, 0.5, 'counts', va='center', rotation='vertical', fontdict={'weight' : 'bold'})\n",
    "fig.text(0.5, -0.15, 'scores', ha='center', fontdict={'weight' : 'bold'})\n",
    "\n",
    "plt.savefig(f\"figs/text_related_criteria_barchart.png\", bbox_inches='tight')\n",
    "plt.show()"
   ]
  },
  {
   "cell_type": "code",
   "execution_count": 25,
   "metadata": {},
   "outputs": [
    {
     "data": {
      "image/png": "[encoded data removed]",
      "text/plain": [
       "<Figure size 600x300 with 1 Axes>"
      ]
     },
     "metadata": {},
     "output_type": "display_data"
    }
   ],
   "source": [
    "font = {'family' : 'times new roman',\n",
    "        'size'   : 16,\n",
    "        'weight' : 'normal'}\n",
    "\n",
    "matplotlib.rc('font', **font)\n",
    "\n",
    "\n",
    "fig, axs = plt.subplots(figsize=(6, 3))\n",
    "\n",
    "i=0\n",
    "\n",
    "v, c = np.unique(np.array(selected_data[\"difficulty\"]), return_counts=True)\n",
    "v = [round(i,2) for i in v]\n",
    "# color='red' if cr in major_criteria else 'green'\n",
    "axs.bar(v, c, align='center', width=0.01)\n",
    "# axs.set_ylim([0, 4000])\n",
    "# x_t = [0, 0.5, 1] if len(c)==3 else [0, 1]\n",
    "axs.set_xticks(v)\n",
    "axs.set_xticklabels(v, rotation=65)\n",
    "# plt.set_yticks(range(0, 4001, 1000))\n",
    "axs.tick_params(axis='x', labelsize=10)\n",
    "axs.tick_params(axis='y', labelsize=10)\n",
    "axs.set_xlabel(\"scores\", fontdict={'size' : 16,'weight' : 'bold'})\n",
    "axs.set_ylabel(\"counts\", fontdict={'size' : 16,'weight' : 'bold'})\n",
    "\n",
    "# axs.text(0.07, 0.5, 'counts', va='center', rotation='vertical', fontdict={'weight' : 'bold'})\n",
    "# axs.text(0.5, -0.1, 'scores', ha='center', fontdict={'weight' : 'bold'})\n",
    "\n",
    "plt.savefig(f\"figs/D_barchart.png\", bbox_inches='tight')\n",
    "plt.show()"
   ]
  },
  {
   "cell_type": "code",
   "execution_count": 26,
   "metadata": {},
   "outputs": [
    {
     "name": "stdout",
     "output_type": "stream",
     "text": [
      "0.0 & 20 \\\\\n",
      "0.04 & 40 \\\\\n",
      "0.08 & 80 \\\\\n",
      "0.12 & 80 \\\\\n",
      "0.17 & 145 \\\\\n",
      "0.21 & 170 \\\\\n",
      "0.25 & 280 \\\\\n",
      "0.29 & 260 \\\\\n",
      "0.33 & 337 \\\\\n",
      "0.38 & 260 \\\\\n",
      "0.42 & 345 \\\\\n",
      "0.46 & 260 \\\\\n",
      "0.5 & 324 \\\\\n",
      "0.54 & 212 \\\\\n",
      "0.58 & 237 \\\\\n",
      "0.62 & 180 \\\\\n",
      "0.67 & 162 \\\\\n",
      "0.71 & 72 \\\\\n",
      "0.75 & 27 \\\\\n"
     ]
    }
   ],
   "source": [
    "vs, cs = np.unique(np.array(selected_data[\"difficulty\"]), return_counts=True)\n",
    "\n",
    "for v, c in zip(vs, cs):\n",
    "    print(f\"{round(v, 2)} & {c} \\\\\\\\\")"
   ]
  },
  {
   "cell_type": "code",
   "execution_count": 27,
   "metadata": {},
   "outputs": [
    {
     "name": "stdout",
     "output_type": "stream",
     "text": [
      "0.0,0.04,0.08,0.12,0.17,0.21,0.25,0.29,0.33,0.38,0.42,0.46,0.5,0.54,0.58,0.62,0.67,0.71,0.75,"
     ]
    }
   ],
   "source": [
    "for v in vs:\n",
    "    print(round(v,2), end=\",\")"
   ]
  },
  {
   "cell_type": "code",
   "execution_count": 28,
   "metadata": {},
   "outputs": [
    {
     "data": {
      "text/plain": [
       "Index(['ID', 'image_name', 'example_question', 'question', 'answer_gt',\n",
       "       'used_language', 'specificity', 'question_length', 'complexity',\n",
       "       'image_relatedness', 'image_difficulty', 'difficulty', 'model_name',\n",
       "       'full_answer', 'clean_answer', 'no_tokens', 'correct', 'N', 'Prob',\n",
       "       'P_T_1', 'P_T_2_N', 'x_max_str', 'x_min_str', 'Prob_str', 'T_1_max_str',\n",
       "       'T_1_str', 'P_T_1_str', 'T_2_max_N_str', 'T_2_N_str', 'P_T_2_N_str',\n",
       "       'valid', 'normal'],\n",
       "      dtype='object')"
      ]
     },
     "execution_count": 28,
     "metadata": {},
     "output_type": "execute_result"
    }
   ],
   "source": [
    "selected_data.keys()"
   ]
  },
  {
   "cell_type": "code",
   "execution_count": 29,
   "metadata": {},
   "outputs": [
    {
     "name": "stdout",
     "output_type": "stream",
     "text": [
      ">>>>>>>>>>>>> image_relatedness\n",
      "0.0 & 1229 \\\\\n",
      "0.5 & 1170 \\\\\n",
      "1.0 & 1092 \\\\\n",
      ">>>>>>>>>>>>> image_difficulty\n",
      "0.0 & 1068 \\\\\n",
      "0.5 & 2403 \\\\\n",
      "1.0 & 20 \\\\\n",
      ">>>>>>>>>>>>> used_language\n",
      "0.0 & 3452 \\\\\n",
      "1.0 & 39 \\\\\n",
      ">>>>>>>>>>>>> specificity\n",
      "0.0 & 1794 \\\\\n",
      "1.0 & 1697 \\\\\n",
      ">>>>>>>>>>>>> question_length\n",
      "0.0 & 1177 \\\\\n",
      "0.5 & 1157 \\\\\n",
      "1.0 & 1157 \\\\\n",
      ">>>>>>>>>>>>> complexity\n",
      "0.0 & 1229 \\\\\n",
      "0.5 & 1170 \\\\\n",
      "1.0 & 1092 \\\\\n"
     ]
    }
   ],
   "source": [
    "for cr in criteria:\n",
    "    vs, cs = np.unique(np.array(selected_data[cr]), return_counts=True)\n",
    "    print(f\">>>>>>>>>>>>> {cr}\")\n",
    "    for v, c in zip(vs, cs):\n",
    "        print(f\"{round(v, 2)} & {c} \\\\\\\\\")\n",
    "    "
   ]
  },
  {
   "cell_type": "code",
   "execution_count": null,
   "metadata": {},
   "outputs": [],
   "source": []
  }
 ],
 "metadata": {
  "kernelspec": {
   "display_name": "transformers",
   "language": "python",
   "name": "python3"
  },
  "language_info": {
   "codemirror_mode": {
    "name": "ipython",
    "version": 3
   },
   "file_extension": ".py",
   "mimetype": "text/x-python",
   "name": "python",
   "nbconvert_exporter": "python",
   "pygments_lexer": "ipython3",
   "version": "3.9.1"
  }
 },
 "nbformat": 4,
 "nbformat_minor": 2
}
