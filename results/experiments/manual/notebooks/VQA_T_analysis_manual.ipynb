{
  "cells": [
    {
      "cell_type": "markdown",
      "metadata": {},
      "source": [
        "# Import"
      ]
    },
    {
      "cell_type": "code",
      "execution_count": 1,
      "metadata": {
        "id": "faQ6oFF_lHu2"
      },
      "outputs": [],
      "source": [
        "import matplotlib.pyplot as plt\n",
        "import pandas as pd\n",
        "import numpy as np\n",
        "import random\n",
        "from tqdm import tqdm\n",
        "from sklearn.metrics import confusion_matrix, roc_auc_score, roc_curve"
      ]
    },
    {
      "cell_type": "markdown",
      "metadata": {},
      "source": [
        "# Utils"
      ]
    },
    {
      "cell_type": "code",
      "execution_count": 2,
      "metadata": {},
      "outputs": [],
      "source": [
        "def calculate_metrics(TN, FP, FN, TP, f_beta=1):\n",
        "    Acc = (TP+TN)/(TN+FP+FN+TP)\n",
        "    P = TP/(TP+FP)\n",
        "    R = TP/(TP+FN)\n",
        "    F = (1+pow(f_beta,2))*(P*R)/((pow(f_beta,2))*P+R)\n",
        "    TNR = TN/(TN+FN)\n",
        "    return Acc, P, R, F, TNR"
      ]
    },
    {
      "cell_type": "markdown",
      "metadata": {},
      "source": [
        "# Define variables"
      ]
    },
    {
      "cell_type": "code",
      "execution_count": 3,
      "metadata": {},
      "outputs": [
        {
          "data": {
            "text/plain": [
              "{'used_language': float,\n",
              " 'specificity': float,\n",
              " 'question_length': float,\n",
              " 'complexity': float,\n",
              " 'image_relatedness': float,\n",
              " 'image_difficulty': float,\n",
              " 'difficulty': float,\n",
              " 'no_tokens': float,\n",
              " 'correct': float,\n",
              " 'N': float,\n",
              " 'Prob': float,\n",
              " 'P_T_1': float,\n",
              " 'P_T_2_N': float}"
            ]
          },
          "execution_count": 3,
          "metadata": {},
          "output_type": "execute_result"
        }
      ],
      "source": [
        "model_names = [\"Vilt\", \"Blip_large\", \"GiT_base\", \"GiT_large\"] # skip , \"Blip_base\"\n",
        "model_type = \"VQA\"\n",
        "D_type = \"1\"\n",
        "\n",
        "full_df_columns = [\"model_name\", \"P_type\", \"thr\", \"TP\", \"TN\", \"FP\", \"FN\", \"Acc\", \"P\", \"R\", \"F\", \"TNR\"]\n",
        "\n",
        "numeric_cols = [\"used_language\", \"specificity\", \"question_length\", \"complexity\", \"image_relatedness\", \"image_difficulty\", \"difficulty\", \\\n",
        "                \"no_tokens\", \"correct\", \"N\", \"Prob\", \"P_T_1\", 'P_T_2_N']\n",
        "\n",
        "Probs = [\"Prob\", \"P_T_1\", \"P_T_2_N\"]\n",
        "Porbs_colors = {\"Prob\":\"red\", \"P_T_1\":\"green\", \"P_T_2_N\":\"blue\"}\n",
        "\n",
        "Plot_names = [\"Acc\", \"F\", \"P\", \"TNR\"]\n",
        "\n",
        "numeric_cols_dtype = dict()\n",
        "for c in numeric_cols: numeric_cols_dtype[c]=float\n",
        "numeric_cols_dtype"
      ]
    },
    {
      "cell_type": "markdown",
      "metadata": {},
      "source": [
        "# Read full results df"
      ]
    },
    {
      "cell_type": "code",
      "execution_count": 4,
      "metadata": {
        "id": "2nL08k6BmCOw"
      },
      "outputs": [
        {
          "data": {
            "text/html": [
              "<div>\n",
              "<style scoped>\n",
              "    .dataframe tbody tr th:only-of-type {\n",
              "        vertical-align: middle;\n",
              "    }\n",
              "\n",
              "    .dataframe tbody tr th {\n",
              "        vertical-align: top;\n",
              "    }\n",
              "\n",
              "    .dataframe thead th {\n",
              "        text-align: right;\n",
              "    }\n",
              "</style>\n",
              "<table border=\"1\" class=\"dataframe\">\n",
              "  <thead>\n",
              "    <tr style=\"text-align: right;\">\n",
              "      <th></th>\n",
              "      <th>ID</th>\n",
              "      <th>image_name</th>\n",
              "      <th>example_question</th>\n",
              "      <th>question</th>\n",
              "      <th>answer_gt</th>\n",
              "      <th>used_language</th>\n",
              "      <th>specificity</th>\n",
              "      <th>question_length</th>\n",
              "      <th>complexity</th>\n",
              "      <th>image_relatedness</th>\n",
              "      <th>...</th>\n",
              "      <th>P_T_2_N</th>\n",
              "      <th>x_max_str</th>\n",
              "      <th>x_min_str</th>\n",
              "      <th>Prob_str</th>\n",
              "      <th>T_1_max_str</th>\n",
              "      <th>T_1_str</th>\n",
              "      <th>P_T_1_str</th>\n",
              "      <th>T_2_max_N_str</th>\n",
              "      <th>T_2_N_str</th>\n",
              "      <th>P_T_2_N_str</th>\n",
              "    </tr>\n",
              "  </thead>\n",
              "  <tbody>\n",
              "    <tr>\n",
              "      <th>0</th>\n",
              "      <td>0</td>\n",
              "      <td>Gaussian_5_2</td>\n",
              "      <td>what is in the image?</td>\n",
              "      <td>what is in the image?</td>\n",
              "      <td>random+noise+nothing+t know+not sure+unknown+c...</td>\n",
              "      <td>0.0</td>\n",
              "      <td>1.0</td>\n",
              "      <td>0.0</td>\n",
              "      <td>0.0</td>\n",
              "      <td>0.0</td>\n",
              "      <td>...</td>\n",
              "      <td>0.035396</td>\n",
              "      <td>-2.3610375</td>\n",
              "      <td>-16.713715</td>\n",
              "      <td>0.07764137</td>\n",
              "      <td>1.7832804974941396</td>\n",
              "      <td>1.3263668739558916</td>\n",
              "      <td>0.033901606</td>\n",
              "      <td>1.738079</td>\n",
              "      <td>1.307533</td>\n",
              "      <td>0.035396315</td>\n",
              "    </tr>\n",
              "    <tr>\n",
              "      <th>1</th>\n",
              "      <td>1</td>\n",
              "      <td>Gaussian_5_2</td>\n",
              "      <td>what is the dominant color of the image?</td>\n",
              "      <td>what is the dominant color of the image?</td>\n",
              "      <td>color+gray+grey+nothing+t know+not sure+unknow...</td>\n",
              "      <td>0.0</td>\n",
              "      <td>1.0</td>\n",
              "      <td>0.0</td>\n",
              "      <td>0.0</td>\n",
              "      <td>0.0</td>\n",
              "      <td>...</td>\n",
              "      <td>0.166710</td>\n",
              "      <td>-0.49326575</td>\n",
              "      <td>-27.210875</td>\n",
              "      <td>0.20900321</td>\n",
              "      <td>3.319589136322892</td>\n",
              "      <td>1.9664954734678717</td>\n",
              "      <td>0.08871711</td>\n",
              "      <td>1.738079</td>\n",
              "      <td>1.307533</td>\n",
              "      <td>0.16670989</td>\n",
              "    </tr>\n",
              "    <tr>\n",
              "      <th>2</th>\n",
              "      <td>2</td>\n",
              "      <td>Gaussian_5_2</td>\n",
              "      <td>what does the image represent?</td>\n",
              "      <td>what does the image represent?</td>\n",
              "      <td>random+noise+nothing+t know+not sure+unknown+c...</td>\n",
              "      <td>0.0</td>\n",
              "      <td>1.0</td>\n",
              "      <td>0.0</td>\n",
              "      <td>0.0</td>\n",
              "      <td>0.0</td>\n",
              "      <td>...</td>\n",
              "      <td>0.039332</td>\n",
              "      <td>-2.180196</td>\n",
              "      <td>-17.993324</td>\n",
              "      <td>0.08220834</td>\n",
              "      <td>1.964737514053651</td>\n",
              "      <td>1.4019739641890212</td>\n",
              "      <td>0.031976696</td>\n",
              "      <td>1.738079</td>\n",
              "      <td>1.307533</td>\n",
              "      <td>0.03933237</td>\n",
              "    </tr>\n",
              "    <tr>\n",
              "      <th>3</th>\n",
              "      <td>3</td>\n",
              "      <td>Gaussian_5_2</td>\n",
              "      <td>why is the image random?</td>\n",
              "      <td>why is the image random?</td>\n",
              "      <td>random+t know+not sure+unknown+can't tell+none...</td>\n",
              "      <td>0.0</td>\n",
              "      <td>1.0</td>\n",
              "      <td>0.0</td>\n",
              "      <td>0.0</td>\n",
              "      <td>0.0</td>\n",
              "      <td>...</td>\n",
              "      <td>0.051415</td>\n",
              "      <td>-2.5192337</td>\n",
              "      <td>-19.845095</td>\n",
              "      <td>0.12248334</td>\n",
              "      <td>2.152690347564782</td>\n",
              "      <td>1.4802876448186593</td>\n",
              "      <td>0.034029774</td>\n",
              "      <td>1.738079</td>\n",
              "      <td>1.307533</td>\n",
              "      <td>0.05141516</td>\n",
              "    </tr>\n",
              "    <tr>\n",
              "      <th>4</th>\n",
              "      <td>4</td>\n",
              "      <td>Gaussian_5_2</td>\n",
              "      <td>why aren't there any objects in the image?</td>\n",
              "      <td>why aren't there any objects in the image?</td>\n",
              "      <td>random+noise+t know+not sure+unknown+can't tel...</td>\n",
              "      <td>0.0</td>\n",
              "      <td>1.0</td>\n",
              "      <td>0.0</td>\n",
              "      <td>0.0</td>\n",
              "      <td>0.0</td>\n",
              "      <td>...</td>\n",
              "      <td>0.029139</td>\n",
              "      <td>-3.1362438</td>\n",
              "      <td>-18.810205</td>\n",
              "      <td>0.06400901</td>\n",
              "      <td>1.9474464197595112</td>\n",
              "      <td>1.394769341566463</td>\n",
              "      <td>0.024084808</td>\n",
              "      <td>1.738079</td>\n",
              "      <td>1.307533</td>\n",
              "      <td>0.02913933</td>\n",
              "    </tr>\n",
              "  </tbody>\n",
              "</table>\n",
              "<p>5 rows × 30 columns</p>\n",
              "</div>"
            ],
            "text/plain": [
              "   ID    image_name                            example_question  \\\n",
              "0   0  Gaussian_5_2                       what is in the image?   \n",
              "1   1  Gaussian_5_2    what is the dominant color of the image?   \n",
              "2   2  Gaussian_5_2              what does the image represent?   \n",
              "3   3  Gaussian_5_2                    why is the image random?   \n",
              "4   4  Gaussian_5_2  why aren't there any objects in the image?   \n",
              "\n",
              "                                     question  \\\n",
              "0                       what is in the image?   \n",
              "1    what is the dominant color of the image?   \n",
              "2              what does the image represent?   \n",
              "3                    why is the image random?   \n",
              "4  why aren't there any objects in the image?   \n",
              "\n",
              "                                           answer_gt  used_language  \\\n",
              "0  random+noise+nothing+t know+not sure+unknown+c...            0.0   \n",
              "1  color+gray+grey+nothing+t know+not sure+unknow...            0.0   \n",
              "2  random+noise+nothing+t know+not sure+unknown+c...            0.0   \n",
              "3  random+t know+not sure+unknown+can't tell+none...            0.0   \n",
              "4  random+noise+t know+not sure+unknown+can't tel...            0.0   \n",
              "\n",
              "   specificity  question_length  complexity  image_relatedness  ...   P_T_2_N  \\\n",
              "0          1.0              0.0         0.0                0.0  ...  0.035396   \n",
              "1          1.0              0.0         0.0                0.0  ...  0.166710   \n",
              "2          1.0              0.0         0.0                0.0  ...  0.039332   \n",
              "3          1.0              0.0         0.0                0.0  ...  0.051415   \n",
              "4          1.0              0.0         0.0                0.0  ...  0.029139   \n",
              "\n",
              "     x_max_str   x_min_str    Prob_str         T_1_max_str  \\\n",
              "0   -2.3610375  -16.713715  0.07764137  1.7832804974941396   \n",
              "1  -0.49326575  -27.210875  0.20900321   3.319589136322892   \n",
              "2    -2.180196  -17.993324  0.08220834   1.964737514053651   \n",
              "3   -2.5192337  -19.845095  0.12248334   2.152690347564782   \n",
              "4   -3.1362438  -18.810205  0.06400901  1.9474464197595112   \n",
              "\n",
              "              T_1_str    P_T_1_str  T_2_max_N_str  T_2_N_str  P_T_2_N_str  \n",
              "0  1.3263668739558916  0.033901606       1.738079   1.307533  0.035396315  \n",
              "1  1.9664954734678717   0.08871711       1.738079   1.307533   0.16670989  \n",
              "2  1.4019739641890212  0.031976696       1.738079   1.307533   0.03933237  \n",
              "3  1.4802876448186593  0.034029774       1.738079   1.307533   0.05141516  \n",
              "4   1.394769341566463  0.024084808       1.738079   1.307533   0.02913933  \n",
              "\n",
              "[5 rows x 30 columns]"
            ]
          },
          "execution_count": 4,
          "metadata": {},
          "output_type": "execute_result"
        }
      ],
      "source": [
        "full_results_df = pd.read_excel(f\"./{model_type}_full_results_D_type_{D_type}_manual.xlsx\", sheet_name=f\"{model_type}_D_type_{D_type}_results\",\n",
        "                                dtype=numeric_cols_dtype)\n",
        "\n",
        "full_results_df.head()"
      ]
    },
    {
      "cell_type": "markdown",
      "metadata": {},
      "source": [
        "# Add valid column"
      ]
    },
    {
      "cell_type": "code",
      "execution_count": 5,
      "metadata": {},
      "outputs": [
        {
          "data": {
            "text/plain": [
              "14276"
            ]
          },
          "execution_count": 5,
          "metadata": {},
          "output_type": "execute_result"
        }
      ],
      "source": [
        "not_nan = np.array(~(full_results_df['clean_answer']).isna())\n",
        "not_qst_mark = np.array(~(full_results_df['clean_answer'].str.contains('?', na=True, regex=False)))\n",
        "\n",
        "valid = np.where(not_nan, 1, 0)\n",
        "\n",
        "data = full_results_df.copy()\n",
        "data[\"valid\"] = valid\n",
        "\n",
        "len(data)"
      ]
    },
    {
      "cell_type": "code",
      "execution_count": 6,
      "metadata": {},
      "outputs": [],
      "source": [
        "data[\"no_tokens\"] = data[\"no_tokens\"]/np.max(list(data[\"no_tokens\"]))"
      ]
    },
    {
      "cell_type": "markdown",
      "metadata": {},
      "source": [
        "# Thresholds analysis"
      ]
    },
    {
      "cell_type": "code",
      "execution_count": 7,
      "metadata": {},
      "outputs": [
        {
          "data": {
            "text/plain": [
              "31"
            ]
          },
          "execution_count": 7,
          "metadata": {},
          "output_type": "execute_result"
        }
      ],
      "source": [
        "thrs = [i/100 for i in range(20, 81, 2)]\n",
        "len(thrs)"
      ]
    },
    {
      "cell_type": "code",
      "execution_count": 8,
      "metadata": {},
      "outputs": [],
      "source": [
        "all_rows = list()\n",
        "for model_name in model_names+[\"all\"]:\n",
        "    model_df = data.loc[(data[\"valid\"]==1)]\n",
        "    if \"all\"!=model_name: model_df=model_df.loc[(model_df[\"model_name\"]==model_name)]\n",
        "    model_correct = np.array(model_df[\"correct\"]).astype(np.int32)\n",
        "    for Prob in Probs:\n",
        "        model_P = np.array(model_df[Prob])\n",
        "        for thr in thrs:\n",
        "            model_P_correct = np.where(model_P>=thr, 1, 0)\n",
        "            TN, FP, FN, TP = confusion_matrix(model_correct, model_P_correct).ravel()\n",
        "            Acc, P, R, F, TNR = calculate_metrics(TN, FP, FN, TP, f_beta=0.5)\n",
        "            one_row = [model_name, Prob, thr, TP, TN, FP, FN, Acc, P, R, F, TNR]\n",
        "            all_rows.append(one_row)       \n",
        "        "
      ]
    },
    {
      "cell_type": "code",
      "execution_count": 9,
      "metadata": {},
      "outputs": [
        {
          "data": {
            "text/plain": [
              "465"
            ]
          },
          "execution_count": 9,
          "metadata": {},
          "output_type": "execute_result"
        }
      ],
      "source": [
        "len(all_rows)"
      ]
    },
    {
      "cell_type": "code",
      "execution_count": 10,
      "metadata": {},
      "outputs": [
        {
          "data": {
            "text/plain": [
              "['model_name',\n",
              " 'P_type',\n",
              " 'thr',\n",
              " 'TP',\n",
              " 'TN',\n",
              " 'FP',\n",
              " 'FN',\n",
              " 'Acc',\n",
              " 'P',\n",
              " 'R',\n",
              " 'F',\n",
              " 'TNR']"
            ]
          },
          "execution_count": 10,
          "metadata": {},
          "output_type": "execute_result"
        }
      ],
      "source": [
        "full_df_columns"
      ]
    },
    {
      "cell_type": "code",
      "execution_count": 11,
      "metadata": {},
      "outputs": [
        {
          "data": {
            "text/html": [
              "<div>\n",
              "<style scoped>\n",
              "    .dataframe tbody tr th:only-of-type {\n",
              "        vertical-align: middle;\n",
              "    }\n",
              "\n",
              "    .dataframe tbody tr th {\n",
              "        vertical-align: top;\n",
              "    }\n",
              "\n",
              "    .dataframe thead th {\n",
              "        text-align: right;\n",
              "    }\n",
              "</style>\n",
              "<table border=\"1\" class=\"dataframe\">\n",
              "  <thead>\n",
              "    <tr style=\"text-align: right;\">\n",
              "      <th></th>\n",
              "      <th>model_name</th>\n",
              "      <th>P_type</th>\n",
              "      <th>thr</th>\n",
              "      <th>TP</th>\n",
              "      <th>TN</th>\n",
              "      <th>FP</th>\n",
              "      <th>FN</th>\n",
              "      <th>Acc</th>\n",
              "      <th>P</th>\n",
              "      <th>R</th>\n",
              "      <th>F</th>\n",
              "      <th>TNR</th>\n",
              "    </tr>\n",
              "  </thead>\n",
              "  <tbody>\n",
              "    <tr>\n",
              "      <th>0</th>\n",
              "      <td>Vilt</td>\n",
              "      <td>Prob</td>\n",
              "      <td>0.2</td>\n",
              "      <td>595</td>\n",
              "      <td>1331</td>\n",
              "      <td>1475</td>\n",
              "      <td>168</td>\n",
              "      <td>0.5396469599327542</td>\n",
              "      <td>0.28743961352657005</td>\n",
              "      <td>0.7798165137614679</td>\n",
              "      <td>0.32898374433263294</td>\n",
              "      <td>0.8879252835223482</td>\n",
              "    </tr>\n",
              "    <tr>\n",
              "      <th>1</th>\n",
              "      <td>Vilt</td>\n",
              "      <td>Prob</td>\n",
              "      <td>0.22</td>\n",
              "      <td>560</td>\n",
              "      <td>1436</td>\n",
              "      <td>1370</td>\n",
              "      <td>203</td>\n",
              "      <td>0.5592602970019613</td>\n",
              "      <td>0.29015544041450775</td>\n",
              "      <td>0.7339449541284404</td>\n",
              "      <td>0.33007190852292817</td>\n",
              "      <td>0.87614399023795</td>\n",
              "    </tr>\n",
              "    <tr>\n",
              "      <th>2</th>\n",
              "      <td>Vilt</td>\n",
              "      <td>Prob</td>\n",
              "      <td>0.24</td>\n",
              "      <td>531</td>\n",
              "      <td>1536</td>\n",
              "      <td>1270</td>\n",
              "      <td>232</td>\n",
              "      <td>0.5791538246007285</td>\n",
              "      <td>0.29483620210993894</td>\n",
              "      <td>0.6959370904325033</td>\n",
              "      <td>0.3332496548261579</td>\n",
              "      <td>0.8687782805429864</td>\n",
              "    </tr>\n",
              "    <tr>\n",
              "      <th>3</th>\n",
              "      <td>Vilt</td>\n",
              "      <td>Prob</td>\n",
              "      <td>0.26</td>\n",
              "      <td>506</td>\n",
              "      <td>1616</td>\n",
              "      <td>1190</td>\n",
              "      <td>257</td>\n",
              "      <td>0.594564303726534</td>\n",
              "      <td>0.2983490566037736</td>\n",
              "      <td>0.6631716906946264</td>\n",
              "      <td>0.3352325427322114</td>\n",
              "      <td>0.8627869727709557</td>\n",
              "    </tr>\n",
              "    <tr>\n",
              "      <th>4</th>\n",
              "      <td>Vilt</td>\n",
              "      <td>Prob</td>\n",
              "      <td>0.28</td>\n",
              "      <td>480</td>\n",
              "      <td>1704</td>\n",
              "      <td>1102</td>\n",
              "      <td>283</td>\n",
              "      <td>0.6119361165592603</td>\n",
              "      <td>0.3034134007585335</td>\n",
              "      <td>0.6290956749672346</td>\n",
              "      <td>0.3384571992666761</td>\n",
              "      <td>0.8575742325113236</td>\n",
              "    </tr>\n",
              "  </tbody>\n",
              "</table>\n",
              "</div>"
            ],
            "text/plain": [
              "  model_name P_type   thr   TP    TN    FP   FN                 Acc  \\\n",
              "0       Vilt   Prob   0.2  595  1331  1475  168  0.5396469599327542   \n",
              "1       Vilt   Prob  0.22  560  1436  1370  203  0.5592602970019613   \n",
              "2       Vilt   Prob  0.24  531  1536  1270  232  0.5791538246007285   \n",
              "3       Vilt   Prob  0.26  506  1616  1190  257   0.594564303726534   \n",
              "4       Vilt   Prob  0.28  480  1704  1102  283  0.6119361165592603   \n",
              "\n",
              "                     P                   R                    F  \\\n",
              "0  0.28743961352657005  0.7798165137614679  0.32898374433263294   \n",
              "1  0.29015544041450775  0.7339449541284404  0.33007190852292817   \n",
              "2  0.29483620210993894  0.6959370904325033   0.3332496548261579   \n",
              "3   0.2983490566037736  0.6631716906946264   0.3352325427322114   \n",
              "4   0.3034134007585335  0.6290956749672346   0.3384571992666761   \n",
              "\n",
              "                  TNR  \n",
              "0  0.8879252835223482  \n",
              "1    0.87614399023795  \n",
              "2  0.8687782805429864  \n",
              "3  0.8627869727709557  \n",
              "4  0.8575742325113236  "
            ]
          },
          "execution_count": 11,
          "metadata": {},
          "output_type": "execute_result"
        }
      ],
      "source": [
        "T_df = pd.DataFrame(np.array(all_rows), columns=full_df_columns)\n",
        "T_df.head()"
      ]
    },
    {
      "cell_type": "code",
      "execution_count": 12,
      "metadata": {},
      "outputs": [],
      "source": [
        "T_df_numeric_cols = full_df_columns[2:]\n",
        "T_df[T_df_numeric_cols] = T_df[T_df_numeric_cols].apply(pd.to_numeric)"
      ]
    },
    {
      "cell_type": "code",
      "execution_count": 13,
      "metadata": {},
      "outputs": [],
      "source": [
        "# with pd.ExcelWriter(f\"./{model_type}_T_analysis_manual.xlsx\", engine=\"openpyxl\", mode=\"w\") as writer:\n",
        "#     T_df.to_excel(writer, sheet_name=f\"{model_type}_T_analysis\", index_label='ID')"
      ]
    },
    {
      "cell_type": "markdown",
      "metadata": {},
      "source": [
        "# Plots"
      ]
    },
    {
      "cell_type": "code",
      "execution_count": 14,
      "metadata": {},
      "outputs": [
        {
          "data": {
            "image/png": "[encoded data removed]",
            "text/plain": [
              "<Figure size 1000x1000 with 4 Axes>"
            ]
          },
          "metadata": {},
          "output_type": "display_data"
        }
      ],
      "source": [
        "model_name = \"Vilt\"\n",
        "model_df = T_df.loc[T_df[\"model_name\"]==model_name]\n",
        "\n",
        "nrows, ncols = 2, 2\n",
        "\n",
        "fig, ax = plt.subplots(nrows=nrows, ncols=ncols, sharey=True, figsize=(10,10))\n",
        "\n",
        "\n",
        "plot_idx = 0\n",
        "for row_idx in range(nrows):\n",
        "    for col_idx in range(ncols):\n",
        "        Plot_name = Plot_names[plot_idx]\n",
        "        plot_idx += 1\n",
        "        for Prob in Probs:\n",
        "            curve = list(model_df.loc[model_df[\"P_type\"]==Prob][Plot_name])\n",
        "            ax[row_idx, col_idx].plot(thrs, curve, color=Porbs_colors[Prob], label=Prob)\n",
        "        ax[row_idx, col_idx].set_title(f\"{model_name} {Plot_name}\")\n",
        "        ax[row_idx, col_idx].legend(loc=\"upper right\")\n"
      ]
    },
    {
      "cell_type": "code",
      "execution_count": 15,
      "metadata": {},
      "outputs": [],
      "source": [
        "# Green 0.3\n",
        "# Blue 0.44~0.46\n",
        "# Red 0.48~0.5"
      ]
    },
    {
      "cell_type": "code",
      "execution_count": 16,
      "metadata": {},
      "outputs": [
        {
          "name": "stderr",
          "output_type": "stream",
          "text": [
            "No artists with labels found to put in legend.  Note that artists whose label start with an underscore are ignored when legend() is called with no argument.\n",
            "No artists with labels found to put in legend.  Note that artists whose label start with an underscore are ignored when legend() is called with no argument.\n",
            "No artists with labels found to put in legend.  Note that artists whose label start with an underscore are ignored when legend() is called with no argument.\n",
            "No artists with labels found to put in legend.  Note that artists whose label start with an underscore are ignored when legend() is called with no argument.\n"
          ]
        },
        {
          "data": {
            "image/png": "[encoded data removed]",
            "text/plain": [
              "<Figure size 1000x1000 with 4 Axes>"
            ]
          },
          "metadata": {},
          "output_type": "display_data"
        }
      ],
      "source": [
        "model_name = \"all\"\n",
        "model_df = T_df.loc[T_df[\"model_name\"]==model_name]\n",
        "\n",
        "thrs_list = [0.3, 0.44, 0.48]\n",
        "\n",
        "nrows, ncols = 2, 2\n",
        "\n",
        "fig, ax = plt.subplots(nrows=nrows, ncols=ncols, figsize=(10,10))\n",
        "\n",
        "\n",
        "plot_idx = 0\n",
        "for row_idx in range(nrows):\n",
        "    for col_idx in range(ncols):\n",
        "        Plot_name = Plot_names[plot_idx]\n",
        "        plot_idx += 1\n",
        "        values = list()\n",
        "        for idx in range(len(Probs)):\n",
        "            v = model_df.loc[(model_df[\"thr\"]==thrs_list[idx]) & (model_df[\"P_type\"]==Probs[idx])][Plot_name].values[0]\n",
        "            values.append(v)\n",
        "\n",
        "        ax[row_idx, col_idx].bar(Probs, values)\n",
        "\n",
        "        ax[row_idx, col_idx].set_title(f\"{model_name} {Plot_name}\")\n",
        "        ax[row_idx, col_idx].legend(loc=\"upper right\")"
      ]
    },
    {
      "cell_type": "markdown",
      "metadata": {},
      "source": [
        "# AUC and ROC threshold"
      ]
    },
    {
      "cell_type": "code",
      "execution_count": 17,
      "metadata": {},
      "outputs": [
        {
          "data": {
            "text/html": [
              "<div>\n",
              "<style scoped>\n",
              "    .dataframe tbody tr th:only-of-type {\n",
              "        vertical-align: middle;\n",
              "    }\n",
              "\n",
              "    .dataframe tbody tr th {\n",
              "        vertical-align: top;\n",
              "    }\n",
              "\n",
              "    .dataframe thead th {\n",
              "        text-align: right;\n",
              "    }\n",
              "</style>\n",
              "<table border=\"1\" class=\"dataframe\">\n",
              "  <thead>\n",
              "    <tr style=\"text-align: right;\">\n",
              "      <th></th>\n",
              "      <th>ID</th>\n",
              "      <th>model_name</th>\n",
              "      <th>P_type</th>\n",
              "      <th>thr</th>\n",
              "      <th>TP</th>\n",
              "      <th>TN</th>\n",
              "      <th>FP</th>\n",
              "      <th>FN</th>\n",
              "      <th>Acc</th>\n",
              "      <th>P</th>\n",
              "      <th>R</th>\n",
              "      <th>F</th>\n",
              "      <th>TNR</th>\n",
              "    </tr>\n",
              "  </thead>\n",
              "  <tbody>\n",
              "    <tr>\n",
              "      <th>0</th>\n",
              "      <td>0</td>\n",
              "      <td>Vilt</td>\n",
              "      <td>Prob</td>\n",
              "      <td>0.20</td>\n",
              "      <td>595</td>\n",
              "      <td>1331</td>\n",
              "      <td>1475</td>\n",
              "      <td>168</td>\n",
              "      <td>0.539647</td>\n",
              "      <td>0.287440</td>\n",
              "      <td>0.779817</td>\n",
              "      <td>0.328984</td>\n",
              "      <td>0.887925</td>\n",
              "    </tr>\n",
              "    <tr>\n",
              "      <th>1</th>\n",
              "      <td>1</td>\n",
              "      <td>Vilt</td>\n",
              "      <td>Prob</td>\n",
              "      <td>0.22</td>\n",
              "      <td>560</td>\n",
              "      <td>1436</td>\n",
              "      <td>1370</td>\n",
              "      <td>203</td>\n",
              "      <td>0.559260</td>\n",
              "      <td>0.290155</td>\n",
              "      <td>0.733945</td>\n",
              "      <td>0.330072</td>\n",
              "      <td>0.876144</td>\n",
              "    </tr>\n",
              "    <tr>\n",
              "      <th>2</th>\n",
              "      <td>2</td>\n",
              "      <td>Vilt</td>\n",
              "      <td>Prob</td>\n",
              "      <td>0.24</td>\n",
              "      <td>531</td>\n",
              "      <td>1536</td>\n",
              "      <td>1270</td>\n",
              "      <td>232</td>\n",
              "      <td>0.579154</td>\n",
              "      <td>0.294836</td>\n",
              "      <td>0.695937</td>\n",
              "      <td>0.333250</td>\n",
              "      <td>0.868778</td>\n",
              "    </tr>\n",
              "    <tr>\n",
              "      <th>3</th>\n",
              "      <td>3</td>\n",
              "      <td>Vilt</td>\n",
              "      <td>Prob</td>\n",
              "      <td>0.26</td>\n",
              "      <td>506</td>\n",
              "      <td>1616</td>\n",
              "      <td>1190</td>\n",
              "      <td>257</td>\n",
              "      <td>0.594564</td>\n",
              "      <td>0.298349</td>\n",
              "      <td>0.663172</td>\n",
              "      <td>0.335233</td>\n",
              "      <td>0.862787</td>\n",
              "    </tr>\n",
              "    <tr>\n",
              "      <th>4</th>\n",
              "      <td>4</td>\n",
              "      <td>Vilt</td>\n",
              "      <td>Prob</td>\n",
              "      <td>0.28</td>\n",
              "      <td>480</td>\n",
              "      <td>1704</td>\n",
              "      <td>1102</td>\n",
              "      <td>283</td>\n",
              "      <td>0.611936</td>\n",
              "      <td>0.303413</td>\n",
              "      <td>0.629096</td>\n",
              "      <td>0.338457</td>\n",
              "      <td>0.857574</td>\n",
              "    </tr>\n",
              "  </tbody>\n",
              "</table>\n",
              "</div>"
            ],
            "text/plain": [
              "   ID model_name P_type   thr   TP    TN    FP   FN       Acc         P  \\\n",
              "0   0       Vilt   Prob  0.20  595  1331  1475  168  0.539647  0.287440   \n",
              "1   1       Vilt   Prob  0.22  560  1436  1370  203  0.559260  0.290155   \n",
              "2   2       Vilt   Prob  0.24  531  1536  1270  232  0.579154  0.294836   \n",
              "3   3       Vilt   Prob  0.26  506  1616  1190  257  0.594564  0.298349   \n",
              "4   4       Vilt   Prob  0.28  480  1704  1102  283  0.611936  0.303413   \n",
              "\n",
              "          R         F       TNR  \n",
              "0  0.779817  0.328984  0.887925  \n",
              "1  0.733945  0.330072  0.876144  \n",
              "2  0.695937  0.333250  0.868778  \n",
              "3  0.663172  0.335233  0.862787  \n",
              "4  0.629096  0.338457  0.857574  "
            ]
          },
          "execution_count": 17,
          "metadata": {},
          "output_type": "execute_result"
        }
      ],
      "source": [
        "df = pd.read_excel(f\"./{model_type}_T_analysis_manual.xlsx\", sheet_name=f\"{model_type}_T_analysis\",\n",
        "                    dtype=numeric_cols_dtype)\n",
        "\n",
        "df.head()"
      ]
    },
    {
      "cell_type": "code",
      "execution_count": 18,
      "metadata": {},
      "outputs": [],
      "source": [
        "all_rows = list()\n",
        "for model_name in model_names+[\"all\"]:\n",
        "    # print(model_name)\n",
        "    model_df = data.loc[(data[\"valid\"]==1)]\n",
        "    if model_name!=\"all\": model_df=model_df.loc[(model_df[\"model_name\"]==model_name)]\n",
        "    correct_col = np.array(model_df[\"correct\"]).astype(np.int32)\n",
        "    for P_type in Probs:\n",
        "        P_col = np.array(model_df[P_type]).astype(np.float64)\n",
        "        roc_auc = roc_auc_score(correct_col, P_col)\n",
        "        # print(f\"{P}\\t{roc_auc}\")\n",
        "        \n",
        "        FP_rate, TP_rate, P_thrs = roc_curve(correct_col, P_col)\n",
        "        P_thrs_optimal = sorted(list(zip(np.abs(TP_rate - FP_rate), P_thrs)), key=lambda i: i[0], reverse=True)[0][1] # Youden's index\n",
        "        # print(f\"{P}\\t{P_thrs_median}\")\n",
        "        model_P_correct = np.where(P_col>=P_thrs_optimal,1,0)\n",
        "        TN, FP, FN, TP = confusion_matrix(correct_col, model_P_correct).ravel()\n",
        "        Acc, P, R, F, TNR = calculate_metrics(TN, FP, FN, TP, f_beta=0.5)\n",
        "        # \"model_name\", \"P_type\", \"optimal_thr\", \"TP\", \"TN\", \"FP\", \"FN\", \"Acc\", \"P\", \"R\", \"F\", \"TNR\", \"roc_auc\"\n",
        "        row = [model_name, P_type, P_thrs_optimal, TP, TN, FP, FN, Acc, P, R, F, TNR, roc_auc]\n",
        "        all_rows.append(row)\n"
      ]
    },
    {
      "cell_type": "code",
      "execution_count": 19,
      "metadata": {},
      "outputs": [],
      "source": [
        "auc_df_num_cols = [\"optimal_thr\", \"TP\", \"TN\", \"FP\", \"FN\", \"Acc\", \"P\", \"R\", \"F\", \"TNR\", \"roc_auc\"]\n",
        "auc_df_cols = [\"model_name\", \"P_type\"] + auc_df_num_cols"
      ]
    },
    {
      "cell_type": "code",
      "execution_count": 20,
      "metadata": {},
      "outputs": [],
      "source": [
        "# numeric_cols_dtype = dict()\n",
        "# for c in auc_df_num_cols: numeric_cols_dtype[c]=float\n",
        "# numeric_cols_dtype"
      ]
    },
    {
      "cell_type": "code",
      "execution_count": 21,
      "metadata": {},
      "outputs": [],
      "source": [
        "auc_df = pd.DataFrame(all_rows, columns=auc_df_cols)\n",
        "auc_df[auc_df_num_cols] = auc_df[auc_df_num_cols].apply(pd.to_numeric)"
      ]
    },
    {
      "cell_type": "code",
      "execution_count": 22,
      "metadata": {},
      "outputs": [],
      "source": [
        "# with pd.ExcelWriter(f\"./{model_type}_T_AUC_ROC_manual.xlsx\", engine=\"openpyxl\", mode=\"w\") as writer:\n",
        "#     auc_df.to_excel(writer, sheet_name=f\"{model_type}_T_AUC_ROC\", index_label='ID')"
      ]
    },
    {
      "cell_type": "code",
      "execution_count": null,
      "metadata": {},
      "outputs": [],
      "source": []
    }
  ],
  "metadata": {
    "colab": {
      "provenance": []
    },
    "kernelspec": {
      "display_name": "transformers",
      "language": "python",
      "name": "python3"
    },
    "language_info": {
      "codemirror_mode": {
        "name": "ipython",
        "version": 3
      },
      "file_extension": ".py",
      "mimetype": "text/x-python",
      "name": "python",
      "nbconvert_exporter": "python",
      "pygments_lexer": "ipython3",
      "version": "3.9.1"
    }
  },
  "nbformat": 4,
  "nbformat_minor": 0
}
